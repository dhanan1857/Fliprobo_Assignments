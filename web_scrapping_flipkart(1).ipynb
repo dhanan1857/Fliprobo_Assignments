{
 "cells": [
  {
   "cell_type": "code",
   "execution_count": 1,
   "metadata": {},
   "outputs": [],
   "source": [
    "import os"
   ]
  },
  {
   "cell_type": "code",
   "execution_count": 2,
   "metadata": {},
   "outputs": [],
   "source": [
    "os.chdir('F:/Data_Trained/Flip robo/flipkart')"
   ]
  },
  {
   "cell_type": "code",
   "execution_count": 3,
   "metadata": {},
   "outputs": [
    {
     "data": {
      "text/plain": [
       "'F:\\\\Data_Trained\\\\Flip robo\\\\flipkart'"
      ]
     },
     "execution_count": 3,
     "metadata": {},
     "output_type": "execute_result"
    }
   ],
   "source": [
    "os.getcwd()"
   ]
  },
  {
   "cell_type": "code",
   "execution_count": 4,
   "metadata": {},
   "outputs": [],
   "source": [
    "from selenium import webdriver\n",
    "import pandas as pd"
   ]
  },
  {
   "cell_type": "code",
   "execution_count": 5,
   "metadata": {},
   "outputs": [],
   "source": [
    "driver=webdriver.Chrome(executable_path='chromedriver.exe')"
   ]
  },
  {
   "cell_type": "code",
   "execution_count": 6,
   "metadata": {},
   "outputs": [],
   "source": [
    "driver.get('https://www.flipkart.com/search?q=trouser&sid=clo%2Cvua%2Cmle%2Clhk&as=on&as-show=on&otracker=AS_QueryStore_OrganicAutoSuggest_1_7_na_na_na&otracker1=AS_QueryStore_OrganicAutoSuggest_1_7_na_na_na&as-pos=1&as-type=RECENT&suggestionId=trouser%7CMen%27s+Trousers&requestId=e1edd47b-449f-41c7-8508-8f36e66c3f22&as-searchtext=trouser')"
   ]
  },
  {
   "cell_type": "code",
   "execution_count": 8,
   "metadata": {},
   "outputs": [],
   "source": [
    "# making directory to store image\n",
    "def make_directory(dirname):\n",
    "    current_path=os.getcwd()\n",
    "    path=os.path.join(current_path,dirname)\n",
    "    if not os.path.exists(path):\n",
    "        os.makedirs(path)"
   ]
  },
  {
   "cell_type": "code",
   "execution_count": 9,
   "metadata": {},
   "outputs": [],
   "source": [
    "make_directory('men_casual')"
   ]
  },
  {
   "cell_type": "code",
   "execution_count": 10,
   "metadata": {},
   "outputs": [],
   "source": [
    "# Scrapping image URL\n",
    "images=driver.find_elements_by_xpath(\"//img[@class='_3togXc']\")"
   ]
  },
  {
   "cell_type": "code",
   "execution_count": 11,
   "metadata": {},
   "outputs": [
    {
     "name": "stdout",
     "output_type": "stream",
     "text": [
      "<selenium.webdriver.remote.webelement.WebElement (session=\"d318d720abb2795a76da291b15e8a664\", element=\"9225e095-533e-49e1-bb40-ad8da4687711\")>\n"
     ]
    }
   ],
   "source": [
    "print(images[0])"
   ]
  },
  {
   "cell_type": "code",
   "execution_count": 12,
   "metadata": {},
   "outputs": [
    {
     "name": "stdout",
     "output_type": "stream",
     "text": [
      "https://rukminim1.flixcart.com/image/329/395/k6jnfrk0/trouser/f/6/v/32-petfmnsp559465-peter-england-original-imafzzkfgn2fgz5h.jpeg?q=50\n",
      "https://rukminim1.flixcart.com/image/329/395/jz1l7rk0/trouser/j/u/s/30-astfwcrfo87872-allen-solly-original-imafj5keas9kbqu7.jpeg?q=50\n",
      "https://rukminim1.flixcart.com/image/329/395/k7f34i80/trouser/k/t/5/28-vrocp-gy-vrojass-original-imafpz4grpxubdwa.jpeg?q=50\n",
      "https://rukminim1.flixcart.com/image/329/395/k70spzk0/trouser/a/n/t/30-hltr004082-highlander-original-imafpchr9cvjh4ta.jpeg?q=50\n",
      "https://rukminim1.flixcart.com/image/329/395/jvwpfgw0/trouser/e/w/k/30-t-130-trouser-baleno-black-aa-ad-av-original-imafgm8ytr4c7yez.jpeg?q=50\n",
      "https://rukminim1.flixcart.com/image/329/395/k70spzk0/trouser/w/a/h/30-hltr003966-highlander-original-imafpchqendfwsse.jpeg?q=50\n",
      "https://rukminim1.flixcart.com/image/329/395/jwaztzk0/trouser/t/w/c/40-t-127-trouser-baleno-cream-aa-ad-av-original-imafhyt5ane2grs5.jpeg?q=50\n",
      "https://rukminim1.flixcart.com/image/329/395/k70spzk0/trouser/e/r/p/30-hltr003917-highlander-original-imafpchqzbuvcgay.jpeg?q=50\n",
      "https://rukminim1.flixcart.com/image/329/395/k70spzk0/trouser/a/2/g/30-hltr003909-highlander-original-imafpchtbrkknm56.jpeg?q=50\n",
      "https://rukminim1.flixcart.com/image/329/395/jxf05u80/trouser/3/k/w/40-combo-trouser-baleno-blackand-coffi-aa-ad-av-original-imafhuqytz4bfyzf.jpeg?q=50\n",
      "https://rukminim1.flixcart.com/image/329/395/k70spzk0/trouser/v/g/z/30-hltr003942-highlander-original-imafpchtkggqrndp.jpeg?q=50\n",
      "https://rukminim1.flixcart.com/image/329/395/trouser/r/6/a/40-blackbelano-aa-ad-av-original-imaeqbhmgqwphbqb.jpeg?q=50\n",
      "https://rukminim1.flixcart.com/image/329/395/k70spzk0/trouser/b/w/d/30-hltr004080-highlander-original-imafpchrysetnh7u.jpeg?q=50\n",
      "https://rukminim1.flixcart.com/image/329/395/k70spzk0/trouser/h/k/u/30-hltr003959-highlander-original-imafpchqmyqyxf8h.jpeg?q=50\n",
      "https://rukminim1.flixcart.com/image/329/395/jxnksy80/trouser/u/d/w/38-combo-trouser-baleno-black-and-cream-bb-ad-av-original-imafgy9h8wabdg6j.jpeg?q=50\n",
      "https://rukminim1.flixcart.com/image/329/395/k7f34i80/trouser/b/w/u/36-vrocp-mg-vrojass-original-imafpz4ghzrrkcyg.jpeg?q=50\n",
      "https://rukminim1.flixcart.com/image/329/395/kb6tyfk0/trouser/h/j/n/32-putfusspo48518-peter-england-university-original-imafsk52vg98nnph.jpeg?q=50\n",
      "https://rukminim1.flixcart.com/image/329/395/kbnz8nk0/trouser/a/v/f/38-tnvnrowpant1-tripr-original-imafsynurnyx3esq.jpeg?q=50\n",
      "https://rukminim1.flixcart.com/image/329/395/k79dd3k0/trouser/f/h/n/34-petfmctpo39294-peter-england-original-imafpjkagbmythq8.jpeg?q=50\n",
      "https://rukminim1.flixcart.com/image/329/395/k3ahbww0/trouser/k/x/v/32-rctl00428-k8-raymond-original-imafmdfhwshttkyq.jpeg?q=50\n",
      "https://rukminim1.flixcart.com/image/329/395/k5r2mq80/trouser/8/n/m/30-hltr003782khaki-highlander-original-imafzd2h4a8uatzk.jpeg?q=50\n",
      "https://rukminim1.flixcart.com/image/329/395/k0zlsi80/trouser/a/n/e/30-chino-skyblue-01-urbano-fashion-original-imafknqkghah8n9f.jpeg?q=50\n",
      "https://rukminim1.flixcart.com/image/329/395/k52s58w0/trouser/g/r/n/32-440968033beige-john-players-original-imafntuckcjaqzk2.jpeg?q=50\n",
      "https://rukminim1.flixcart.com/image/329/395/k34rki80/trouser/k/j/h/32-lytfcctfs36958-louis-philippe-sport-original-imafmc5jhjes9c4p.jpeg?q=50\n",
      "https://rukminim1.flixcart.com/image/329/395/k70spzk0/trouser/m/k/c/30-hltr003862-highlander-original-imafpcht4d48ngmc.jpeg?q=50\n",
      "https://rukminim1.flixcart.com/image/329/395/jfvfjbk0/trouser/y/x/t/28-packof-3-greendart-blue-black-grey-aa-ad-av-original-imaf48udg67ffnzm.jpeg?q=50\n",
      "https://rukminim1.flixcart.com/image/329/395/k70spzk0/trouser/v/j/p/30-hltr003969-highlander-original-imafpchqvzrtffhb.jpeg?q=50\n",
      "https://rukminim1.flixcart.com/image/329/395/jqwny4w0/trouser/a/7/y/34-984-mens-trouser-chexblue-aa-ad-av-original-imafcthjrmshqc8g.jpeg?q=50\n",
      "https://rukminim1.flixcart.com/image/329/395/jxf05u80/trouser/k/6/z/32-combo-trouser-gd-black-and-grey-aa-ad-av-original-imafhus9jaspawxf.jpeg?q=50\n",
      "https://rukminim1.flixcart.com/image/329/395/k3ncakw0/trouser/7/u/w/32-pcty00369-n7-park-avenue-original-imafmncm24sazaeh.jpeg?q=50\n",
      "https://rukminim1.flixcart.com/image/329/395/k70spzk0/trouser/f/t/c/30-hltr004079-highlander-original-imafpchrt3za5p2x.jpeg?q=50\n",
      "https://rukminim1.flixcart.com/image/329/395/k70spzk0/trouser/g/y/4/30-hltr003847-highlander-original-imafpchty4y6pndz.jpeg?q=50\n",
      "https://rukminim1.flixcart.com/image/329/395/k6s82vk0/trouser/4/z/k/32-putfusspw77086-peter-england-university-original-imafpyk2enuevmzh.jpeg?q=50\n",
      "https://rukminim1.flixcart.com/image/329/395/jsc3ssw0/trouser/3/m/n/32-astfwcrhh06029-allen-solly-original-imafdwqah99sz9nj.jpeg?q=50\n",
      "https://rukminim1.flixcart.com/image/329/395/k79dd3k0/trouser/f/b/w/34-petfmnsp959289-peter-england-original-imafpjkajnmq79uk.jpeg?q=50\n",
      "https://rukminim1.flixcart.com/image/329/395/k687wy80/trouser/w/x/z/28-pctfcsspi07520-peter-england-original-imafzpzwvhgcyzek.jpeg?q=50\n",
      "https://rukminim1.flixcart.com/image/329/395/k70spzk0/trouser/q/b/n/30-hltr003941-highlander-original-imafpcht6fpfzbgw.jpeg?q=50\n",
      "https://rukminim1.flixcart.com/image/329/395/kb9ou4w0/trouser/h/f/t/30-pctfcsspt40443-peter-england-original-imafsnpdchyztdyk.jpeg?q=50\n",
      "https://rukminim1.flixcart.com/image/329/395/kbnz8nk0/trouser/5/a/x/34-tcrmnrowpant-tripr-original-imafsynuyupzwsh2.jpeg?q=50\n",
      "https://rukminim1.flixcart.com/image/329/395/k0zlsi80/trouser/s/y/b/32-ustro7005-u-s-polo-association-original-imafkz6kgrkpxbzp.jpeg?q=50\n"
     ]
    }
   ],
   "source": [
    "urls=[]\n",
    "for image in images:\n",
    "    source=image.get_attribute('src')\n",
    "    urls.append(source)\n",
    "    print(source)"
   ]
  },
  {
   "cell_type": "code",
   "execution_count": 13,
   "metadata": {},
   "outputs": [
    {
     "data": {
      "text/plain": [
       "40"
      ]
     },
     "execution_count": 13,
     "metadata": {},
     "output_type": "execute_result"
    }
   ],
   "source": [
    "len(urls)"
   ]
  },
  {
   "cell_type": "code",
   "execution_count": 14,
   "metadata": {},
   "outputs": [
    {
     "data": {
      "text/plain": [
       "['https://rukminim1.flixcart.com/image/329/395/k6jnfrk0/trouser/f/6/v/32-petfmnsp559465-peter-england-original-imafzzkfgn2fgz5h.jpeg?q=50',\n",
       " 'https://rukminim1.flixcart.com/image/329/395/jz1l7rk0/trouser/j/u/s/30-astfwcrfo87872-allen-solly-original-imafj5keas9kbqu7.jpeg?q=50',\n",
       " 'https://rukminim1.flixcart.com/image/329/395/k7f34i80/trouser/k/t/5/28-vrocp-gy-vrojass-original-imafpz4grpxubdwa.jpeg?q=50',\n",
       " 'https://rukminim1.flixcart.com/image/329/395/k70spzk0/trouser/a/n/t/30-hltr004082-highlander-original-imafpchr9cvjh4ta.jpeg?q=50',\n",
       " 'https://rukminim1.flixcart.com/image/329/395/jvwpfgw0/trouser/e/w/k/30-t-130-trouser-baleno-black-aa-ad-av-original-imafgm8ytr4c7yez.jpeg?q=50',\n",
       " 'https://rukminim1.flixcart.com/image/329/395/k70spzk0/trouser/w/a/h/30-hltr003966-highlander-original-imafpchqendfwsse.jpeg?q=50',\n",
       " 'https://rukminim1.flixcart.com/image/329/395/jwaztzk0/trouser/t/w/c/40-t-127-trouser-baleno-cream-aa-ad-av-original-imafhyt5ane2grs5.jpeg?q=50',\n",
       " 'https://rukminim1.flixcart.com/image/329/395/k70spzk0/trouser/e/r/p/30-hltr003917-highlander-original-imafpchqzbuvcgay.jpeg?q=50',\n",
       " 'https://rukminim1.flixcart.com/image/329/395/k70spzk0/trouser/a/2/g/30-hltr003909-highlander-original-imafpchtbrkknm56.jpeg?q=50',\n",
       " 'https://rukminim1.flixcart.com/image/329/395/jxf05u80/trouser/3/k/w/40-combo-trouser-baleno-blackand-coffi-aa-ad-av-original-imafhuqytz4bfyzf.jpeg?q=50',\n",
       " 'https://rukminim1.flixcart.com/image/329/395/k70spzk0/trouser/v/g/z/30-hltr003942-highlander-original-imafpchtkggqrndp.jpeg?q=50',\n",
       " 'https://rukminim1.flixcart.com/image/329/395/trouser/r/6/a/40-blackbelano-aa-ad-av-original-imaeqbhmgqwphbqb.jpeg?q=50',\n",
       " 'https://rukminim1.flixcart.com/image/329/395/k70spzk0/trouser/b/w/d/30-hltr004080-highlander-original-imafpchrysetnh7u.jpeg?q=50',\n",
       " 'https://rukminim1.flixcart.com/image/329/395/k70spzk0/trouser/h/k/u/30-hltr003959-highlander-original-imafpchqmyqyxf8h.jpeg?q=50',\n",
       " 'https://rukminim1.flixcart.com/image/329/395/jxnksy80/trouser/u/d/w/38-combo-trouser-baleno-black-and-cream-bb-ad-av-original-imafgy9h8wabdg6j.jpeg?q=50',\n",
       " 'https://rukminim1.flixcart.com/image/329/395/k7f34i80/trouser/b/w/u/36-vrocp-mg-vrojass-original-imafpz4ghzrrkcyg.jpeg?q=50',\n",
       " 'https://rukminim1.flixcart.com/image/329/395/kb6tyfk0/trouser/h/j/n/32-putfusspo48518-peter-england-university-original-imafsk52vg98nnph.jpeg?q=50',\n",
       " 'https://rukminim1.flixcart.com/image/329/395/kbnz8nk0/trouser/a/v/f/38-tnvnrowpant1-tripr-original-imafsynurnyx3esq.jpeg?q=50',\n",
       " 'https://rukminim1.flixcart.com/image/329/395/k79dd3k0/trouser/f/h/n/34-petfmctpo39294-peter-england-original-imafpjkagbmythq8.jpeg?q=50',\n",
       " 'https://rukminim1.flixcart.com/image/329/395/k3ahbww0/trouser/k/x/v/32-rctl00428-k8-raymond-original-imafmdfhwshttkyq.jpeg?q=50',\n",
       " 'https://rukminim1.flixcart.com/image/329/395/k5r2mq80/trouser/8/n/m/30-hltr003782khaki-highlander-original-imafzd2h4a8uatzk.jpeg?q=50',\n",
       " 'https://rukminim1.flixcart.com/image/329/395/k0zlsi80/trouser/a/n/e/30-chino-skyblue-01-urbano-fashion-original-imafknqkghah8n9f.jpeg?q=50',\n",
       " 'https://rukminim1.flixcart.com/image/329/395/k52s58w0/trouser/g/r/n/32-440968033beige-john-players-original-imafntuckcjaqzk2.jpeg?q=50',\n",
       " 'https://rukminim1.flixcart.com/image/329/395/k34rki80/trouser/k/j/h/32-lytfcctfs36958-louis-philippe-sport-original-imafmc5jhjes9c4p.jpeg?q=50',\n",
       " 'https://rukminim1.flixcart.com/image/329/395/k70spzk0/trouser/m/k/c/30-hltr003862-highlander-original-imafpcht4d48ngmc.jpeg?q=50',\n",
       " 'https://rukminim1.flixcart.com/image/329/395/jfvfjbk0/trouser/y/x/t/28-packof-3-greendart-blue-black-grey-aa-ad-av-original-imaf48udg67ffnzm.jpeg?q=50',\n",
       " 'https://rukminim1.flixcart.com/image/329/395/k70spzk0/trouser/v/j/p/30-hltr003969-highlander-original-imafpchqvzrtffhb.jpeg?q=50',\n",
       " 'https://rukminim1.flixcart.com/image/329/395/jqwny4w0/trouser/a/7/y/34-984-mens-trouser-chexblue-aa-ad-av-original-imafcthjrmshqc8g.jpeg?q=50',\n",
       " 'https://rukminim1.flixcart.com/image/329/395/jxf05u80/trouser/k/6/z/32-combo-trouser-gd-black-and-grey-aa-ad-av-original-imafhus9jaspawxf.jpeg?q=50',\n",
       " 'https://rukminim1.flixcart.com/image/329/395/k3ncakw0/trouser/7/u/w/32-pcty00369-n7-park-avenue-original-imafmncm24sazaeh.jpeg?q=50',\n",
       " 'https://rukminim1.flixcart.com/image/329/395/k70spzk0/trouser/f/t/c/30-hltr004079-highlander-original-imafpchrt3za5p2x.jpeg?q=50',\n",
       " 'https://rukminim1.flixcart.com/image/329/395/k70spzk0/trouser/g/y/4/30-hltr003847-highlander-original-imafpchty4y6pndz.jpeg?q=50',\n",
       " 'https://rukminim1.flixcart.com/image/329/395/k6s82vk0/trouser/4/z/k/32-putfusspw77086-peter-england-university-original-imafpyk2enuevmzh.jpeg?q=50',\n",
       " 'https://rukminim1.flixcart.com/image/329/395/jsc3ssw0/trouser/3/m/n/32-astfwcrhh06029-allen-solly-original-imafdwqah99sz9nj.jpeg?q=50',\n",
       " 'https://rukminim1.flixcart.com/image/329/395/k79dd3k0/trouser/f/b/w/34-petfmnsp959289-peter-england-original-imafpjkajnmq79uk.jpeg?q=50',\n",
       " 'https://rukminim1.flixcart.com/image/329/395/k687wy80/trouser/w/x/z/28-pctfcsspi07520-peter-england-original-imafzpzwvhgcyzek.jpeg?q=50',\n",
       " 'https://rukminim1.flixcart.com/image/329/395/k70spzk0/trouser/q/b/n/30-hltr003941-highlander-original-imafpcht6fpfzbgw.jpeg?q=50',\n",
       " 'https://rukminim1.flixcart.com/image/329/395/kb9ou4w0/trouser/h/f/t/30-pctfcsspt40443-peter-england-original-imafsnpdchyztdyk.jpeg?q=50',\n",
       " 'https://rukminim1.flixcart.com/image/329/395/kbnz8nk0/trouser/5/a/x/34-tcrmnrowpant-tripr-original-imafsynuyupzwsh2.jpeg?q=50',\n",
       " 'https://rukminim1.flixcart.com/image/329/395/k0zlsi80/trouser/s/y/b/32-ustro7005-u-s-polo-association-original-imafkz6kgrkpxbzp.jpeg?q=50']"
      ]
     },
     "execution_count": 14,
     "metadata": {},
     "output_type": "execute_result"
    }
   ],
   "source": [
    "urls"
   ]
  },
  {
   "cell_type": "code",
   "execution_count": 15,
   "metadata": {},
   "outputs": [],
   "source": [
    "# Using urls to download image\n",
    "import shutil\n",
    "import requests"
   ]
  },
  {
   "cell_type": "code",
   "execution_count": 16,
   "metadata": {},
   "outputs": [
    {
     "name": "stdout",
     "output_type": "stream",
     "text": [
      "Downloading 1 of 40 images\n",
      "Downloading 2 of 40 images\n",
      "Downloading 3 of 40 images\n",
      "Downloading 4 of 40 images\n",
      "Downloading 5 of 40 images\n",
      "Downloading 6 of 40 images\n",
      "Downloading 7 of 40 images\n",
      "Downloading 8 of 40 images\n",
      "Downloading 9 of 40 images\n",
      "Downloading 10 of 40 images\n",
      "Downloading 11 of 40 images\n",
      "Downloading 12 of 40 images\n",
      "Downloading 13 of 40 images\n",
      "Downloading 14 of 40 images\n",
      "Downloading 15 of 40 images\n",
      "Downloading 16 of 40 images\n",
      "Downloading 17 of 40 images\n",
      "Downloading 18 of 40 images\n",
      "Downloading 19 of 40 images\n",
      "Downloading 20 of 40 images\n",
      "Downloading 21 of 40 images\n",
      "Downloading 22 of 40 images\n",
      "Downloading 23 of 40 images\n",
      "Downloading 24 of 40 images\n",
      "Downloading 25 of 40 images\n",
      "Downloading 26 of 40 images\n",
      "Downloading 27 of 40 images\n",
      "Downloading 28 of 40 images\n",
      "Downloading 29 of 40 images\n",
      "Downloading 30 of 40 images\n",
      "Downloading 31 of 40 images\n",
      "Downloading 32 of 40 images\n",
      "Downloading 33 of 40 images\n",
      "Downloading 34 of 40 images\n",
      "Downloading 35 of 40 images\n",
      "Downloading 36 of 40 images\n",
      "Downloading 37 of 40 images\n",
      "Downloading 38 of 40 images\n",
      "Downloading 39 of 40 images\n",
      "Downloading 40 of 40 images\n"
     ]
    }
   ],
   "source": [
    "for index,link in enumerate(urls):\n",
    "    print('Downloading {0} of {1} images'.format(index+1,len(urls)))\n",
    "    response=requests.get(link)\n",
    "    with open('men_casual/img_{0}.jpeg'.format(index),\"wb\") as file:\n",
    "        file.write(response.content)"
   ]
  },
  {
   "cell_type": "code",
   "execution_count": 70,
   "metadata": {},
   "outputs": [],
   "source": [
    "driver.get('https://www.flipkart.com/search?q=trouser&sid=clo%2Cvua%2Cmle%2Clhk&as=on&as-show=on&otracker=AS_QueryStore_OrganicAutoSuggest_1_7_na_na_na&otracker1=AS_QueryStore_OrganicAutoSuggest_1_7_na_na_na&as-pos=1&as-type=RECENT&suggestionId=trouser%7CMen%27s+Trousers&requestId=e1edd47b-449f-41c7-8508-8f36e66c3f22&as-searchtext=trouser&page=2')"
   ]
  },
  {
   "cell_type": "code",
   "execution_count": null,
   "metadata": {},
   "outputs": [],
   "source": [
    "make_directory('men_ethnic1')"
   ]
  },
  {
   "cell_type": "code",
   "execution_count": 72,
   "metadata": {},
   "outputs": [],
   "source": [
    "# Scrapping image URL\n",
    "images1=driver.find_elements_by_xpath(\"//img[@class='_3togXc']\")"
   ]
  },
  {
   "cell_type": "code",
   "execution_count": 73,
   "metadata": {},
   "outputs": [
    {
     "name": "stdout",
     "output_type": "stream",
     "text": [
      "https://rukminim1.flixcart.com/image/309/371/k70spzk0/trouser/b/w/d/30-hltr004080-highlander-original-imafpchrysetnh7u.jpeg?q=50\n",
      "https://rukminim1.flixcart.com/image/309/371/kb2jmvk0/trouser/r/z/q/32-packof2-baleno-green-coffi-aa-ad-av-original-imafsg27kryrhzu9.jpeg?q=50\n",
      "https://rukminim1.flixcart.com/image/309/371/k6nxrbk0/trouser/4/y/p/28-kctr-5555-nb-fubar-original-imafp2j6cphgy9xf.jpeg?q=50\n",
      "https://rukminim1.flixcart.com/image/309/371/jvwpfgw0/trouser/e/w/k/30-t-130-trouser-baleno-black-aa-ad-av-original-imafgm8ytr4c7yez.jpeg?q=50\n",
      "https://rukminim1.flixcart.com/image/309/371/kb2jmvk0/trouser/g/u/k/44-t353-trouser-baleno-sgrey-aa36-ad-av-original-imafsgerqwzmehgs.jpeg?q=50\n",
      "https://rukminim1.flixcart.com/image/309/371/k70spzk0/trouser/g/z/d/30-hltr003911-highlander-original-imafpchthbbndkac.jpeg?q=50\n",
      "https://rukminim1.flixcart.com/image/309/371/k6jnfrk0/trouser/f/6/v/32-petfmnsp559465-peter-england-original-imafzzkfgn2fgz5h.jpeg?q=50\n",
      "https://rukminim1.flixcart.com/image/309/371/jxnksy80/trouser/u/d/w/38-combo-trouser-baleno-black-and-cream-bb-ad-av-original-imafgy9h8wabdg6j.jpeg?q=50\n",
      "https://rukminim1.flixcart.com/image/309/371/j1qqs280/trouser/q/4/2/44-236-2by2-coffi-bb-ad-av-original-imaet6zm3vuwshuv.jpeg?q=50\n",
      "https://rukminim1.flixcart.com/image/309/371/k7f34i80/trouser/b/w/u/36-vrocp-mg-vrojass-original-imafpz4ghzrrkcyg.jpeg?q=50\n",
      "https://rukminim1.flixcart.com/image/309/371/k29bvrk0/trouser/f/2/w/36-vdtfepof043309-van-heusen-original-imafhnh948gkb3qw.jpeg?q=50\n",
      "https://rukminim1.flixcart.com/image/309/371/k5y7tzk0/track-pant/n/p/w/m-pant4016-crease-clips-original-imafz27hzjpsf4yj.jpeg?q=50\n",
      "https://rukminim1.flixcart.com/image/309/371/trouser/w/4/c/gdblueandblack-ad-av-38-original-imaeeycfxkcz5mde.jpeg?q=50\n",
      "https://rukminim1.flixcart.com/image/309/371/jrcdsi80/trouser/c/c/v/34-riddhisiddhitiku1-classio-fashion-original-imafd4nrandkf9ye.jpeg?q=50\n",
      "https://rukminim1.flixcart.com/image/309/371/jwaztzk0/trouser/8/j/y/34-t-129-trouser-baleno-coffi-aa-ad-av-original-imafgm8qarxbgnjy.jpeg?q=50\n",
      "https://rukminim1.flixcart.com/image/309/371/kay9bbk0/trouser/a/k/d/28-combo-baleno-black-nevy-aa-ad-av-original-imafsff9zsfxeya7.jpeg?q=50\n",
      "https://rukminim1.flixcart.com/image/309/371/jfvfjbk0/trouser/y/x/t/28-packof-3-greendart-blue-black-grey-aa-ad-av-original-imaf48udg67ffnzm.jpeg?q=50\n",
      "https://rukminim1.flixcart.com/image/309/371/k70spzk0/trouser/k/y/v/30-hltr004103-highlander-original-imafpchrzcdghb7n.jpeg?q=50\n",
      "https://rukminim1.flixcart.com/image/309/371/k6nxrbk0/trouser/y/u/f/28-kctr-5555-crm-fubar-original-imafp2j6pdqymytg.jpeg?q=50\n",
      "https://rukminim1.flixcart.com/image/309/371/k73nlow0/trouser/b/e/c/30-t332-tr-cotton-skyblue-aa-ad-av-original-imafpf9tygyqybxn.jpeg?q=50\n",
      "https://rukminim1.flixcart.com/image/309/371/j2hw58w0/trouser/c/j/v/30-chino-ben-martin-original-imaetu4mhmvgaery.jpeg?q=50\n",
      "https://rukminim1.flixcart.com/image/309/371/kb2jmvk0/trouser/g/u/k/44-t353-trouser-baleno-sgrey-aa36-ad-av-original-imafsgerqwzmehgs.jpeg?q=50\n",
      "https://rukminim1.flixcart.com/image/309/371/k7f34i80/trouser/k/t/5/28-vrocp-gy-vrojass-original-imafpz4grpxubdwa.jpeg?q=50\n",
      "https://rukminim1.flixcart.com/image/309/371/jrjizrk0/trouser/u/r/v/30-siddhi1-classio-fashion-original-imafda4vt4tcbq79.jpeg?q=50\n",
      "https://rukminim1.flixcart.com/image/309/371/k1dw70w0/trouser/8/y/4/40-combo-double-classio-fashion-original-imafkevnprqcn9vn.jpeg?q=50\n",
      "https://rukminim1.flixcart.com/image/309/371/kbnz8nk0/trouser/5/a/x/34-tcrmnrowpant-tripr-original-imafsynuyupzwsh2.jpeg?q=50\n",
      "https://rukminim1.flixcart.com/image/309/371/k1dw70w0/trouser/e/8/6/40-single-classio-fashion-original-imafkbw34x6bjezc.jpeg?q=50\n",
      "https://rukminim1.flixcart.com/image/309/371/k0h12fk0/trouser/y/a/s/28-black-dragon-0-degree-original-imafk8s2ghyfmssu.jpeg?q=50\n",
      "https://rukminim1.flixcart.com/image/309/371/jxf05u80/trouser/k/6/z/32-combo-trouser-gd-black-and-grey-aa-ad-av-original-imafhus9jaspawxf.jpeg?q=50\n",
      "https://rukminim1.flixcart.com/image/309/371/kalecnk0/trouser/t/f/3/l-hypm02757-hypernation-original-imafs4j2uhhygmqg.jpeg?q=50\n",
      "https://rukminim1.flixcart.com/image/309/371/k70spzk0/trouser/h/k/u/30-hltr003959-highlander-original-imafpchqmyqyxf8h.jpeg?q=50\n",
      "https://rukminim1.flixcart.com/image/309/371/jrjizrk0/trouser/u/r/v/30-siddhi1-classio-fashion-original-imafda4vt4tcbq79.jpeg?q=50\n",
      "https://rukminim1.flixcart.com/image/309/371/k5zn9u80/trouser/k/s/n/36-itmtr00334-indian-terrain-original-imafm4hxnsq5fhyb.jpeg?q=50\n",
      "https://rukminim1.flixcart.com/image/309/371/k1gr2q80/trouser/5/q/9/40-new-classio-fashion-original-imafkd7hqq3umxfh.jpeg?q=50\n",
      "https://rukminim1.flixcart.com/image/309/371/k5r2mq80/trouser/8/n/m/30-hltr003782khaki-highlander-original-imafzd2h4a8uatzk.jpeg?q=50\n",
      "https://rukminim1.flixcart.com/image/309/371/jljri4w0/trouser/j/3/5/34-chino-black-urbano-fashion-original-imaexwbzn8qhkvcw.jpeg?q=50\n",
      "https://rukminim1.flixcart.com/image/309/371/k70spzk0/trouser/z/p/b/30-hltr004033-highlander-original-imafpchraqskh6yu.jpeg?q=50\n",
      "https://rukminim1.flixcart.com/image/309/371/k70spzk0/trouser/m/k/c/30-hltr003862-highlander-original-imafpcht4d48ngmc.jpeg?q=50\n",
      "https://rukminim1.flixcart.com/image/309/371/k70spzk0/trouser/h/p/b/30-hltr003779-highlander-original-imafpchty7tgk9c7.jpeg?q=50\n",
      "https://rukminim1.flixcart.com/image/309/371/jbs96kw0/trouser/r/h/3/32-packof-3-2by2-cream-black-coffi-aa-ad-av-original-imafff6wm4uasjyd.jpeg?q=50\n"
     ]
    }
   ],
   "source": [
    "urls=[]\n",
    "for image in images1:\n",
    "    source=image.get_attribute('src')\n",
    "    urls.append(source)\n",
    "    print(source)"
   ]
  },
  {
   "cell_type": "code",
   "execution_count": 74,
   "metadata": {},
   "outputs": [
    {
     "name": "stdout",
     "output_type": "stream",
     "text": [
      "Downloading 1 of 40 images\n",
      "Downloading 2 of 40 images\n",
      "Downloading 3 of 40 images\n",
      "Downloading 4 of 40 images\n",
      "Downloading 5 of 40 images\n",
      "Downloading 6 of 40 images\n",
      "Downloading 7 of 40 images\n",
      "Downloading 8 of 40 images\n",
      "Downloading 9 of 40 images\n",
      "Downloading 10 of 40 images\n",
      "Downloading 11 of 40 images\n",
      "Downloading 12 of 40 images\n",
      "Downloading 13 of 40 images\n",
      "Downloading 14 of 40 images\n",
      "Downloading 15 of 40 images\n",
      "Downloading 16 of 40 images\n",
      "Downloading 17 of 40 images\n",
      "Downloading 18 of 40 images\n",
      "Downloading 19 of 40 images\n",
      "Downloading 20 of 40 images\n",
      "Downloading 21 of 40 images\n",
      "Downloading 22 of 40 images\n",
      "Downloading 23 of 40 images\n",
      "Downloading 24 of 40 images\n",
      "Downloading 25 of 40 images\n",
      "Downloading 26 of 40 images\n",
      "Downloading 27 of 40 images\n",
      "Downloading 28 of 40 images\n",
      "Downloading 29 of 40 images\n",
      "Downloading 30 of 40 images\n",
      "Downloading 31 of 40 images\n",
      "Downloading 32 of 40 images\n",
      "Downloading 33 of 40 images\n",
      "Downloading 34 of 40 images\n",
      "Downloading 35 of 40 images\n",
      "Downloading 36 of 40 images\n",
      "Downloading 37 of 40 images\n",
      "Downloading 38 of 40 images\n",
      "Downloading 39 of 40 images\n",
      "Downloading 40 of 40 images\n"
     ]
    }
   ],
   "source": [
    "for index,link in enumerate(urls):\n",
    "    print('Downloading {0} of {1} images'.format(index+1,len(urls)))\n",
    "    response=requests.get(link)\n",
    "    with open('men_ethnic1/img_{0}.jpeg'.format(index),\"wb\") as file:\n",
    "        file.write(response.content)"
   ]
  },
  {
   "cell_type": "code",
   "execution_count": 17,
   "metadata": {},
   "outputs": [],
   "source": [
    "# downloading jeans image\n",
    "driver.get('https://www.flipkart.com/search?q=jeans&sid=clo%2Cvua%2Ck58%2Ci51&as=on&as-show=on&otracker=AS_QueryStore_OrganicAutoSuggest_1_4_sc_na_na&otracker1=AS_QueryStore_OrganicAutoSuggest_1_4_sc_na_na&as-pos=1&as-type=RECENT&suggestionId=jeans%7CMen%27s+Jeans&requestId=b61fc31d-7eda-417c-9c53-40229bf1ab7f&as-searchtext=jeaa')"
   ]
  },
  {
   "cell_type": "code",
   "execution_count": 18,
   "metadata": {},
   "outputs": [],
   "source": [
    "make_directory('men_jeans2')"
   ]
  },
  {
   "cell_type": "code",
   "execution_count": 19,
   "metadata": {},
   "outputs": [],
   "source": [
    "# Scrapping image URL\n",
    "images=driver.find_elements_by_xpath(\"//img[@class='_3togXc']\")"
   ]
  },
  {
   "cell_type": "code",
   "execution_count": 20,
   "metadata": {},
   "outputs": [
    {
     "name": "stdout",
     "output_type": "stream",
     "text": [
      "https://rukminim1.flixcart.com/image/329/395/jrgo4280/jean/j/u/b/32-mje005-billion-original-imafd9g3pquyffuv.jpeg?q=50\n",
      "https://rukminim1.flixcart.com/image/329/395/k12go7k0/jean/2/p/5/32-maw19jn046-metronaut-original-imafkhbb3ackhycz.jpeg?q=50\n",
      "https://rukminim1.flixcart.com/image/329/395/jhavdzk0/jean/j/x/p/30-hpsjogger-lgrey-urbano-fashion-original-imaf5bzbhhvwu9by.jpeg?q=50\n",
      "https://rukminim1.flixcart.com/image/329/395/jjylw280/jean/p/a/s/34-eps-black-03-urbano-fashion-original-imaf7f7wyy7sv6zk.jpeg?q=50\n",
      "https://rukminim1.flixcart.com/image/329/395/jsw3yq80/jean/j/c/c/32-mss19ajn020-metronaut-original-imafede5zhvgchsk.jpeg?q=50\n",
      "https://rukminim1.flixcart.com/image/329/395/k4fx3m80/jean/p/g/4/30-supeps-grey-supernova-inc-original-imafncqyzjqecahk.jpeg?q=50\n",
      "https://rukminim1.flixcart.com/image/329/395/j6gs6fk0/jean/n/h/z/40-jog-hps-black-urbano-fashion-original-imaewxe7fgyx7u28.jpeg?q=50\n",
      "https://rukminim1.flixcart.com/image/329/395/jucz98w0/jean/g/n/t/32-mss19jn125-metronaut-original-imaffgf6hdwswgbu.jpeg?q=50\n",
      "https://rukminim1.flixcart.com/image/329/395/k0zlsi80/jean/5/r/y/32-maw19jn140-metronaut-original-imafkmgsnzbhrqpw.jpeg?q=50\n",
      "https://rukminim1.flixcart.com/image/329/395/jw2f6vk0/jean/u/c/y/34-mft-22347-h-76-black-stone-mufti-original-imafgtzwygaryemz.jpeg?q=50\n",
      "https://rukminim1.flixcart.com/image/329/395/k7xnukw0/jean/s/c/c/32-kjb-1241-slnkft-bl-killer-original-imafq2fycyujzphg.jpeg?q=50\n",
      "https://rukminim1.flixcart.com/image/329/395/k7xnukw0/jean/p/h/c/32-kjb-1242-slnkft-bl-killer-original-imafq2fyqyrbxs4w.jpeg?q=50\n",
      "https://rukminim1.flixcart.com/image/329/395/jydaqa80/jean/g/z/h/38-epssprcrs-lblue-urbano-fashion-original-imafgmhbhhgnucwa.jpeg?q=50\n",
      "https://rukminim1.flixcart.com/image/329/395/kbs9k7k0/jean/j/6/n/34-dtss19jn014-ducati-original-imaft27g4g2hphvk.jpeg?q=50\n",
      "https://rukminim1.flixcart.com/image/329/395/k12go7k0/jean/2/p/5/32-maw19jn046-metronaut-original-imafkhbb3ackhycz.jpeg?q=50\n",
      "https://rukminim1.flixcart.com/image/329/395/k70spzk0/jean/r/t/6/30-hljn000685-highlander-original-imafpchxtxu4qbfr.jpeg?q=50\n",
      "https://rukminim1.flixcart.com/image/329/395/jlfh6kw0/jean/x/b/3/32-w21605w2283g-wrangler-original-imaf8gz6zmryhpkk.jpeg?q=50\n",
      "https://rukminim1.flixcart.com/image/329/395/k70spzk0/jean/y/r/k/30-hljn000674-highlander-original-imafpchwhzgydfzx.jpeg?q=50\n",
      "https://rukminim1.flixcart.com/image/329/395/ka492fk0/jean/b/d/o/36-zip-jog-hps-black-urbano-fashion-original-imafrqg3nhcefzjt.jpeg?q=50\n",
      "https://rukminim1.flixcart.com/image/329/395/jucz98w0/jean/e/e/c/32-pjdnjskpb58461-peter-england-original-imaffgfsuygsgaxg.jpeg?q=50\n",
      "https://rukminim1.flixcart.com/image/329/395/jrgo4280/jean/z/4/f/34-ss119jn-elastp-m-pln-dbu-campus-sutra-original-imafd82rdgryhzer.jpeg?q=50\n",
      "https://rukminim1.flixcart.com/image/329/395/k6l2vm80/jean/c/q/s/32-kjb-1187-dnft-khk-killer-original-imafngv6jz9sw2wf.jpeg?q=50\n",
      "https://rukminim1.flixcart.com/image/329/395/k7xnukw0/jean/p/t/p/32-kjb-1243-dnft-indg-killer-original-imafq2fymgfqcnh2.jpeg?q=50\n",
      "https://rukminim1.flixcart.com/image/329/395/kbs9k7k0/jean/z/p/2/28-dtss19jn024-ducati-original-imaft22urfdksrvr.jpeg?q=50\n",
      "https://rukminim1.flixcart.com/image/329/395/k12go7k0/jean/x/t/r/32-mss19ajn008-metronaut-original-imafdg4qf32sr5qb.jpeg?q=50\n",
      "https://rukminim1.flixcart.com/image/329/395/k7xnukw0/jean/k/z/f/32-kjb-1246-slnkft-bl-killer-original-imafq2fy5rfx2aja.jpeg?q=50\n",
      "https://rukminim1.flixcart.com/image/329/395/k0zlsi80/jean/t/x/k/32-maw19jn134-metronaut-original-imafkmgssczgpjjz.jpeg?q=50\n",
      "https://rukminim1.flixcart.com/image/329/395/jucz98w0/jean/w/x/d/32-mss19jn124-metronaut-original-imaffgf6x5zdfhtu.jpeg?q=50\n",
      "https://rukminim1.flixcart.com/image/329/395/k55n0y80/jean/h/d/h/32-pjdnjctfw97036-peter-england-original-imafnq2pcgsenhpe.jpeg?q=50\n",
      "https://rukminim1.flixcart.com/image/329/395/k0y6cnk0/jean/f/z/w/32-maw19jn205-metronaut-original-imafkm8cjfee7mvu.jpeg?q=50\n",
      "https://rukminim1.flixcart.com/image/329/395/k5pn6vk0/jean/m/2/4/32-kjb-1409-dnft-gry-killer-original-imafz9xjgkhguknc.jpeg?q=50\n",
      "https://rukminim1.flixcart.com/image/329/395/k70spzk0/jean/q/e/x/30-hljn000689-highlander-original-imafpchxfnqgzatz.jpeg?q=50\n",
      "https://rukminim1.flixcart.com/image/329/395/k70spzk0/jean/z/r/z/30-000898-highlander-original-imafpchp2cvfe8qz.jpeg?q=50\n",
      "https://rukminim1.flixcart.com/image/329/395/k1tm1e80/jean/n/g/g/32-maw19jn192-metronaut-original-imafh8yygptxhsvz.jpeg?q=50\n",
      "https://rukminim1.flixcart.com/image/329/395/k2urhjk0/jean/j/2/v/32-w38457w22smu-wrangler-original-imafhv9fgk8y7znm.jpeg?q=50\n",
      "https://rukminim1.flixcart.com/image/329/395/jh6l2fk0/jean/4/a/z/30-lj183a-lzard-original-imaf5883mb8vchhb.jpeg?q=50\n",
      "https://rukminim1.flixcart.com/image/329/395/k7xnukw0/jean/s/2/s/32-mss20jn150-metronaut-original-imafq2hthdcjrgy8.jpeg?q=50\n",
      "https://rukminim1.flixcart.com/image/329/395/k0zlsi80/jean/f/f/f/32-pm205199g66-pepe-jeans-original-imafknhzdyrtfdty.jpeg?q=50\n",
      "https://rukminim1.flixcart.com/image/329/395/k1118cw0/jean/2/m/y/32-mss19ajn005-metronaut-original-imafkmgsz3mnq5ht.jpeg?q=50\n",
      "https://rukminim1.flixcart.com/image/329/395/k1118cw0/jean/p/u/5/32-maw19jn178-metronaut-original-imafkmufdr7dzyzw.jpeg?q=50\n"
     ]
    }
   ],
   "source": [
    "urls1=[]\n",
    "for image in images:\n",
    "    source=image.get_attribute('src')\n",
    "    urls1.append(source)\n",
    "    print(source)"
   ]
  },
  {
   "cell_type": "code",
   "execution_count": 21,
   "metadata": {},
   "outputs": [
    {
     "name": "stdout",
     "output_type": "stream",
     "text": [
      "Downloading 1 of 40 images\n",
      "Downloading 2 of 40 images\n",
      "Downloading 3 of 40 images\n",
      "Downloading 4 of 40 images\n",
      "Downloading 5 of 40 images\n",
      "Downloading 6 of 40 images\n",
      "Downloading 7 of 40 images\n",
      "Downloading 8 of 40 images\n",
      "Downloading 9 of 40 images\n",
      "Downloading 10 of 40 images\n",
      "Downloading 11 of 40 images\n",
      "Downloading 12 of 40 images\n",
      "Downloading 13 of 40 images\n",
      "Downloading 14 of 40 images\n",
      "Downloading 15 of 40 images\n",
      "Downloading 16 of 40 images\n",
      "Downloading 17 of 40 images\n",
      "Downloading 18 of 40 images\n",
      "Downloading 19 of 40 images\n",
      "Downloading 20 of 40 images\n",
      "Downloading 21 of 40 images\n",
      "Downloading 22 of 40 images\n",
      "Downloading 23 of 40 images\n",
      "Downloading 24 of 40 images\n",
      "Downloading 25 of 40 images\n",
      "Downloading 26 of 40 images\n",
      "Downloading 27 of 40 images\n",
      "Downloading 28 of 40 images\n",
      "Downloading 29 of 40 images\n",
      "Downloading 30 of 40 images\n",
      "Downloading 31 of 40 images\n",
      "Downloading 32 of 40 images\n",
      "Downloading 33 of 40 images\n",
      "Downloading 34 of 40 images\n",
      "Downloading 35 of 40 images\n",
      "Downloading 36 of 40 images\n",
      "Downloading 37 of 40 images\n",
      "Downloading 38 of 40 images\n",
      "Downloading 39 of 40 images\n",
      "Downloading 40 of 40 images\n"
     ]
    }
   ],
   "source": [
    "for index,link in enumerate(urls1):\n",
    "    print('Downloading {0} of {1} images'.format(index+1,len(urls1)))\n",
    "    response=requests.get(link)\n",
    "    with open('men_jeans2/img_{0}.jpeg'.format(index),\"wb\") as file:\n",
    "        file.write(response.content)"
   ]
  },
  {
   "cell_type": "code",
   "execution_count": 82,
   "metadata": {},
   "outputs": [],
   "source": [
    "make_directory('men_jeans1')\n",
    "# Scrapping image URL\n",
    "images2=driver.find_elements_by_xpath(\"//img[@class='_3togXc']\")"
   ]
  },
  {
   "cell_type": "code",
   "execution_count": 83,
   "metadata": {},
   "outputs": [
    {
     "name": "stdout",
     "output_type": "stream",
     "text": [
      "https://rukminim1.flixcart.com/image/309/371/ka8jdzk0/jean/j/g/j/32-ss20jn-shd01-m-pln-nbu-campus-sutra-original-imafqg8kgw7wmtcm.jpeg?q=50\n",
      "https://rukminim1.flixcart.com/image/495/594/ka2tmkw0/jean/d/u/v/38-supaveps700-brown-supernova-inc-original-imafrqj9etca3hke.jpeg?q=50\n",
      "https://rukminim1.flixcart.com/image/495/594/jh6l2fk0/jean/4/a/z/30-lj183a-lzard-original-imaf5883mb8vchhb.jpeg?q=50\n",
      "https://rukminim1.flixcart.com/image/495/594/jhavdzk0/jean/j/x/p/30-hpsjogger-lgrey-urbano-fashion-original-imaf5bzbhhvwu9by.jpeg?q=50\n",
      "https://rukminim1.flixcart.com/image/495/594/jjylw280/jean/p/a/s/34-eps-black-03-urbano-fashion-original-imaf7f7wyy7sv6zk.jpeg?q=50\n",
      "https://rukminim1.flixcart.com/image/495/594/jqmnv680/jean/h/u/p/36-lj3127-lzard-original-imafckugeffzszqx.jpeg?q=50\n",
      "https://rukminim1.flixcart.com/image/495/594/jean/n/u/3/bmw-darklevis-ben-martin-32-original-imaedpc4zcgjadsv.jpeg?q=50\n",
      "https://rukminim1.flixcart.com/image/495/594/jean/e/f/t/lj136-l-zard-37-original-imaezhhswcbzrdyq.jpeg?q=50\n",
      "https://rukminim1.flixcart.com/image/495/594/k9re3rk0/jean/8/o/p/28-ri103-ragzo-original-imaevp8am4vhmad4.jpeg?q=50\n",
      "https://rukminim1.flixcart.com/image/495/594/k4fx3m80/jean/p/g/4/30-supeps-grey-supernova-inc-original-imafncqyzjqecahk.jpeg?q=50\n",
      "https://rukminim1.flixcart.com/image/495/594/j6gs6fk0/jean/n/h/z/40-jog-hps-black-urbano-fashion-original-imaewxe7fgyx7u28.jpeg?q=50\n",
      "https://rukminim1.flixcart.com/image/495/594/k0plpjk0/jean/r/g/f/32-44741-0190-denizen-original-imafkdxerxjy7txq.jpeg?q=50\n",
      "https://rukminim1.flixcart.com/image/495/594/kbb49zk0/jean/f/z/a/38-bmw-darklevis-d-ben-martin-original-imafszrt2eye6n7b.jpeg?q=50\n",
      "https://rukminim1.flixcart.com/image/495/594/k6jnfrk0/jean/c/2/g/36-ss20jn-s5stp-m-pln-ch-campus-sutra-original-imafzyqj6xn3wqqe.jpeg?q=50\n",
      "https://rukminim1.flixcart.com/image/495/594/k1118cw0/jean/b/c/c/32-kjb-1201-dnft-bl-killer-original-imafkzvtf2xuwkmp.jpeg?q=50\n",
      "https://rukminim1.flixcart.com/image/495/594/k70spzk0/jean/y/r/k/30-hljn000674-highlander-original-imafpchwhzgydfzx.jpeg?q=50\n",
      "https://rukminim1.flixcart.com/image/495/594/k9re3rk0/jean/g/q/v/36-ri210312-ragzo-original-imaevp7gfgvyvthh.jpeg?q=50\n",
      "https://rukminim1.flixcart.com/image/495/594/k687wy80/jean/s/t/f/32-18298-0873-levi-s-original-imafzqfzsxm9mjhk.jpeg?q=50\n",
      "https://rukminim1.flixcart.com/image/495/594/k0zlsi80/jean/t/x/k/32-maw19jn134-metronaut-original-imafkmgssczgpjjz.jpeg?q=50\n",
      "https://rukminim1.flixcart.com/image/495/594/ka8jdzk0/jean/q/z/x/36-ss20jn-fbpt-m-pln-dn-campus-sutra-original-imafrupztakxxghy.jpeg?q=50\n",
      "https://rukminim1.flixcart.com/image/495/594/k1118cw0/jean/2/m/y/32-mss19ajn005-metronaut-original-imafkmgsz3mnq5ht.jpeg?q=50\n",
      "https://rukminim1.flixcart.com/image/495/594/jydaqa80/jean/y/z/9/30-bepldrjo1black-dais-original-imafgmfy6vudurvj.jpeg?q=50\n",
      "https://rukminim1.flixcart.com/image/495/594/jyeq64w0/jean/e/h/a/38-bepldrjo1darkblue-dais-original-imafgnggr6hnkgjf.jpeg?q=50\n",
      "https://rukminim1.flixcart.com/image/495/594/ka2tmkw0/jean/i/x/s/40-supmps-black-supernova-inc-original-imafrqj9nudz5pqh.jpeg?q=50\n",
      "https://rukminim1.flixcart.com/image/495/594/jsw3yq80/jean/j/c/c/32-mss19ajn020-metronaut-original-imafede5zhvgchsk.jpeg?q=50\n",
      "https://rukminim1.flixcart.com/image/495/594/k6l2vm80/jean/5/j/b/32-d-jen-2020-white-6-masterly-weft-original-imafpyauff9z7nzt.jpeg?q=50\n",
      "https://rukminim1.flixcart.com/image/495/594/jrp8r680/jean/f/e/y/32-l35164248147-lee-original-imafdfwewatfjhkp.jpeg?q=50\n",
      "https://rukminim1.flixcart.com/image/495/594/j9eirgw0/jean/z/c/h/34-mj-dcut-02a-xee-original-imaez7ffge6rvy9e.jpeg?q=50\n",
      "https://rukminim1.flixcart.com/image/495/594/jmawvbk0/jean/5/s/v/36-d-jen-white-3-masterly-weft-original-imaf98nxewqezpc2.jpeg?q=50\n",
      "https://rukminim1.flixcart.com/image/495/594/k7285u80/jean/q/8/j/34-ss20jn-dnm01-m-pln-br-norway-jeans-original-imafpdbggrgxhu9g.jpeg?q=50\n",
      "https://rukminim1.flixcart.com/image/495/594/k3hmj680/jean/f/n/n/28-lj3381-lzard-original-imafmm52tbx6nthc.jpeg?q=50\n",
      "https://rukminim1.flixcart.com/image/495/594/k12go7k0/jean/x/t/r/32-mss19ajn008-metronaut-original-imafdg4qf32sr5qb.jpeg?q=50\n",
      "https://rukminim1.flixcart.com/image/495/594/jmawvbk0/jean/t/h/k/30-jk-jog02-ridge-vogue-original-imaf98nrgfjfqbfp.jpeg?q=50\n",
      "https://rukminim1.flixcart.com/image/495/594/k6jnfrk0/jean/f/g/8/34-ss20jn-s4stp-m-pln-ch-campus-sutra-original-imafzyqjvghfyvxf.jpeg?q=50\n",
      "https://rukminim1.flixcart.com/image/495/594/jihqljk0/jean/t/k/u/32-nse-2-snaave-original-imaf66ydth9mxgk5.jpeg?q=50\n",
      "https://rukminim1.flixcart.com/image/495/594/jzsqky80/jean/3/h/v/28-d-jen-w-lbl-7-masterly-weft-original-imafjpwpvxgrkszv.jpeg?q=50\n",
      "https://rukminim1.flixcart.com/image/495/594/jy7kyvk0/jean/x/r/t/34-lj3306-lzard-original-imafggrgz3cwh8my.jpeg?q=50\n",
      "https://rukminim1.flixcart.com/image/495/594/jsge4cw0/jean/h/w/e/40-hpsjogger-black-urbano-fashion-original-imafey94hfth8259.jpeg?q=50\n",
      "https://rukminim1.flixcart.com/image/495/594/k0zlsi80/jean/4/5/g/32-mss19ajn001-metronaut-original-imafkmgs7aucfpzv.jpeg?q=50\n",
      "https://rukminim1.flixcart.com/image/495/594/k1118cw0/jean/h/n/e/30-8560305-002-red-chief-original-imafkzahtupzjrkb.jpeg?q=50\n"
     ]
    }
   ],
   "source": [
    "urls2=[]\n",
    "for image in images2:\n",
    "    source=image.get_attribute('src')\n",
    "    urls2.append(source)\n",
    "    print(source)"
   ]
  },
  {
   "cell_type": "code",
   "execution_count": 84,
   "metadata": {},
   "outputs": [
    {
     "name": "stdout",
     "output_type": "stream",
     "text": [
      "Downloading 1 of 40 images\n",
      "Downloading 2 of 40 images\n",
      "Downloading 3 of 40 images\n",
      "Downloading 4 of 40 images\n",
      "Downloading 5 of 40 images\n",
      "Downloading 6 of 40 images\n",
      "Downloading 7 of 40 images\n",
      "Downloading 8 of 40 images\n",
      "Downloading 9 of 40 images\n",
      "Downloading 10 of 40 images\n",
      "Downloading 11 of 40 images\n",
      "Downloading 12 of 40 images\n",
      "Downloading 13 of 40 images\n",
      "Downloading 14 of 40 images\n",
      "Downloading 15 of 40 images\n",
      "Downloading 16 of 40 images\n",
      "Downloading 17 of 40 images\n",
      "Downloading 18 of 40 images\n",
      "Downloading 19 of 40 images\n",
      "Downloading 20 of 40 images\n",
      "Downloading 21 of 40 images\n",
      "Downloading 22 of 40 images\n",
      "Downloading 23 of 40 images\n",
      "Downloading 24 of 40 images\n",
      "Downloading 25 of 40 images\n",
      "Downloading 26 of 40 images\n",
      "Downloading 27 of 40 images\n",
      "Downloading 28 of 40 images\n",
      "Downloading 29 of 40 images\n",
      "Downloading 30 of 40 images\n",
      "Downloading 31 of 40 images\n",
      "Downloading 32 of 40 images\n",
      "Downloading 33 of 40 images\n",
      "Downloading 34 of 40 images\n",
      "Downloading 35 of 40 images\n",
      "Downloading 36 of 40 images\n",
      "Downloading 37 of 40 images\n",
      "Downloading 38 of 40 images\n",
      "Downloading 39 of 40 images\n",
      "Downloading 40 of 40 images\n"
     ]
    }
   ],
   "source": [
    "for index,link in enumerate(urls2):\n",
    "    print('Downloading {0} of {1} images'.format(index+1,len(urls1)))\n",
    "    response=requests.get(link)\n",
    "    with open('men_jeans1/img_{0}.jpeg'.format(index),\"wb\") as file:\n",
    "        file.write(response.content)"
   ]
  },
  {
   "cell_type": "code",
   "execution_count": null,
   "metadata": {},
   "outputs": [],
   "source": []
  }
 ],
 "metadata": {
  "kernelspec": {
   "display_name": "Python 3",
   "language": "python",
   "name": "python3"
  },
  "language_info": {
   "codemirror_mode": {
    "name": "ipython",
    "version": 3
   },
   "file_extension": ".py",
   "mimetype": "text/x-python",
   "name": "python",
   "nbconvert_exporter": "python",
   "pygments_lexer": "ipython3",
   "version": "3.6.10"
  }
 },
 "nbformat": 4,
 "nbformat_minor": 4
}
