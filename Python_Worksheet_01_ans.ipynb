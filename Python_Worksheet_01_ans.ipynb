{
 "cells": [
  {
   "cell_type": "markdown",
   "metadata": {},
   "source": [
    "1. C\n",
    "2. A\n",
    "3. C\n",
    "4. A\n",
    "5. A\n",
    "6. C\n",
    "7. A\n",
    "8. C\n",
    "9. A,C\n",
    "10. A,B"
   ]
  },
  {
   "cell_type": "code",
   "execution_count": 3,
   "metadata": {},
   "outputs": [
    {
     "name": "stdout",
     "output_type": "stream",
     "text": [
      "Enter the number :  4\n",
      "Factorial of 4 is :  24\n"
     ]
    }
   ],
   "source": [
    "#Write a python program to find the factorial of a number.\n",
    "\n",
    "num=int(input(\"Enter the number :  \"))\n",
    "fac=1\n",
    "if num <0:\n",
    "    print('Factorail not exist for negative number')\n",
    "elif num == 0:\n",
    "    print('Factorail of zero is 1')\n",
    "else:\n",
    "    for i in range(1,num+1):\n",
    "        fac=fac*i\n",
    "print(\"Factorial of\",num, \"is : \",fac)"
   ]
  },
  {
   "cell_type": "code",
   "execution_count": 4,
   "metadata": {},
   "outputs": [
    {
     "name": "stdout",
     "output_type": "stream",
     "text": [
      "Enter the number :  1\n",
      "1 is neither prime nor composite\n"
     ]
    }
   ],
   "source": [
    "# Write a python program to find whether a number is prime or composite.\n",
    "num=int(input(\"Enter the number :  \"))\n",
    "if num > 1:\n",
    "    for i in range(2, num):\n",
    "        if (num % i) == 0:\n",
    "            print(num, \"is not a prime number\")\n",
    "            break\n",
    "    else:\n",
    "            print(num,\"is a prime number\")\n",
    "elif num == 0 or num == 1:\n",
    "    print(num,\"is neither prime nor composite\")\n",
    "else:\n",
    "    print(num,\"is not a prime number\")\n",
    "   "
   ]
  },
  {
   "cell_type": "code",
   "execution_count": 6,
   "metadata": {},
   "outputs": [
    {
     "name": "stdout",
     "output_type": "stream",
     "text": [
      "The string is a palindrome.\n"
     ]
    }
   ],
   "source": [
    "# Write a python program to check whether a given string is palindrome or not.\n",
    "my_str = 'siS'\n",
    "\n",
    "# make it suitable for caseless comparison\n",
    "my_str = my_str.casefold()\n",
    "\n",
    "# reverse the string\n",
    "rev_str = reversed(my_str)\n",
    "\n",
    "# check if the string is equal to its reverse\n",
    "if list(my_str) == list(rev_str):\n",
    "   print(\"The string is a palindrome.\")\n",
    "else:\n",
    "   print(\"The string is not a palindrome.\")"
   ]
  },
  {
   "cell_type": "code",
   "execution_count": 7,
   "metadata": {},
   "outputs": [
    {
     "name": "stdout",
     "output_type": "stream",
     "text": [
      "Input lengths of shorter triangle sides:\n",
      "a: 4\n",
      "b: 5\n",
      "The length of the hypotenuse is 6.4031242374328485\n"
     ]
    }
   ],
   "source": [
    "# Write a Python program to get the third side of right-angled triangle from two given sides.\n",
    "from math import sqrt\n",
    "print(\"Input lengths of shorter triangle sides:\")\n",
    "a = float(input(\"a: \"))\n",
    "b = float(input(\"b: \"))\n",
    "\n",
    "c = sqrt(a**2 + b**2)\n",
    "print(\"The length of the hypotenuse is\", c )"
   ]
  },
  {
   "cell_type": "code",
   "execution_count": 9,
   "metadata": {},
   "outputs": [
    {
     "name": "stdout",
     "output_type": "stream",
     "text": [
      "Count of all character in string is Counter({'o': 2, 'm': 2, 'n': 2, 'i': 2, 'C': 1, 'u': 1, 'c': 1, 'a': 1, 't': 1})\n"
     ]
    }
   ],
   "source": [
    "#Write a python program to print the frequency of each of the characters present in a given string.\n",
    "from collections import Counter\n",
    "string=\"Communication\"\n",
    "res=Counter(string)\n",
    "print(\"Count of all character in string is\",str(res))"
   ]
  },
  {
   "cell_type": "code",
   "execution_count": null,
   "metadata": {},
   "outputs": [],
   "source": []
  }
 ],
 "metadata": {
  "kernelspec": {
   "display_name": "Python 3",
   "language": "python",
   "name": "python3"
  },
  "language_info": {
   "codemirror_mode": {
    "name": "ipython",
    "version": 3
   },
   "file_extension": ".py",
   "mimetype": "text/x-python",
   "name": "python",
   "nbconvert_exporter": "python",
   "pygments_lexer": "ipython3",
   "version": "3.7.3"
  }
 },
 "nbformat": 4,
 "nbformat_minor": 2
}
