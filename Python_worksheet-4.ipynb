{
 "cells": [
  {
   "cell_type": "markdown",
   "metadata": {},
   "source": [
    "1. B\n",
    "2. C\n",
    "3. B\n",
    "4. D\n",
    "5. C\n",
    "6. A\n",
    "7. D\n",
    "8. A\n",
    "9. A,D\n",
    "10.A,B,D\n",
    "11. Differentiate between a compiler and an interpreter? Which of them is used in python language?\n",
    "\n",
    "Ans- Interpreter translates just one statement of the program at a time into machine code. Compiler scans the entire program and translates the whole of it into machine code at once. An interpreter takes very less time to analyze the source code. However, the overall time to execute the process is much slower.\n",
    "\n",
    "Pythoon uses interpreter\n",
    "\n",
    "12. What is the purpose of PYTHONPATH environment variable?\n",
    "\n",
    "Ans-PYTHONPATH is an environment variable which you can set to add additional directories where python will look for modules and packages. For most installations, you should not set these variables since they are not needed for Python to run. Python knows where to find its standard library\n",
    "\n",
    "13. How will you remove all the leading and trailing whitespaces in a string in python? Give one example.\n",
    "\n",
    "Ans-strip(): returns a new string after removing any leading and trailing whitespaces including tabs (\\t).\n",
    "Ex-'     hello world!    '.strip()\n",
    "'hello world!'\n"
   ]
  },
  {
   "cell_type": "code",
   "execution_count": 1,
   "metadata": {},
   "outputs": [],
   "source": [
    "# 14. Write a python program to represent a user entered number in expanded form.\n",
    "# For eg: user_input = 12345\n",
    "# Output = 1*10000 + 2*1000 + 3*100 + 4*10 + 5*1"
   ]
  },
  {
   "cell_type": "code",
   "execution_count": 2,
   "metadata": {},
   "outputs": [],
   "source": [
    "num=12345\n",
    "def function(num):\n",
    " digits = str(num) # convert number to string\n",
    " output = []\n",
    " for i, digit in enumerate(digits):\n",
    "   output.append(\"(\" + digit + \"x10^\" + str(len(digits)-i-1) + \")\")\n",
    " return \" + \".join(output)"
   ]
  },
  {
   "cell_type": "code",
   "execution_count": 3,
   "metadata": {},
   "outputs": [
    {
     "data": {
      "text/plain": [
       "'(1x10^4) + (2x10^3) + (3x10^2) + (4x10^1) + (5x10^0)'"
      ]
     },
     "execution_count": 3,
     "metadata": {},
     "output_type": "execute_result"
    }
   ],
   "source": [
    "function(num)"
   ]
  },
  {
   "cell_type": "code",
   "execution_count": 5,
   "metadata": {},
   "outputs": [
    {
     "name": "stdout",
     "output_type": "stream",
     "text": [
      "Enter a number: 153\n",
      "153 is an Armstrong number\n"
     ]
    }
   ],
   "source": [
    "# 15. Write a python program to determine whether the number entered by the user is an Armstrong number or not?\n",
    "num = int(input(\"Enter a number: \"))  \n",
    "sum = 0  \n",
    "temp = num  \n",
    "  \n",
    "while temp > 0:  \n",
    "   digit = temp % 10  \n",
    "   sum += digit ** 3  \n",
    "   temp //= 10  \n",
    "  \n",
    "if num == sum:  \n",
    "   print(num,\"is an Armstrong number\")  \n",
    "else:  \n",
    "   print(num,\"is not an Armstrong number\") "
   ]
  },
  {
   "cell_type": "code",
   "execution_count": null,
   "metadata": {},
   "outputs": [],
   "source": []
  }
 ],
 "metadata": {
  "kernelspec": {
   "display_name": "Python 3",
   "language": "python",
   "name": "python3"
  },
  "language_info": {
   "codemirror_mode": {
    "name": "ipython",
    "version": 3
   },
   "file_extension": ".py",
   "mimetype": "text/x-python",
   "name": "python",
   "nbconvert_exporter": "python",
   "pygments_lexer": "ipython3",
   "version": "3.7.3"
  }
 },
 "nbformat": 4,
 "nbformat_minor": 2
}
