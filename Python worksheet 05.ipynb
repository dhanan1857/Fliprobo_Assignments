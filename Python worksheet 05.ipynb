{
 "cells": [
  {
   "cell_type": "markdown",
   "metadata": {},
   "source": [
    "1. C\n",
    "2. C\n",
    "3. B\n",
    "4. D\n",
    "5. C\n",
    "6. D\n",
    "7. B\n",
    "8. C\n",
    "9. D\n",
    "10. D\n",
    "11. The major difference is that sets, unlike lists , cannot have multiple occurrences of the same element and store   unordered values. Also seta are imutable unlike list. List is two dimensional structure unlike sets."
   ]
  },
  {
   "cell_type": "code",
   "execution_count": 2,
   "metadata": {},
   "outputs": [],
   "source": [
    "import pandas as pd\n",
    "import numpy as np"
   ]
  },
  {
   "cell_type": "code",
   "execution_count": 4,
   "metadata": {},
   "outputs": [
    {
     "data": {
      "text/plain": [
       "[4, 16, 36, 64, 100]"
      ]
     },
     "execution_count": 4,
     "metadata": {},
     "output_type": "execute_result"
    }
   ],
   "source": [
    "# 12. write a python program to square the elements of a list by using list comprehension.\n",
    "\n",
    "a=[2,4,6,8,10]\n",
    "b=[i**2 for i in a]\n",
    "b"
   ]
  },
  {
   "cell_type": "code",
   "execution_count": 6,
   "metadata": {},
   "outputs": [],
   "source": [
    "    # 13. Write a pyhton program to drop duplicate elements from a list of numbers.\n",
    "\n",
    "    x=[2,4,2,10,14,10,20,15,10]\n",
    "    def Remove(duplicate):\n",
    "        unique_list=[]\n",
    "        for num in duplicate:\n",
    "            if num not in unique_list:\n",
    "                unique_list.append(num)\n",
    "        return unique_list\n",
    "            "
   ]
  },
  {
   "cell_type": "code",
   "execution_count": 8,
   "metadata": {},
   "outputs": [
    {
     "name": "stdout",
     "output_type": "stream",
     "text": [
      "[2, 4, 10, 14, 20, 15]\n"
     ]
    }
   ],
   "source": [
    "print(Remove(x))"
   ]
  },
  {
   "cell_type": "code",
   "execution_count": 11,
   "metadata": {},
   "outputs": [
    {
     "name": "stdout",
     "output_type": "stream",
     "text": [
      "{2}\n",
      "{1, 2, 3, 4, 6}\n",
      "{1, 3}\n",
      "{1, 3, 4, 6}\n"
     ]
    }
   ],
   "source": [
    "# 14. Take two sets of numbers and try implementing the set operations - intersection, union, \n",
    "# difference and symmetric_difference between them.\n",
    "\n",
    "a=set([1,2,3])\n",
    "b=set([4,2,6])\n",
    "print(a.intersection(b))\n",
    "print(a.union(b))\n",
    "print(a.difference(b))\n",
    "print(a.symmetric_difference(b))"
   ]
  },
  {
   "cell_type": "code",
   "execution_count": 17,
   "metadata": {},
   "outputs": [
    {
     "name": "stdout",
     "output_type": "stream",
     "text": [
      "{1, 2, 3, 4}\n"
     ]
    }
   ],
   "source": [
    "# 15. Write a python program to add the elements of a set.\n",
    "a=set([1,2,3])\n",
    "a.add(4)\n",
    "print(a)"
   ]
  },
  {
   "cell_type": "code",
   "execution_count": null,
   "metadata": {},
   "outputs": [],
   "source": []
  }
 ],
 "metadata": {
  "kernelspec": {
   "display_name": "Python 3",
   "language": "python",
   "name": "python3"
  },
  "language_info": {
   "codemirror_mode": {
    "name": "ipython",
    "version": 3
   },
   "file_extension": ".py",
   "mimetype": "text/x-python",
   "name": "python",
   "nbconvert_exporter": "python",
   "pygments_lexer": "ipython3",
   "version": "3.7.3"
  }
 },
 "nbformat": 4,
 "nbformat_minor": 2
}
