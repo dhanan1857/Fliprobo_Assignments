{
 "cells": [
  {
   "cell_type": "code",
   "execution_count": 1,
   "metadata": {},
   "outputs": [],
   "source": [
    "#12 Are strings mutable in python? \n",
    "# Suppose you have a string “I+Love+Python”, write a small code to replace ‘+’ with space in python."
   ]
  },
  {
   "cell_type": "code",
   "execution_count": 2,
   "metadata": {},
   "outputs": [
    {
     "data": {
      "text/plain": [
       "'I Love Python'"
      ]
     },
     "execution_count": 2,
     "metadata": {},
     "output_type": "execute_result"
    }
   ],
   "source": [
    "str1 = \"I+Love+Python\"\n",
    "str2 = str1.replace('+', ' ')\n",
    "str2"
   ]
  },
  {
   "cell_type": "code",
   "execution_count": 3,
   "metadata": {},
   "outputs": [],
   "source": [
    "#13. What does the function ord() do in python?\n",
    "# Explain with example. Also, write down the function for getting the datatype of a variable in python."
   ]
  },
  {
   "cell_type": "code",
   "execution_count": 6,
   "metadata": {},
   "outputs": [
    {
     "name": "stdout",
     "output_type": "stream",
     "text": [
      "<class 'str'>\n",
      "<class 'int'>\n"
     ]
    }
   ],
   "source": [
    "# The ord() function returns the number representing the unicode code of a specified character. eg., ord('h') returns 104\n",
    "# which is unicode of character 'h'. type() functions returns the data type of a variable in python. eg.\n",
    "print(type('DJ'))\n",
    "print(type(1))"
   ]
  },
  {
   "cell_type": "code",
   "execution_count": 7,
   "metadata": {},
   "outputs": [
    {
     "name": "stdout",
     "output_type": "stream",
     "text": [
      "Enter the value of coefficient of x^2, a : 10\n",
      "Enter the value of coefficient of x, b : 16\n",
      "Enter the value of constant term, c : 5\n",
      "x = -0.42583426132260593, -1.174165738677394\n"
     ]
    }
   ],
   "source": [
    "# #14.Write a python program to solve a quadratic equation of the form 𝑎𝑥2+𝑏𝑥+𝑐=0. Where a, b and c are to be taken by user input. \n",
    "# Handle the erroneous input, such as ‘a’ should not be equal to 0.\n",
    "\n",
    "a = float(input(\"Enter the value of coefficient of x^2, a : \"))\n",
    "b = float(input(\"Enter the value of coefficient of x, b : \"))\n",
    "c = float(input(\"Enter the value of constant term, c : \"))\n",
    "\n",
    "if a == 0:\n",
    "    print(\"Invalid input. a cannot be equal to 0\")\n",
    "else:\n",
    "    x1 = (-b + ((b**2 - 4*a*c)**0.5))/(2*a)          # First root of x\n",
    "    x2 = (-b - ((b**2 - 4*a*c)**0.5))/(2*a)          # Second root of x\n",
    "    print(\"x = {}, {}\".format(x1, x2))"
   ]
  },
  {
   "cell_type": "code",
   "execution_count": 8,
   "metadata": {},
   "outputs": [
    {
     "name": "stdout",
     "output_type": "stream",
     "text": [
      "Enter the value of a : 10\n",
      "Sum of first 10 natural numbers is = 55\n"
     ]
    }
   ],
   "source": [
    "# # 15 Write a python program to find the sum of first ‘n’ natural numbers without using any loop. \n",
    "# Ask user to input the value of ‘n’.\n",
    "\n",
    "a = int(input(\"Enter the value of a : \"))\n",
    "if a < 0: print(\"Invalid Input\")\n",
    "elif a == 0: print(\"Sum of first {} natural numbers is = 0\".format(a))\n",
    "else: print(\"Sum of first {} natural numbers is = {}\".format(a, a*(a+1)//2))"
   ]
  },
  {
   "cell_type": "code",
   "execution_count": null,
   "metadata": {},
   "outputs": [],
   "source": []
  }
 ],
 "metadata": {
  "kernelspec": {
   "display_name": "Python 3",
   "language": "python",
   "name": "python3"
  },
  "language_info": {
   "codemirror_mode": {
    "name": "ipython",
    "version": 3
   },
   "file_extension": ".py",
   "mimetype": "text/x-python",
   "name": "python",
   "nbconvert_exporter": "python",
   "pygments_lexer": "ipython3",
   "version": "3.7.3"
  }
 },
 "nbformat": 4,
 "nbformat_minor": 2
}
