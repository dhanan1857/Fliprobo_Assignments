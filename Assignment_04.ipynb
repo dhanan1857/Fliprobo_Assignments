{
 "cells": [
  {
   "cell_type": "markdown",
   "metadata": {},
   "source": [
    "using the optimisers, callbacks and learning rates\n",
    "\n",
    "\n",
    "Use all the following optimisers:\n",
    "\n",
    "\n",
    "1) SGD + Momentum\n",
    "\n",
    "2) Nesterov Accelerated Gradient Descent\n",
    "\n",
    "3) RMSprop\n",
    "\n",
    "4) Adam\n",
    "\n",
    "5) Nadam\n",
    "\n",
    "\n",
    "train your model for each optimiser for 20 epochs and define all the callbacks (checkpoint, earlystopping, reducedLRonplateau) on your model and check its performance. Adjust the learning rates and observe the changes and display them into your notebook."
   ]
  },
  {
   "cell_type": "code",
   "execution_count": 1,
   "metadata": {},
   "outputs": [],
   "source": [
    "from __future__ import print_function\n",
    "import os\n",
    "import cv2\n",
    "import pandas as pd\n",
    "import numpy as np\n",
    "from os import listdir\n",
    "import glob\n",
    "import matplotlib.pyplot as plt\n"
   ]
  },
  {
   "cell_type": "code",
   "execution_count": 2,
   "metadata": {},
   "outputs": [],
   "source": [
    "os.chdir('F:/Data_Trained/Flip robo/flipkart')"
   ]
  },
  {
   "cell_type": "code",
   "execution_count": 5,
   "metadata": {},
   "outputs": [],
   "source": [
    "# Sharpening\n",
    "kernel_sharpening=np.array([[-1,-1,-1],\n",
    "                           [-1,9,-1],\n",
    "                           [-1,-1,-1]])"
   ]
  },
  {
   "cell_type": "code",
   "execution_count": 54,
   "metadata": {},
   "outputs": [],
   "source": [
    "data=[]\n",
    "data1=[]"
   ]
  },
  {
   "cell_type": "code",
   "execution_count": 55,
   "metadata": {},
   "outputs": [],
   "source": [
    "image_dir=('F:/Data_Trained/Flip robo/flipkart/Augmented/Jeans') # Enter Directory of all images \n",
    "data_path = os.path.join(image_dir,'*g')\n",
    "files = glob.glob(data_path)\n",
    "for f1 in files:\n",
    "    img = cv2.imread(f1)\n",
    "    height,width=img.shape[:2]\n",
    "    rotation_matrix=cv2.getRotationMatrix2D((width/2,height/2),25,0.6)\n",
    "    rotation_matrix1=cv2.getRotationMatrix2D((width/2,height/2),-20,0.6)\n",
    "    M=np.ones(img.shape,dtype=\"uint8\")*75\n",
    "    rotated_image=cv2.warpAffine(img,rotation_matrix,(width,height))\n",
    "    data.append(rotated_image)\n",
    "    rotated_image1=cv2.warpAffine(img,rotation_matrix1,(width,height))\n",
    "    data.append(rotated_image1)\n",
    "    added=cv2.add(img,M)\n",
    "    data.append(added)\n",
    "    subtracted=cv2.subtract(img,M)\n",
    "    data.append(subtracted)\n",
    "    sharpened=cv2.filter2D(img,-1,kernel_sharpening)\n",
    "    data.append(sharpened)\n",
    "    flipped=cv2.flip(img,0)\n",
    "    data.append(flipped)\n",
    "    height,width=0,0\n",
    "    M=0\n",
    "    "
   ]
  },
  {
   "cell_type": "code",
   "execution_count": 56,
   "metadata": {},
   "outputs": [
    {
     "data": {
      "text/plain": [
       "480"
      ]
     },
     "execution_count": 56,
     "metadata": {},
     "output_type": "execute_result"
    }
   ],
   "source": [
    "len(data)"
   ]
  },
  {
   "cell_type": "code",
   "execution_count": 57,
   "metadata": {},
   "outputs": [],
   "source": [
    "num=0\n",
    "for image in data:\n",
    "    cv2.imwrite(str(num)+\".jpeg\",image)\n",
    "    num=num+1"
   ]
  },
  {
   "cell_type": "code",
   "execution_count": 58,
   "metadata": {},
   "outputs": [],
   "source": [
    "image_dir=('F:/Data_Trained/Flip robo/flipkart/Augmented/Trouser') # Enter Directory of all images \n",
    "data_path = os.path.join(image_dir,'*g')\n",
    "files = glob.glob(data_path)\n",
    "data1 = []\n",
    "for f1 in files:\n",
    "    img = cv2.imread(f1)\n",
    "    height,width=img.shape[:2]\n",
    "    rotation_matrix=cv2.getRotationMatrix2D((width/2,height/2),25,0.6)\n",
    "    rotation_matrix1=cv2.getRotationMatrix2D((width/2,height/2),-20,0.6)\n",
    "    M=np.ones(img.shape,dtype=\"uint8\")*75\n",
    "    rotated_image=cv2.warpAffine(img,rotation_matrix,(width,height))\n",
    "    data1.append(rotated_image)\n",
    "    rotated_image1=cv2.warpAffine(img,rotation_matrix1,(width,height))\n",
    "    data1.append(rotated_image1)\n",
    "    added=cv2.add(img,M)\n",
    "    data1.append(added)\n",
    "    subtracted=cv2.subtract(img,M)\n",
    "    data1.append(subtracted)\n",
    "    sharpened=cv2.filter2D(img,-1,kernel_sharpening)\n",
    "    data1.append(sharpened)\n",
    "    flipped=cv2.flip(img,0)\n",
    "    data1.append(flipped)\n",
    "    height,width=0,0\n",
    "    M=0"
   ]
  },
  {
   "cell_type": "code",
   "execution_count": 59,
   "metadata": {},
   "outputs": [
    {
     "data": {
      "text/plain": [
       "480"
      ]
     },
     "execution_count": 59,
     "metadata": {},
     "output_type": "execute_result"
    }
   ],
   "source": [
    "len(data1)"
   ]
  },
  {
   "cell_type": "code",
   "execution_count": 60,
   "metadata": {},
   "outputs": [],
   "source": [
    "num=0\n",
    "for image in data1:\n",
    "    cv2.imwrite(str(num)+\".jpeg\",image)\n",
    "    num=num+1"
   ]
  },
  {
   "cell_type": "code",
   "execution_count": 3,
   "metadata": {},
   "outputs": [
    {
     "name": "stderr",
     "output_type": "stream",
     "text": [
      "C:\\anaconda\\envs\\py36_test\\lib\\site-packages\\tensorflow\\python\\framework\\dtypes.py:516: FutureWarning: Passing (type, 1) or '1type' as a synonym of type is deprecated; in a future version of numpy, it will be understood as (type, (1,)) / '(1,)type'.\n",
      "  _np_qint8 = np.dtype([(\"qint8\", np.int8, 1)])\n",
      "C:\\anaconda\\envs\\py36_test\\lib\\site-packages\\tensorflow\\python\\framework\\dtypes.py:517: FutureWarning: Passing (type, 1) or '1type' as a synonym of type is deprecated; in a future version of numpy, it will be understood as (type, (1,)) / '(1,)type'.\n",
      "  _np_quint8 = np.dtype([(\"quint8\", np.uint8, 1)])\n",
      "C:\\anaconda\\envs\\py36_test\\lib\\site-packages\\tensorflow\\python\\framework\\dtypes.py:518: FutureWarning: Passing (type, 1) or '1type' as a synonym of type is deprecated; in a future version of numpy, it will be understood as (type, (1,)) / '(1,)type'.\n",
      "  _np_qint16 = np.dtype([(\"qint16\", np.int16, 1)])\n",
      "C:\\anaconda\\envs\\py36_test\\lib\\site-packages\\tensorflow\\python\\framework\\dtypes.py:519: FutureWarning: Passing (type, 1) or '1type' as a synonym of type is deprecated; in a future version of numpy, it will be understood as (type, (1,)) / '(1,)type'.\n",
      "  _np_quint16 = np.dtype([(\"quint16\", np.uint16, 1)])\n",
      "C:\\anaconda\\envs\\py36_test\\lib\\site-packages\\tensorflow\\python\\framework\\dtypes.py:520: FutureWarning: Passing (type, 1) or '1type' as a synonym of type is deprecated; in a future version of numpy, it will be understood as (type, (1,)) / '(1,)type'.\n",
      "  _np_qint32 = np.dtype([(\"qint32\", np.int32, 1)])\n",
      "C:\\anaconda\\envs\\py36_test\\lib\\site-packages\\tensorflow\\python\\framework\\dtypes.py:525: FutureWarning: Passing (type, 1) or '1type' as a synonym of type is deprecated; in a future version of numpy, it will be understood as (type, (1,)) / '(1,)type'.\n",
      "  np_resource = np.dtype([(\"resource\", np.ubyte, 1)])\n",
      "C:\\anaconda\\envs\\py36_test\\lib\\site-packages\\tensorboard\\compat\\tensorflow_stub\\dtypes.py:541: FutureWarning: Passing (type, 1) or '1type' as a synonym of type is deprecated; in a future version of numpy, it will be understood as (type, (1,)) / '(1,)type'.\n",
      "  _np_qint8 = np.dtype([(\"qint8\", np.int8, 1)])\n",
      "C:\\anaconda\\envs\\py36_test\\lib\\site-packages\\tensorboard\\compat\\tensorflow_stub\\dtypes.py:542: FutureWarning: Passing (type, 1) or '1type' as a synonym of type is deprecated; in a future version of numpy, it will be understood as (type, (1,)) / '(1,)type'.\n",
      "  _np_quint8 = np.dtype([(\"quint8\", np.uint8, 1)])\n",
      "C:\\anaconda\\envs\\py36_test\\lib\\site-packages\\tensorboard\\compat\\tensorflow_stub\\dtypes.py:543: FutureWarning: Passing (type, 1) or '1type' as a synonym of type is deprecated; in a future version of numpy, it will be understood as (type, (1,)) / '(1,)type'.\n",
      "  _np_qint16 = np.dtype([(\"qint16\", np.int16, 1)])\n",
      "C:\\anaconda\\envs\\py36_test\\lib\\site-packages\\tensorboard\\compat\\tensorflow_stub\\dtypes.py:544: FutureWarning: Passing (type, 1) or '1type' as a synonym of type is deprecated; in a future version of numpy, it will be understood as (type, (1,)) / '(1,)type'.\n",
      "  _np_quint16 = np.dtype([(\"quint16\", np.uint16, 1)])\n",
      "C:\\anaconda\\envs\\py36_test\\lib\\site-packages\\tensorboard\\compat\\tensorflow_stub\\dtypes.py:545: FutureWarning: Passing (type, 1) or '1type' as a synonym of type is deprecated; in a future version of numpy, it will be understood as (type, (1,)) / '(1,)type'.\n",
      "  _np_qint32 = np.dtype([(\"qint32\", np.int32, 1)])\n",
      "C:\\anaconda\\envs\\py36_test\\lib\\site-packages\\tensorboard\\compat\\tensorflow_stub\\dtypes.py:550: FutureWarning: Passing (type, 1) or '1type' as a synonym of type is deprecated; in a future version of numpy, it will be understood as (type, (1,)) / '(1,)type'.\n",
      "  np_resource = np.dtype([(\"resource\", np.ubyte, 1)])\n",
      "Using TensorFlow backend.\n"
     ]
    }
   ],
   "source": [
    "import tensorflow as tf\n",
    "from tensorflow import keras\n",
    "from keras.models import Sequential\n",
    "from keras.layers import Activation,Dropout,Flatten,Dense\n",
    "from keras.preprocessing.image import ImageDataGenerator\n",
    "from keras.layers import Conv2D, MaxPooling2D,ZeroPadding2D\n",
    "from keras.models import load_model\n",
    "from keras import optimizers\n",
    "import scipy\n",
    "import pylab as pl\n",
    "import matplotlib.cm as cm\n",
    "%matplotlib inline"
   ]
  },
  {
   "cell_type": "code",
   "execution_count": 4,
   "metadata": {},
   "outputs": [],
   "source": [
    "input_shape=(150,150,3)\n",
    "input_width=150\n",
    "input_height=150"
   ]
  },
  {
   "cell_type": "code",
   "execution_count": 5,
   "metadata": {},
   "outputs": [],
   "source": [
    "nb_train_samples=480\n",
    "nb_validation_samples=44\n",
    "batch_size=20\n"
   ]
  },
  {
   "cell_type": "code",
   "execution_count": 6,
   "metadata": {},
   "outputs": [],
   "source": [
    "train_data_dir='F:/Data_Trained/Flip robo/flipkart/Train_augmnt'"
   ]
  },
  {
   "cell_type": "code",
   "execution_count": 7,
   "metadata": {},
   "outputs": [],
   "source": [
    "test_data_dir='F:/Data_Trained/Flip robo/flipkart/Test'"
   ]
  },
  {
   "cell_type": "code",
   "execution_count": 8,
   "metadata": {},
   "outputs": [],
   "source": [
    "# rescale the pixel values from [0,255] to [0,1] interval\n",
    "datagen=ImageDataGenerator(rescale=1./255)"
   ]
  },
  {
   "cell_type": "code",
   "execution_count": 9,
   "metadata": {},
   "outputs": [],
   "source": [
    "validation_datagen=ImageDataGenerator(rescale=1./255)"
   ]
  },
  {
   "cell_type": "code",
   "execution_count": 10,
   "metadata": {},
   "outputs": [
    {
     "name": "stdout",
     "output_type": "stream",
     "text": [
      "Found 960 images belonging to 2 classes.\n"
     ]
    }
   ],
   "source": [
    "# retreive images and their classes for train and validation sets\n",
    "train_generator=datagen.flow_from_directory(\n",
    "                         train_data_dir,target_size=(input_width,input_height),\n",
    "                          batch_size=10,class_mode='binary',shuffle=True)"
   ]
  },
  {
   "cell_type": "code",
   "execution_count": 11,
   "metadata": {},
   "outputs": [
    {
     "name": "stdout",
     "output_type": "stream",
     "text": [
      "Found 40 images belonging to 2 classes.\n"
     ]
    }
   ],
   "source": [
    "validation_generator=datagen.flow_from_directory(\n",
    "                         test_data_dir,target_size=(input_width,input_height),\n",
    "                          batch_size=10,class_mode='binary',shuffle=False)"
   ]
  },
  {
   "cell_type": "code",
   "execution_count": 12,
   "metadata": {},
   "outputs": [
    {
     "name": "stdout",
     "output_type": "stream",
     "text": [
      "WARNING:tensorflow:From C:\\anaconda\\envs\\py36_test\\lib\\site-packages\\keras\\backend\\tensorflow_backend.py:4070: The name tf.nn.max_pool is deprecated. Please use tf.nn.max_pool2d instead.\n",
      "\n",
      "Model: \"sequential_1\"\n",
      "_________________________________________________________________\n",
      "Layer (type)                 Output Shape              Param #   \n",
      "=================================================================\n",
      "conv2d_1 (Conv2D)            (None, 148, 148, 32)      896       \n",
      "_________________________________________________________________\n",
      "activation_1 (Activation)    (None, 148, 148, 32)      0         \n",
      "_________________________________________________________________\n",
      "max_pooling2d_1 (MaxPooling2 (None, 74, 74, 32)        0         \n",
      "_________________________________________________________________\n",
      "dropout_1 (Dropout)          (None, 74, 74, 32)        0         \n",
      "_________________________________________________________________\n",
      "conv2d_2 (Conv2D)            (None, 72, 72, 32)        9248      \n",
      "_________________________________________________________________\n",
      "activation_2 (Activation)    (None, 72, 72, 32)        0         \n",
      "_________________________________________________________________\n",
      "max_pooling2d_2 (MaxPooling2 (None, 36, 36, 32)        0         \n",
      "_________________________________________________________________\n",
      "dropout_2 (Dropout)          (None, 36, 36, 32)        0         \n",
      "_________________________________________________________________\n",
      "conv2d_3 (Conv2D)            (None, 34, 34, 64)        18496     \n",
      "_________________________________________________________________\n",
      "activation_3 (Activation)    (None, 34, 34, 64)        0         \n",
      "_________________________________________________________________\n",
      "max_pooling2d_3 (MaxPooling2 (None, 17, 17, 64)        0         \n",
      "_________________________________________________________________\n",
      "dropout_3 (Dropout)          (None, 17, 17, 64)        0         \n",
      "_________________________________________________________________\n",
      "flatten_1 (Flatten)          (None, 18496)             0         \n",
      "_________________________________________________________________\n",
      "dense_1 (Dense)              (None, 64)                1183808   \n",
      "_________________________________________________________________\n",
      "activation_4 (Activation)    (None, 64)                0         \n",
      "_________________________________________________________________\n",
      "dropout_4 (Dropout)          (None, 64)                0         \n",
      "_________________________________________________________________\n",
      "dense_2 (Dense)              (None, 1)                 65        \n",
      "_________________________________________________________________\n",
      "activation_5 (Activation)    (None, 1)                 0         \n",
      "=================================================================\n",
      "Total params: 1,212,513\n",
      "Trainable params: 1,212,513\n",
      "Non-trainable params: 0\n",
      "_________________________________________________________________\n",
      "None\n"
     ]
    }
   ],
   "source": [
    "model=Sequential()\n",
    "model.add(Conv2D(32,(3,3),input_shape=input_shape))\n",
    "model.add(Activation('relu'))\n",
    "model.add(MaxPooling2D(pool_size=(2,2)))\n",
    "model.add(Dropout(0.5))\n",
    "model.add(Conv2D(32,(3,3)))\n",
    "model.add(Activation('relu'))\n",
    "model.add(MaxPooling2D(pool_size=(2,2)))\n",
    "model.add(Dropout(0.5))\n",
    "model.add(Conv2D(64,(3,3)))\n",
    "model.add(Activation('relu'))\n",
    "model.add(MaxPooling2D(pool_size=(2,2)))\n",
    "model.add(Dropout(0.5))\n",
    "model.add(Flatten())\n",
    "model.add(Dense(64))\n",
    "model.add(Activation('relu'))\n",
    "model.add(Dropout(0.5))\n",
    "model.add(Dense(1))\n",
    "model.add(Activation('sigmoid'))\n",
    "print(model.summary())"
   ]
  },
  {
   "cell_type": "markdown",
   "metadata": {},
   "source": [
    "# UsingADAM"
   ]
  },
  {
   "cell_type": "code",
   "execution_count": 14,
   "metadata": {},
   "outputs": [],
   "source": [
    "from keras.optimizers import Adam\n",
    "from keras.callbacks import ModelCheckpoint,EarlyStopping, ReduceLROnPlateau"
   ]
  },
  {
   "cell_type": "code",
   "execution_count": 22,
   "metadata": {},
   "outputs": [],
   "source": [
    "checkpoint=ModelCheckpoint('F:/Data_Trained/Flip robo/flipkart/jeans_trouser_rms_cnn.h5',monitor='val_loss',\n",
    "                          mode='min',\n",
    "                          save_best_only=True,\n",
    "                          verbose=1)\n",
    "earlystop=EarlyStopping(monitor='val_loss',min_delta=0,\n",
    "                       patience=3,\n",
    "                       verbose=1,\n",
    "                       restore_best_weights=True)\n",
    "reduce_lr=ReduceLROnPlateau(monitor='val_loss',\n",
    "                           factor=0.2,\n",
    "                           patience=3,\n",
    "                           verbose=1,\n",
    "                           min_delta=0.0001)\n",
    "callbacks=[earlystop,checkpoint,reduce_lr]"
   ]
  },
  {
   "cell_type": "code",
   "execution_count": 23,
   "metadata": {},
   "outputs": [],
   "source": [
    "model.compile(loss='binary_crossentropy',optimizer=Adam(learning_rate=0.01),metrics=['accuracy'])"
   ]
  },
  {
   "cell_type": "code",
   "execution_count": 24,
   "metadata": {},
   "outputs": [
    {
     "name": "stdout",
     "output_type": "stream",
     "text": [
      "Epoch 1/20\n",
      "24/24 [==============================] - 21s 885ms/step - loss: 0.7138 - accuracy: 0.5458 - val_loss: 0.6825 - val_accuracy: 1.0000\n",
      "\n",
      "Epoch 00001: val_loss improved from inf to 0.68246, saving model to F:/Data_Trained/Flip robo/flipkart/jeans_trouser_cnn.h5\n",
      "Epoch 2/20\n",
      "24/24 [==============================] - 19s 800ms/step - loss: 0.6954 - accuracy: 0.4917 - val_loss: 0.6544 - val_accuracy: 1.0000\n",
      "\n",
      "Epoch 00002: val_loss improved from 0.68246 to 0.65445, saving model to F:/Data_Trained/Flip robo/flipkart/jeans_trouser_cnn.h5\n",
      "Epoch 3/20\n",
      "24/24 [==============================] - 20s 838ms/step - loss: 0.7076 - accuracy: 0.4708 - val_loss: 0.7067 - val_accuracy: 0.0000e+00\n",
      "\n",
      "Epoch 00003: val_loss did not improve from 0.65445\n",
      "Epoch 4/20\n",
      "24/24 [==============================] - 61s 3s/step - loss: 0.6926 - accuracy: 0.5042 - val_loss: 0.7099 - val_accuracy: 0.0000e+00\n",
      "\n",
      "Epoch 00004: val_loss did not improve from 0.65445\n",
      "Epoch 5/20\n",
      "24/24 [==============================] - 74s 3s/step - loss: 0.6956 - accuracy: 0.4417 - val_loss: 0.6817 - val_accuracy: 1.0000\n",
      "Restoring model weights from the end of the best epoch\n",
      "\n",
      "Epoch 00005: val_loss did not improve from 0.65445\n",
      "\n",
      "Epoch 00005: ReduceLROnPlateau reducing learning rate to 0.0019999999552965165.\n",
      "Epoch 00005: early stopping\n"
     ]
    }
   ],
   "source": [
    "history=model.fit_generator(train_generator,steps_per_epoch=nb_train_samples//batch_size,\n",
    "                           epochs=20,callbacks=callbacks,validation_data=validation_generator,\n",
    "                           validation_steps=nb_validation_samples//batch_size)"
   ]
  },
  {
   "cell_type": "markdown",
   "metadata": {},
   "source": [
    "# Using RMSprop"
   ]
  },
  {
   "cell_type": "code",
   "execution_count": 25,
   "metadata": {},
   "outputs": [],
   "source": [
    "checkpoint=ModelCheckpoint('F:/Data_Trained/Flip robo/flipkart/jeans_trouser_rms_cnn.h5',monitor='val_loss',\n",
    "                          mode='min',\n",
    "                          save_best_only=True,\n",
    "                          verbose=1)\n",
    "earlystop=EarlyStopping(monitor='val_loss',min_delta=0,\n",
    "                       patience=3,\n",
    "                       verbose=1,\n",
    "                       restore_best_weights=True)\n",
    "reduce_lr=ReduceLROnPlateau(monitor='val_loss',\n",
    "                           factor=0.2,\n",
    "                           patience=3,\n",
    "                           verbose=1,\n",
    "                           min_delta=0.0001)\n",
    "callbacks=[earlystop,checkpoint,reduce_lr]"
   ]
  },
  {
   "cell_type": "code",
   "execution_count": 27,
   "metadata": {},
   "outputs": [],
   "source": [
    "model.compile(loss='binary_crossentropy',optimizer='rmsprop',metrics=['accuracy'])"
   ]
  },
  {
   "cell_type": "code",
   "execution_count": 28,
   "metadata": {},
   "outputs": [
    {
     "name": "stdout",
     "output_type": "stream",
     "text": [
      "Epoch 1/20\n",
      "24/24 [==============================] - 20s 836ms/step - loss: 0.6996 - accuracy: 0.4875 - val_loss: 0.6974 - val_accuracy: 0.0000e+00\n",
      "\n",
      "Epoch 00001: val_loss improved from inf to 0.69736, saving model to F:/Data_Trained/Flip robo/flipkart/jeans_trouser_rms_cnn.h5\n",
      "Epoch 2/20\n",
      "24/24 [==============================] - 19s 789ms/step - loss: 0.6934 - accuracy: 0.5000 - val_loss: 0.6926 - val_accuracy: 1.0000\n",
      "\n",
      "Epoch 00002: val_loss improved from 0.69736 to 0.69260, saving model to F:/Data_Trained/Flip robo/flipkart/jeans_trouser_rms_cnn.h5\n",
      "Epoch 3/20\n",
      "24/24 [==============================] - 21s 886ms/step - loss: 0.6914 - accuracy: 0.5250 - val_loss: 0.6947 - val_accuracy: 0.0000e+00\n",
      "\n",
      "Epoch 00003: val_loss did not improve from 0.69260\n",
      "Epoch 4/20\n",
      "24/24 [==============================] - 22s 900ms/step - loss: 0.6964 - accuracy: 0.4667 - val_loss: 0.6929 - val_accuracy: 1.0000\n",
      "\n",
      "Epoch 00004: val_loss did not improve from 0.69260\n",
      "Epoch 5/20\n",
      "24/24 [==============================] - 21s 877ms/step - loss: 0.6931 - accuracy: 0.5208 - val_loss: 0.6920 - val_accuracy: 1.0000\n",
      "\n",
      "Epoch 00005: val_loss improved from 0.69260 to 0.69197, saving model to F:/Data_Trained/Flip robo/flipkart/jeans_trouser_rms_cnn.h5\n",
      "Epoch 6/20\n",
      "24/24 [==============================] - 24s 1s/step - loss: 0.6925 - accuracy: 0.5208 - val_loss: 0.6888 - val_accuracy: 1.0000\n",
      "\n",
      "Epoch 00006: val_loss improved from 0.69197 to 0.68876, saving model to F:/Data_Trained/Flip robo/flipkart/jeans_trouser_rms_cnn.h5\n",
      "Epoch 7/20\n",
      "24/24 [==============================] - 28s 1s/step - loss: 0.6949 - accuracy: 0.4500 - val_loss: 0.6939 - val_accuracy: 0.0000e+00\n",
      "\n",
      "Epoch 00007: val_loss did not improve from 0.68876\n",
      "Epoch 8/20\n",
      "24/24 [==============================] - 22s 908ms/step - loss: 0.6912 - accuracy: 0.5500 - val_loss: 0.6899 - val_accuracy: 1.0000\n",
      "\n",
      "Epoch 00008: val_loss did not improve from 0.68876\n",
      "Epoch 9/20\n",
      "24/24 [==============================] - 22s 901ms/step - loss: 0.6925 - accuracy: 0.5333 - val_loss: 0.6919 - val_accuracy: 1.0000\n",
      "Restoring model weights from the end of the best epoch\n",
      "\n",
      "Epoch 00009: val_loss did not improve from 0.68876\n",
      "\n",
      "Epoch 00009: ReduceLROnPlateau reducing learning rate to 0.00020000000949949026.\n",
      "Epoch 00009: early stopping\n"
     ]
    }
   ],
   "source": [
    "history=model.fit_generator(train_generator,steps_per_epoch=nb_train_samples//batch_size,\n",
    "                           epochs=20,callbacks=callbacks,validation_data=validation_generator,\n",
    "                           validation_steps=nb_validation_samples//batch_size)"
   ]
  },
  {
   "cell_type": "markdown",
   "metadata": {},
   "source": [
    "# SGD + Momentum"
   ]
  },
  {
   "cell_type": "code",
   "execution_count": 38,
   "metadata": {},
   "outputs": [],
   "source": [
    "from keras.optimizers import SGD"
   ]
  },
  {
   "cell_type": "code",
   "execution_count": 39,
   "metadata": {},
   "outputs": [],
   "source": [
    "checkpoint=ModelCheckpoint('F:/Data_Trained/Flip robo/flipkart/jeans_trouser_SGD_cnn.h5',monitor='val_loss',\n",
    "                          mode='min',\n",
    "                          save_best_only=True,\n",
    "                          verbose=1)\n",
    "earlystop=EarlyStopping(monitor='val_loss',min_delta=0,\n",
    "                       patience=3,\n",
    "                       verbose=1,\n",
    "                       restore_best_weights=True)\n",
    "reduce_lr=ReduceLROnPlateau(monitor='val_loss',\n",
    "                           factor=0.2,\n",
    "                           patience=3,\n",
    "                           verbose=1,\n",
    "                           min_delta=0.0001)\n",
    "callbacks=[earlystop,checkpoint,reduce_lr]"
   ]
  },
  {
   "cell_type": "code",
   "execution_count": 40,
   "metadata": {},
   "outputs": [],
   "source": [
    "model.compile(loss='binary_crossentropy',optimizer=SGD(lr=0.01),metrics=['accuracy'])"
   ]
  },
  {
   "cell_type": "code",
   "execution_count": 41,
   "metadata": {},
   "outputs": [
    {
     "name": "stdout",
     "output_type": "stream",
     "text": [
      "Epoch 1/20\n",
      "24/24 [==============================] - 22s 937ms/step - loss: 0.6921 - accuracy: 0.5167 - val_loss: 0.6936 - val_accuracy: 0.0000e+00\n",
      "\n",
      "Epoch 00001: val_loss improved from inf to 0.69356, saving model to F:/Data_Trained/Flip robo/flipkart/jeans_trouser_SGD_cnn.h5\n",
      "Epoch 2/20\n",
      "24/24 [==============================] - 25s 1s/step - loss: 0.6946 - accuracy: 0.4958 - val_loss: 0.6921 - val_accuracy: 1.0000\n",
      "\n",
      "Epoch 00002: val_loss improved from 0.69356 to 0.69206, saving model to F:/Data_Trained/Flip robo/flipkart/jeans_trouser_SGD_cnn.h5\n",
      "Epoch 3/20\n",
      "24/24 [==============================] - 19s 777ms/step - loss: 0.6918 - accuracy: 0.5542 - val_loss: 0.7004 - val_accuracy: 0.0000e+00\n",
      "\n",
      "Epoch 00003: val_loss did not improve from 0.69206\n",
      "Epoch 4/20\n",
      "24/24 [==============================] - 19s 777ms/step - loss: 0.6931 - accuracy: 0.5083 - val_loss: 0.6853 - val_accuracy: 1.0000\n",
      "\n",
      "Epoch 00004: val_loss improved from 0.69206 to 0.68527, saving model to F:/Data_Trained/Flip robo/flipkart/jeans_trouser_SGD_cnn.h5\n",
      "Epoch 5/20\n",
      "24/24 [==============================] - 19s 805ms/step - loss: 0.6942 - accuracy: 0.4667 - val_loss: 0.7046 - val_accuracy: 0.0000e+00\n",
      "\n",
      "Epoch 00005: val_loss did not improve from 0.68527\n",
      "Epoch 6/20\n",
      "24/24 [==============================] - 18s 768ms/step - loss: 0.6933 - accuracy: 0.5083 - val_loss: 0.6796 - val_accuracy: 1.0000\n",
      "\n",
      "Epoch 00006: val_loss improved from 0.68527 to 0.67962, saving model to F:/Data_Trained/Flip robo/flipkart/jeans_trouser_SGD_cnn.h5\n",
      "Epoch 7/20\n",
      "24/24 [==============================] - 18s 764ms/step - loss: 0.6944 - accuracy: 0.4958 - val_loss: 0.7005 - val_accuracy: 0.0000e+00\n",
      "\n",
      "Epoch 00007: val_loss did not improve from 0.67962\n",
      "Epoch 8/20\n",
      "24/24 [==============================] - 18s 758ms/step - loss: 0.6930 - accuracy: 0.5333 - val_loss: 0.6897 - val_accuracy: 1.0000\n",
      "\n",
      "Epoch 00008: val_loss did not improve from 0.67962\n",
      "Epoch 9/20\n",
      "24/24 [==============================] - 19s 771ms/step - loss: 0.6942 - accuracy: 0.4917 - val_loss: 0.6922 - val_accuracy: 1.0000\n",
      "Restoring model weights from the end of the best epoch\n",
      "\n",
      "Epoch 00009: val_loss did not improve from 0.67962\n",
      "\n",
      "Epoch 00009: ReduceLROnPlateau reducing learning rate to 0.0019999999552965165.\n",
      "Epoch 00009: early stopping\n"
     ]
    }
   ],
   "source": [
    "history=model.fit_generator(train_generator,steps_per_epoch=nb_train_samples//batch_size,\n",
    "                           epochs=20,callbacks=callbacks,validation_data=validation_generator,\n",
    "                           validation_steps=nb_validation_samples//batch_size)"
   ]
  },
  {
   "cell_type": "markdown",
   "metadata": {},
   "source": [
    "# using Nesterov Accelerated Gradient Descent"
   ]
  },
  {
   "cell_type": "code",
   "execution_count": 42,
   "metadata": {},
   "outputs": [],
   "source": [
    "checkpoint=ModelCheckpoint('F:/Data_Trained/Flip robo/flipkart/jeans_trouser_SGD_nes_cnn.h5',monitor='val_loss',\n",
    "                          mode='min',\n",
    "                          save_best_only=True,\n",
    "                          verbose=1)\n",
    "earlystop=EarlyStopping(monitor='val_loss',min_delta=0,\n",
    "                       patience=3,\n",
    "                       verbose=1,\n",
    "                       restore_best_weights=True)\n",
    "reduce_lr=ReduceLROnPlateau(monitor='val_loss',\n",
    "                           factor=0.2,\n",
    "                           patience=3,\n",
    "                           verbose=1,\n",
    "                           min_delta=0.0001)\n",
    "callbacks=[earlystop,checkpoint,reduce_lr]"
   ]
  },
  {
   "cell_type": "code",
   "execution_count": 43,
   "metadata": {},
   "outputs": [],
   "source": [
    "model.compile(loss='binary_crossentropy',optimizer=SGD(lr=0.01,nesterov=True),metrics=['accuracy'])"
   ]
  },
  {
   "cell_type": "code",
   "execution_count": 44,
   "metadata": {},
   "outputs": [
    {
     "name": "stdout",
     "output_type": "stream",
     "text": [
      "Epoch 1/20\n",
      "24/24 [==============================] - 28s 1s/step - loss: 0.6937 - accuracy: 0.5083 - val_loss: 0.7036 - val_accuracy: 0.0000e+00\n",
      "\n",
      "Epoch 00001: val_loss improved from inf to 0.70361, saving model to F:/Data_Trained/Flip robo/flipkart/jeans_trouser_SGD_nes_cnn.h5\n",
      "Epoch 2/20\n",
      "24/24 [==============================] - 34s 1s/step - loss: 0.6934 - accuracy: 0.4750 - val_loss: 0.6870 - val_accuracy: 1.0000\n",
      "\n",
      "Epoch 00002: val_loss improved from 0.70361 to 0.68695, saving model to F:/Data_Trained/Flip robo/flipkart/jeans_trouser_SGD_nes_cnn.h5\n",
      "Epoch 3/20\n",
      "24/24 [==============================] - 22s 897ms/step - loss: 0.6941 - accuracy: 0.4875 - val_loss: 0.6991 - val_accuracy: 0.0000e+00\n",
      "\n",
      "Epoch 00003: val_loss did not improve from 0.68695\n",
      "Epoch 4/20\n",
      "24/24 [==============================] - 19s 785ms/step - loss: 0.6937 - accuracy: 0.5000 - val_loss: 0.6824 - val_accuracy: 1.0000\n",
      "\n",
      "Epoch 00004: val_loss improved from 0.68695 to 0.68240, saving model to F:/Data_Trained/Flip robo/flipkart/jeans_trouser_SGD_nes_cnn.h5\n",
      "Epoch 5/20\n",
      "24/24 [==============================] - 19s 796ms/step - loss: 0.6940 - accuracy: 0.4833 - val_loss: 0.7030 - val_accuracy: 0.0000e+00\n",
      "\n",
      "Epoch 00005: val_loss did not improve from 0.68240\n",
      "Epoch 6/20\n",
      "24/24 [==============================] - 20s 813ms/step - loss: 0.6968 - accuracy: 0.4625 - val_loss: 0.6814 - val_accuracy: 1.0000\n",
      "\n",
      "Epoch 00006: val_loss improved from 0.68240 to 0.68144, saving model to F:/Data_Trained/Flip robo/flipkart/jeans_trouser_SGD_nes_cnn.h5\n",
      "Epoch 7/20\n",
      "24/24 [==============================] - 19s 798ms/step - loss: 0.6935 - accuracy: 0.5167 - val_loss: 0.7032 - val_accuracy: 0.0000e+00\n",
      "\n",
      "Epoch 00007: val_loss did not improve from 0.68144\n",
      "Epoch 8/20\n",
      "24/24 [==============================] - 20s 847ms/step - loss: 0.6927 - accuracy: 0.5042 - val_loss: 0.6857 - val_accuracy: 1.0000\n",
      "\n",
      "Epoch 00008: val_loss did not improve from 0.68144\n",
      "Epoch 9/20\n",
      "24/24 [==============================] - 19s 802ms/step - loss: 0.6935 - accuracy: 0.4958 - val_loss: 0.7032 - val_accuracy: 0.0000e+00\n",
      "Restoring model weights from the end of the best epoch\n",
      "\n",
      "Epoch 00009: val_loss did not improve from 0.68144\n",
      "\n",
      "Epoch 00009: ReduceLROnPlateau reducing learning rate to 0.0019999999552965165.\n",
      "Epoch 00009: early stopping\n"
     ]
    }
   ],
   "source": [
    "history=model.fit_generator(train_generator,steps_per_epoch=nb_train_samples//batch_size,\n",
    "                           epochs=20,callbacks=callbacks,validation_data=validation_generator,\n",
    "                           validation_steps=nb_validation_samples//batch_size)"
   ]
  },
  {
   "cell_type": "markdown",
   "metadata": {},
   "source": [
    "# using nadam"
   ]
  },
  {
   "cell_type": "code",
   "execution_count": 46,
   "metadata": {},
   "outputs": [],
   "source": [
    "from keras.optimizers import Nadam"
   ]
  },
  {
   "cell_type": "code",
   "execution_count": 47,
   "metadata": {},
   "outputs": [],
   "source": [
    "checkpoint=ModelCheckpoint('F:/Data_Trained/Flip robo/flipkart/jeans_trouser_nadam_nes_cnn.h5',monitor='val_loss',\n",
    "                          mode='min',\n",
    "                          save_best_only=True,\n",
    "                          verbose=1)\n",
    "earlystop=EarlyStopping(monitor='val_loss',min_delta=0,\n",
    "                       patience=3,\n",
    "                       verbose=1,\n",
    "                       restore_best_weights=True)\n",
    "reduce_lr=ReduceLROnPlateau(monitor='val_loss',\n",
    "                           factor=0.2,\n",
    "                           patience=3,\n",
    "                           verbose=1,\n",
    "                           min_delta=0.0001)\n",
    "callbacks=[earlystop,checkpoint,reduce_lr]"
   ]
  },
  {
   "cell_type": "code",
   "execution_count": 48,
   "metadata": {},
   "outputs": [],
   "source": [
    "model.compile(loss='binary_crossentropy',optimizer=Nadam(lr=0.01),metrics=['accuracy'])"
   ]
  },
  {
   "cell_type": "code",
   "execution_count": 49,
   "metadata": {},
   "outputs": [
    {
     "name": "stdout",
     "output_type": "stream",
     "text": [
      "Epoch 1/20\n",
      "24/24 [==============================] - 32s 1s/step - loss: 0.6923 - accuracy: 0.5083 - val_loss: 0.6922 - val_accuracy: 1.0000\n",
      "\n",
      "Epoch 00001: val_loss improved from inf to 0.69224, saving model to F:/Data_Trained/Flip robo/flipkart/jeans_trouser_nadam_nes_cnn.h5\n",
      "Epoch 2/20\n",
      "24/24 [==============================] - 37s 2s/step - loss: 0.6939 - accuracy: 0.5125 - val_loss: 0.6876 - val_accuracy: 1.0000\n",
      "\n",
      "Epoch 00002: val_loss improved from 0.69224 to 0.68760, saving model to F:/Data_Trained/Flip robo/flipkart/jeans_trouser_nadam_nes_cnn.h5\n",
      "Epoch 3/20\n",
      "24/24 [==============================] - 37s 2s/step - loss: 0.6889 - accuracy: 0.5292 - val_loss: 0.7395 - val_accuracy: 0.0000e+00\n",
      "\n",
      "Epoch 00003: val_loss did not improve from 0.68760\n",
      "Epoch 4/20\n",
      "24/24 [==============================] - 37s 2s/step - loss: 0.6885 - accuracy: 0.5792 - val_loss: 0.6867 - val_accuracy: 1.0000\n",
      "\n",
      "Epoch 00004: val_loss improved from 0.68760 to 0.68666, saving model to F:/Data_Trained/Flip robo/flipkart/jeans_trouser_nadam_nes_cnn.h5\n",
      "Epoch 5/20\n",
      "24/24 [==============================] - 31s 1s/step - loss: 0.6887 - accuracy: 0.5708 - val_loss: 0.7031 - val_accuracy: 0.0000e+00\n",
      "\n",
      "Epoch 00005: val_loss did not improve from 0.68666\n",
      "Epoch 6/20\n",
      "24/24 [==============================] - 29s 1s/step - loss: 0.6945 - accuracy: 0.5458 - val_loss: 0.7289 - val_accuracy: 0.0000e+00\n",
      "\n",
      "Epoch 00006: val_loss did not improve from 0.68666\n",
      "Epoch 7/20\n",
      "24/24 [==============================] - 26s 1s/step - loss: 0.7001 - accuracy: 0.4750 - val_loss: 0.6999 - val_accuracy: 0.0000e+00\n",
      "Restoring model weights from the end of the best epoch\n",
      "\n",
      "Epoch 00007: val_loss did not improve from 0.68666\n",
      "\n",
      "Epoch 00007: ReduceLROnPlateau reducing learning rate to 0.0019999999552965165.\n",
      "Epoch 00007: early stopping\n"
     ]
    }
   ],
   "source": [
    "history=model.fit_generator(train_generator,steps_per_epoch=nb_train_samples//batch_size,\n",
    "                           epochs=20,callbacks=callbacks,validation_data=validation_generator,\n",
    "                           validation_steps=nb_validation_samples//batch_size)"
   ]
  },
  {
   "cell_type": "code",
   "execution_count": null,
   "metadata": {},
   "outputs": [],
   "source": []
  },
  {
   "cell_type": "code",
   "execution_count": 50,
   "metadata": {},
   "outputs": [
    {
     "data": {
      "image/png": "[encoded data removed]",
      "text/plain": [
       "<Figure size 432x288 with 1 Axes>"
      ]
     },
     "metadata": {
      "needs_background": "light"
     },
     "output_type": "display_data"
    }
   ],
   "source": [
    "# Plotting our loss charts\n",
    "import matplotlib.pyplot as plt\n",
    "history_dict=history.history\n",
    "loss_values=history_dict['loss']\n",
    "val_loss_values=history_dict['val_loss']\n",
    "epochs=range(1,len(loss_values)+1)\n",
    "line1=plt.plot(epochs,val_loss_values,label='Validation/Test Loss')\n",
    "line2=plt.plot(epochs,loss_values,label='Training Loss')\n",
    "plt.setp(line1,linewidth=2.0,marker='+',markersize=10.0)\n",
    "plt.xlabel('Epochs')\n",
    "plt.ylabel('Loss')\n",
    "plt.grid(True)\n",
    "plt.legend()\n",
    "plt.show()"
   ]
  },
  {
   "cell_type": "code",
   "execution_count": null,
   "metadata": {},
   "outputs": [],
   "source": []
  },
  {
   "cell_type": "code",
   "execution_count": 51,
   "metadata": {},
   "outputs": [
    {
     "data": {
      "image/png": "[encoded data removed]",
      "text/plain": [
       "<Figure size 432x288 with 1 Axes>"
      ]
     },
     "metadata": {
      "needs_background": "light"
     },
     "output_type": "display_data"
    }
   ],
   "source": [
    "# Plotting accuracy Charts\n",
    "history_dict=history.history\n",
    "acc_values=history_dict['accuracy']\n",
    "val_acc_values=history_dict['val_accuracy']\n",
    "epochs=range(1,len(loss_values)+1)\n",
    "line1=plt.plot(epochs,val_acc_values,label='Validation/Test Accuracy')\n",
    "line2=plt.plot(epochs,acc_values,label='Training Accuracy')\n",
    "plt.setp(line1,linewidth=2.0,marker='+',markersize=10.0)\n",
    "plt.setp(line2,linewidth=2.0,marker='4',markersize=10.0)\n",
    "plt.xlabel('Epochs')\n",
    "plt.ylabel('Accuray')\n",
    "plt.grid(True)\n",
    "plt.legend()\n",
    "plt.show()"
   ]
  },
  {
   "cell_type": "code",
   "execution_count": 75,
   "metadata": {},
   "outputs": [],
   "source": []
  },
  {
   "cell_type": "code",
   "execution_count": null,
   "metadata": {},
   "outputs": [],
   "source": []
  },
  {
   "cell_type": "code",
   "execution_count": 31,
   "metadata": {},
   "outputs": [],
   "source": []
  },
  {
   "cell_type": "code",
   "execution_count": null,
   "metadata": {},
   "outputs": [],
   "source": []
  },
  {
   "cell_type": "code",
   "execution_count": null,
   "metadata": {},
   "outputs": [],
   "source": []
  }
 ],
 "metadata": {
  "kernelspec": {
   "display_name": "Python 3",
   "language": "python",
   "name": "python3"
  },
  "language_info": {
   "codemirror_mode": {
    "name": "ipython",
    "version": 3
   },
   "file_extension": ".py",
   "mimetype": "text/x-python",
   "name": "python",
   "nbconvert_exporter": "python",
   "pygments_lexer": "ipython3",
   "version": "3.6.10"
  }
 },
 "nbformat": 4,
 "nbformat_minor": 4
}
