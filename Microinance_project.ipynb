{
  "nbformat": 4,
  "nbformat_minor": 0,
  "metadata": {
    "colab": {
      "name": "Microinance_project.ipynb",
      "provenance": [],
      "collapsed_sections": []
    },
    "kernelspec": {
      "name": "python3",
      "display_name": "Python 3"
    }
  },
  "cells": [
    {
      "cell_type": "code",
      "metadata": {
        "id": "rt3r-pcg2mPA"
      },
      "source": [
        "import pandas as pd\n",
        "import numpy as np\n",
        "import seaborn as sns\n",
        "\n",
        "import matplotlib.pyplot as plt\n"
      ],
      "execution_count": 1,
      "outputs": []
    },
    {
      "cell_type": "code",
      "metadata": {
        "id": "xsX31ryu23jY",
        "outputId": "a3d85583-ed10-4e02-c903-ce29a70e4035",
        "colab": {
          "base_uri": "https://localhost:8080/"
        }
      },
      "source": [
        "from google.colab import drive\n",
        "drive.mount(\"/content/drive\")"
      ],
      "execution_count": 2,
      "outputs": [
        {
          "output_type": "stream",
          "text": [
            "Mounted at /content/drive\n"
          ],
          "name": "stdout"
        }
      ]
    },
    {
      "cell_type": "code",
      "metadata": {
        "id": "-giKo0DL4CHh"
      },
      "source": [
        "import os"
      ],
      "execution_count": 3,
      "outputs": []
    },
    {
      "cell_type": "code",
      "metadata": {
        "id": "7gYquiTk4Oj-"
      },
      "source": [
        "os.chdir(\"/content/drive/My Drive/Colab Notebooks\")"
      ],
      "execution_count": 4,
      "outputs": []
    },
    {
      "cell_type": "code",
      "metadata": {
        "id": "7Nef8uwr4mXV"
      },
      "source": [
        "df=pd.read_csv(\"/content/drive/My Drive/Data file.csv\")"
      ],
      "execution_count": 5,
      "outputs": []
    },
    {
      "cell_type": "code",
      "metadata": {
        "id": "3jVexsdD40gN",
        "outputId": "a55a70f7-d1aa-44b4-c2ac-6d648cbc6675",
        "colab": {
          "base_uri": "https://localhost:8080/",
          "height": 244
        }
      },
      "source": [
        "df.head(5)"
      ],
      "execution_count": 6,
      "outputs": [
        {
          "output_type": "execute_result",
          "data": {
            "text/html": [
              "<div>\n",
              "<style scoped>\n",
              "    .dataframe tbody tr th:only-of-type {\n",
              "        vertical-align: middle;\n",
              "    }\n",
              "\n",
              "    .dataframe tbody tr th {\n",
              "        vertical-align: top;\n",
              "    }\n",
              "\n",
              "    .dataframe thead th {\n",
              "        text-align: right;\n",
              "    }\n",
              "</style>\n",
              "<table border=\"1\" class=\"dataframe\">\n",
              "  <thead>\n",
              "    <tr style=\"text-align: right;\">\n",
              "      <th></th>\n",
              "      <th>Unnamed: 0</th>\n",
              "      <th>label</th>\n",
              "      <th>msisdn</th>\n",
              "      <th>aon</th>\n",
              "      <th>daily_decr30</th>\n",
              "      <th>daily_decr90</th>\n",
              "      <th>rental30</th>\n",
              "      <th>rental90</th>\n",
              "      <th>last_rech_date_ma</th>\n",
              "      <th>last_rech_date_da</th>\n",
              "      <th>last_rech_amt_ma</th>\n",
              "      <th>cnt_ma_rech30</th>\n",
              "      <th>fr_ma_rech30</th>\n",
              "      <th>sumamnt_ma_rech30</th>\n",
              "      <th>medianamnt_ma_rech30</th>\n",
              "      <th>medianmarechprebal30</th>\n",
              "      <th>cnt_ma_rech90</th>\n",
              "      <th>fr_ma_rech90</th>\n",
              "      <th>sumamnt_ma_rech90</th>\n",
              "      <th>medianamnt_ma_rech90</th>\n",
              "      <th>medianmarechprebal90</th>\n",
              "      <th>cnt_da_rech30</th>\n",
              "      <th>fr_da_rech30</th>\n",
              "      <th>cnt_da_rech90</th>\n",
              "      <th>fr_da_rech90</th>\n",
              "      <th>cnt_loans30</th>\n",
              "      <th>amnt_loans30</th>\n",
              "      <th>maxamnt_loans30</th>\n",
              "      <th>medianamnt_loans30</th>\n",
              "      <th>cnt_loans90</th>\n",
              "      <th>amnt_loans90</th>\n",
              "      <th>maxamnt_loans90</th>\n",
              "      <th>medianamnt_loans90</th>\n",
              "      <th>payback30</th>\n",
              "      <th>payback90</th>\n",
              "      <th>pcircle</th>\n",
              "      <th>pdate</th>\n",
              "    </tr>\n",
              "  </thead>\n",
              "  <tbody>\n",
              "    <tr>\n",
              "      <th>0</th>\n",
              "      <td>1</td>\n",
              "      <td>0</td>\n",
              "      <td>21408I70789</td>\n",
              "      <td>272.0</td>\n",
              "      <td>3055.050000</td>\n",
              "      <td>3065.150000</td>\n",
              "      <td>220.13</td>\n",
              "      <td>260.13</td>\n",
              "      <td>2.0</td>\n",
              "      <td>0.0</td>\n",
              "      <td>1539</td>\n",
              "      <td>2</td>\n",
              "      <td>21.0</td>\n",
              "      <td>3078.0</td>\n",
              "      <td>1539.0</td>\n",
              "      <td>7.50</td>\n",
              "      <td>2</td>\n",
              "      <td>21</td>\n",
              "      <td>3078</td>\n",
              "      <td>1539.0</td>\n",
              "      <td>7.50</td>\n",
              "      <td>0.0</td>\n",
              "      <td>0.0</td>\n",
              "      <td>0</td>\n",
              "      <td>0</td>\n",
              "      <td>2</td>\n",
              "      <td>12</td>\n",
              "      <td>6.0</td>\n",
              "      <td>0.0</td>\n",
              "      <td>2.0</td>\n",
              "      <td>12</td>\n",
              "      <td>6</td>\n",
              "      <td>0.0</td>\n",
              "      <td>29.000000</td>\n",
              "      <td>29.000000</td>\n",
              "      <td>UPW</td>\n",
              "      <td>2016-07-20</td>\n",
              "    </tr>\n",
              "    <tr>\n",
              "      <th>1</th>\n",
              "      <td>2</td>\n",
              "      <td>1</td>\n",
              "      <td>76462I70374</td>\n",
              "      <td>712.0</td>\n",
              "      <td>12122.000000</td>\n",
              "      <td>12124.750000</td>\n",
              "      <td>3691.26</td>\n",
              "      <td>3691.26</td>\n",
              "      <td>20.0</td>\n",
              "      <td>0.0</td>\n",
              "      <td>5787</td>\n",
              "      <td>1</td>\n",
              "      <td>0.0</td>\n",
              "      <td>5787.0</td>\n",
              "      <td>5787.0</td>\n",
              "      <td>61.04</td>\n",
              "      <td>1</td>\n",
              "      <td>0</td>\n",
              "      <td>5787</td>\n",
              "      <td>5787.0</td>\n",
              "      <td>61.04</td>\n",
              "      <td>0.0</td>\n",
              "      <td>0.0</td>\n",
              "      <td>0</td>\n",
              "      <td>0</td>\n",
              "      <td>1</td>\n",
              "      <td>12</td>\n",
              "      <td>12.0</td>\n",
              "      <td>0.0</td>\n",
              "      <td>1.0</td>\n",
              "      <td>12</td>\n",
              "      <td>12</td>\n",
              "      <td>0.0</td>\n",
              "      <td>0.000000</td>\n",
              "      <td>0.000000</td>\n",
              "      <td>UPW</td>\n",
              "      <td>2016-08-10</td>\n",
              "    </tr>\n",
              "    <tr>\n",
              "      <th>2</th>\n",
              "      <td>3</td>\n",
              "      <td>1</td>\n",
              "      <td>17943I70372</td>\n",
              "      <td>535.0</td>\n",
              "      <td>1398.000000</td>\n",
              "      <td>1398.000000</td>\n",
              "      <td>900.13</td>\n",
              "      <td>900.13</td>\n",
              "      <td>3.0</td>\n",
              "      <td>0.0</td>\n",
              "      <td>1539</td>\n",
              "      <td>1</td>\n",
              "      <td>0.0</td>\n",
              "      <td>1539.0</td>\n",
              "      <td>1539.0</td>\n",
              "      <td>66.32</td>\n",
              "      <td>1</td>\n",
              "      <td>0</td>\n",
              "      <td>1539</td>\n",
              "      <td>1539.0</td>\n",
              "      <td>66.32</td>\n",
              "      <td>0.0</td>\n",
              "      <td>0.0</td>\n",
              "      <td>0</td>\n",
              "      <td>0</td>\n",
              "      <td>1</td>\n",
              "      <td>6</td>\n",
              "      <td>6.0</td>\n",
              "      <td>0.0</td>\n",
              "      <td>1.0</td>\n",
              "      <td>6</td>\n",
              "      <td>6</td>\n",
              "      <td>0.0</td>\n",
              "      <td>0.000000</td>\n",
              "      <td>0.000000</td>\n",
              "      <td>UPW</td>\n",
              "      <td>2016-08-19</td>\n",
              "    </tr>\n",
              "    <tr>\n",
              "      <th>3</th>\n",
              "      <td>4</td>\n",
              "      <td>1</td>\n",
              "      <td>55773I70781</td>\n",
              "      <td>241.0</td>\n",
              "      <td>21.228000</td>\n",
              "      <td>21.228000</td>\n",
              "      <td>159.42</td>\n",
              "      <td>159.42</td>\n",
              "      <td>41.0</td>\n",
              "      <td>0.0</td>\n",
              "      <td>947</td>\n",
              "      <td>0</td>\n",
              "      <td>0.0</td>\n",
              "      <td>0.0</td>\n",
              "      <td>0.0</td>\n",
              "      <td>0.00</td>\n",
              "      <td>1</td>\n",
              "      <td>0</td>\n",
              "      <td>947</td>\n",
              "      <td>947.0</td>\n",
              "      <td>2.50</td>\n",
              "      <td>0.0</td>\n",
              "      <td>0.0</td>\n",
              "      <td>0</td>\n",
              "      <td>0</td>\n",
              "      <td>2</td>\n",
              "      <td>12</td>\n",
              "      <td>6.0</td>\n",
              "      <td>0.0</td>\n",
              "      <td>2.0</td>\n",
              "      <td>12</td>\n",
              "      <td>6</td>\n",
              "      <td>0.0</td>\n",
              "      <td>0.000000</td>\n",
              "      <td>0.000000</td>\n",
              "      <td>UPW</td>\n",
              "      <td>2016-06-06</td>\n",
              "    </tr>\n",
              "    <tr>\n",
              "      <th>4</th>\n",
              "      <td>5</td>\n",
              "      <td>1</td>\n",
              "      <td>03813I82730</td>\n",
              "      <td>947.0</td>\n",
              "      <td>150.619333</td>\n",
              "      <td>150.619333</td>\n",
              "      <td>1098.90</td>\n",
              "      <td>1098.90</td>\n",
              "      <td>4.0</td>\n",
              "      <td>0.0</td>\n",
              "      <td>2309</td>\n",
              "      <td>7</td>\n",
              "      <td>2.0</td>\n",
              "      <td>20029.0</td>\n",
              "      <td>2309.0</td>\n",
              "      <td>29.00</td>\n",
              "      <td>8</td>\n",
              "      <td>2</td>\n",
              "      <td>23496</td>\n",
              "      <td>2888.0</td>\n",
              "      <td>35.00</td>\n",
              "      <td>0.0</td>\n",
              "      <td>0.0</td>\n",
              "      <td>0</td>\n",
              "      <td>0</td>\n",
              "      <td>7</td>\n",
              "      <td>42</td>\n",
              "      <td>6.0</td>\n",
              "      <td>0.0</td>\n",
              "      <td>7.0</td>\n",
              "      <td>42</td>\n",
              "      <td>6</td>\n",
              "      <td>0.0</td>\n",
              "      <td>2.333333</td>\n",
              "      <td>2.333333</td>\n",
              "      <td>UPW</td>\n",
              "      <td>2016-06-22</td>\n",
              "    </tr>\n",
              "  </tbody>\n",
              "</table>\n",
              "</div>"
            ],
            "text/plain": [
              "   Unnamed: 0  label       msisdn  ...  payback90  pcircle       pdate\n",
              "0           1      0  21408I70789  ...  29.000000      UPW  2016-07-20\n",
              "1           2      1  76462I70374  ...   0.000000      UPW  2016-08-10\n",
              "2           3      1  17943I70372  ...   0.000000      UPW  2016-08-19\n",
              "3           4      1  55773I70781  ...   0.000000      UPW  2016-06-06\n",
              "4           5      1  03813I82730  ...   2.333333      UPW  2016-06-22\n",
              "\n",
              "[5 rows x 37 columns]"
            ]
          },
          "metadata": {
            "tags": []
          },
          "execution_count": 6
        }
      ]
    },
    {
      "cell_type": "code",
      "metadata": {
        "id": "x_N11mn34205"
      },
      "source": [
        "# Changing column name of Unnamed: 0\n",
        "df=df.rename(columns={\"Unnamed: 0\": \"SL NO\"})"
      ],
      "execution_count": 7,
      "outputs": []
    },
    {
      "cell_type": "code",
      "metadata": {
        "id": "kTKBI0zu6GhH",
        "outputId": "f953a00a-c8b5-441e-a980-7fa991b5a01a",
        "colab": {
          "base_uri": "https://localhost:8080/",
          "height": 244
        }
      },
      "source": [
        "df.head(5)"
      ],
      "execution_count": 8,
      "outputs": [
        {
          "output_type": "execute_result",
          "data": {
            "text/html": [
              "<div>\n",
              "<style scoped>\n",
              "    .dataframe tbody tr th:only-of-type {\n",
              "        vertical-align: middle;\n",
              "    }\n",
              "\n",
              "    .dataframe tbody tr th {\n",
              "        vertical-align: top;\n",
              "    }\n",
              "\n",
              "    .dataframe thead th {\n",
              "        text-align: right;\n",
              "    }\n",
              "</style>\n",
              "<table border=\"1\" class=\"dataframe\">\n",
              "  <thead>\n",
              "    <tr style=\"text-align: right;\">\n",
              "      <th></th>\n",
              "      <th>SL NO</th>\n",
              "      <th>label</th>\n",
              "      <th>msisdn</th>\n",
              "      <th>aon</th>\n",
              "      <th>daily_decr30</th>\n",
              "      <th>daily_decr90</th>\n",
              "      <th>rental30</th>\n",
              "      <th>rental90</th>\n",
              "      <th>last_rech_date_ma</th>\n",
              "      <th>last_rech_date_da</th>\n",
              "      <th>last_rech_amt_ma</th>\n",
              "      <th>cnt_ma_rech30</th>\n",
              "      <th>fr_ma_rech30</th>\n",
              "      <th>sumamnt_ma_rech30</th>\n",
              "      <th>medianamnt_ma_rech30</th>\n",
              "      <th>medianmarechprebal30</th>\n",
              "      <th>cnt_ma_rech90</th>\n",
              "      <th>fr_ma_rech90</th>\n",
              "      <th>sumamnt_ma_rech90</th>\n",
              "      <th>medianamnt_ma_rech90</th>\n",
              "      <th>medianmarechprebal90</th>\n",
              "      <th>cnt_da_rech30</th>\n",
              "      <th>fr_da_rech30</th>\n",
              "      <th>cnt_da_rech90</th>\n",
              "      <th>fr_da_rech90</th>\n",
              "      <th>cnt_loans30</th>\n",
              "      <th>amnt_loans30</th>\n",
              "      <th>maxamnt_loans30</th>\n",
              "      <th>medianamnt_loans30</th>\n",
              "      <th>cnt_loans90</th>\n",
              "      <th>amnt_loans90</th>\n",
              "      <th>maxamnt_loans90</th>\n",
              "      <th>medianamnt_loans90</th>\n",
              "      <th>payback30</th>\n",
              "      <th>payback90</th>\n",
              "      <th>pcircle</th>\n",
              "      <th>pdate</th>\n",
              "    </tr>\n",
              "  </thead>\n",
              "  <tbody>\n",
              "    <tr>\n",
              "      <th>0</th>\n",
              "      <td>1</td>\n",
              "      <td>0</td>\n",
              "      <td>21408I70789</td>\n",
              "      <td>272.0</td>\n",
              "      <td>3055.050000</td>\n",
              "      <td>3065.150000</td>\n",
              "      <td>220.13</td>\n",
              "      <td>260.13</td>\n",
              "      <td>2.0</td>\n",
              "      <td>0.0</td>\n",
              "      <td>1539</td>\n",
              "      <td>2</td>\n",
              "      <td>21.0</td>\n",
              "      <td>3078.0</td>\n",
              "      <td>1539.0</td>\n",
              "      <td>7.50</td>\n",
              "      <td>2</td>\n",
              "      <td>21</td>\n",
              "      <td>3078</td>\n",
              "      <td>1539.0</td>\n",
              "      <td>7.50</td>\n",
              "      <td>0.0</td>\n",
              "      <td>0.0</td>\n",
              "      <td>0</td>\n",
              "      <td>0</td>\n",
              "      <td>2</td>\n",
              "      <td>12</td>\n",
              "      <td>6.0</td>\n",
              "      <td>0.0</td>\n",
              "      <td>2.0</td>\n",
              "      <td>12</td>\n",
              "      <td>6</td>\n",
              "      <td>0.0</td>\n",
              "      <td>29.000000</td>\n",
              "      <td>29.000000</td>\n",
              "      <td>UPW</td>\n",
              "      <td>2016-07-20</td>\n",
              "    </tr>\n",
              "    <tr>\n",
              "      <th>1</th>\n",
              "      <td>2</td>\n",
              "      <td>1</td>\n",
              "      <td>76462I70374</td>\n",
              "      <td>712.0</td>\n",
              "      <td>12122.000000</td>\n",
              "      <td>12124.750000</td>\n",
              "      <td>3691.26</td>\n",
              "      <td>3691.26</td>\n",
              "      <td>20.0</td>\n",
              "      <td>0.0</td>\n",
              "      <td>5787</td>\n",
              "      <td>1</td>\n",
              "      <td>0.0</td>\n",
              "      <td>5787.0</td>\n",
              "      <td>5787.0</td>\n",
              "      <td>61.04</td>\n",
              "      <td>1</td>\n",
              "      <td>0</td>\n",
              "      <td>5787</td>\n",
              "      <td>5787.0</td>\n",
              "      <td>61.04</td>\n",
              "      <td>0.0</td>\n",
              "      <td>0.0</td>\n",
              "      <td>0</td>\n",
              "      <td>0</td>\n",
              "      <td>1</td>\n",
              "      <td>12</td>\n",
              "      <td>12.0</td>\n",
              "      <td>0.0</td>\n",
              "      <td>1.0</td>\n",
              "      <td>12</td>\n",
              "      <td>12</td>\n",
              "      <td>0.0</td>\n",
              "      <td>0.000000</td>\n",
              "      <td>0.000000</td>\n",
              "      <td>UPW</td>\n",
              "      <td>2016-08-10</td>\n",
              "    </tr>\n",
              "    <tr>\n",
              "      <th>2</th>\n",
              "      <td>3</td>\n",
              "      <td>1</td>\n",
              "      <td>17943I70372</td>\n",
              "      <td>535.0</td>\n",
              "      <td>1398.000000</td>\n",
              "      <td>1398.000000</td>\n",
              "      <td>900.13</td>\n",
              "      <td>900.13</td>\n",
              "      <td>3.0</td>\n",
              "      <td>0.0</td>\n",
              "      <td>1539</td>\n",
              "      <td>1</td>\n",
              "      <td>0.0</td>\n",
              "      <td>1539.0</td>\n",
              "      <td>1539.0</td>\n",
              "      <td>66.32</td>\n",
              "      <td>1</td>\n",
              "      <td>0</td>\n",
              "      <td>1539</td>\n",
              "      <td>1539.0</td>\n",
              "      <td>66.32</td>\n",
              "      <td>0.0</td>\n",
              "      <td>0.0</td>\n",
              "      <td>0</td>\n",
              "      <td>0</td>\n",
              "      <td>1</td>\n",
              "      <td>6</td>\n",
              "      <td>6.0</td>\n",
              "      <td>0.0</td>\n",
              "      <td>1.0</td>\n",
              "      <td>6</td>\n",
              "      <td>6</td>\n",
              "      <td>0.0</td>\n",
              "      <td>0.000000</td>\n",
              "      <td>0.000000</td>\n",
              "      <td>UPW</td>\n",
              "      <td>2016-08-19</td>\n",
              "    </tr>\n",
              "    <tr>\n",
              "      <th>3</th>\n",
              "      <td>4</td>\n",
              "      <td>1</td>\n",
              "      <td>55773I70781</td>\n",
              "      <td>241.0</td>\n",
              "      <td>21.228000</td>\n",
              "      <td>21.228000</td>\n",
              "      <td>159.42</td>\n",
              "      <td>159.42</td>\n",
              "      <td>41.0</td>\n",
              "      <td>0.0</td>\n",
              "      <td>947</td>\n",
              "      <td>0</td>\n",
              "      <td>0.0</td>\n",
              "      <td>0.0</td>\n",
              "      <td>0.0</td>\n",
              "      <td>0.00</td>\n",
              "      <td>1</td>\n",
              "      <td>0</td>\n",
              "      <td>947</td>\n",
              "      <td>947.0</td>\n",
              "      <td>2.50</td>\n",
              "      <td>0.0</td>\n",
              "      <td>0.0</td>\n",
              "      <td>0</td>\n",
              "      <td>0</td>\n",
              "      <td>2</td>\n",
              "      <td>12</td>\n",
              "      <td>6.0</td>\n",
              "      <td>0.0</td>\n",
              "      <td>2.0</td>\n",
              "      <td>12</td>\n",
              "      <td>6</td>\n",
              "      <td>0.0</td>\n",
              "      <td>0.000000</td>\n",
              "      <td>0.000000</td>\n",
              "      <td>UPW</td>\n",
              "      <td>2016-06-06</td>\n",
              "    </tr>\n",
              "    <tr>\n",
              "      <th>4</th>\n",
              "      <td>5</td>\n",
              "      <td>1</td>\n",
              "      <td>03813I82730</td>\n",
              "      <td>947.0</td>\n",
              "      <td>150.619333</td>\n",
              "      <td>150.619333</td>\n",
              "      <td>1098.90</td>\n",
              "      <td>1098.90</td>\n",
              "      <td>4.0</td>\n",
              "      <td>0.0</td>\n",
              "      <td>2309</td>\n",
              "      <td>7</td>\n",
              "      <td>2.0</td>\n",
              "      <td>20029.0</td>\n",
              "      <td>2309.0</td>\n",
              "      <td>29.00</td>\n",
              "      <td>8</td>\n",
              "      <td>2</td>\n",
              "      <td>23496</td>\n",
              "      <td>2888.0</td>\n",
              "      <td>35.00</td>\n",
              "      <td>0.0</td>\n",
              "      <td>0.0</td>\n",
              "      <td>0</td>\n",
              "      <td>0</td>\n",
              "      <td>7</td>\n",
              "      <td>42</td>\n",
              "      <td>6.0</td>\n",
              "      <td>0.0</td>\n",
              "      <td>7.0</td>\n",
              "      <td>42</td>\n",
              "      <td>6</td>\n",
              "      <td>0.0</td>\n",
              "      <td>2.333333</td>\n",
              "      <td>2.333333</td>\n",
              "      <td>UPW</td>\n",
              "      <td>2016-06-22</td>\n",
              "    </tr>\n",
              "  </tbody>\n",
              "</table>\n",
              "</div>"
            ],
            "text/plain": [
              "   SL NO  label       msisdn    aon  ...  payback30  payback90  pcircle       pdate\n",
              "0      1      0  21408I70789  272.0  ...  29.000000  29.000000      UPW  2016-07-20\n",
              "1      2      1  76462I70374  712.0  ...   0.000000   0.000000      UPW  2016-08-10\n",
              "2      3      1  17943I70372  535.0  ...   0.000000   0.000000      UPW  2016-08-19\n",
              "3      4      1  55773I70781  241.0  ...   0.000000   0.000000      UPW  2016-06-06\n",
              "4      5      1  03813I82730  947.0  ...   2.333333   2.333333      UPW  2016-06-22\n",
              "\n",
              "[5 rows x 37 columns]"
            ]
          },
          "metadata": {
            "tags": []
          },
          "execution_count": 8
        }
      ]
    },
    {
      "cell_type": "code",
      "metadata": {
        "id": "Vy-8IleD6IZd",
        "outputId": "bc730e59-79e2-4222-ae4f-2ca32ae1b1c0",
        "colab": {
          "base_uri": "https://localhost:8080/"
        }
      },
      "source": [
        "# Checking if any null value is the data\n",
        "df.isnull().sum()"
      ],
      "execution_count": 9,
      "outputs": [
        {
          "output_type": "execute_result",
          "data": {
            "text/plain": [
              "SL NO                   0\n",
              "label                   0\n",
              "msisdn                  0\n",
              "aon                     0\n",
              "daily_decr30            0\n",
              "daily_decr90            0\n",
              "rental30                0\n",
              "rental90                0\n",
              "last_rech_date_ma       0\n",
              "last_rech_date_da       0\n",
              "last_rech_amt_ma        0\n",
              "cnt_ma_rech30           0\n",
              "fr_ma_rech30            0\n",
              "sumamnt_ma_rech30       0\n",
              "medianamnt_ma_rech30    0\n",
              "medianmarechprebal30    0\n",
              "cnt_ma_rech90           0\n",
              "fr_ma_rech90            0\n",
              "sumamnt_ma_rech90       0\n",
              "medianamnt_ma_rech90    0\n",
              "medianmarechprebal90    0\n",
              "cnt_da_rech30           0\n",
              "fr_da_rech30            0\n",
              "cnt_da_rech90           0\n",
              "fr_da_rech90            0\n",
              "cnt_loans30             0\n",
              "amnt_loans30            0\n",
              "maxamnt_loans30         0\n",
              "medianamnt_loans30      0\n",
              "cnt_loans90             0\n",
              "amnt_loans90            0\n",
              "maxamnt_loans90         0\n",
              "medianamnt_loans90      0\n",
              "payback30               0\n",
              "payback90               0\n",
              "pcircle                 0\n",
              "pdate                   0\n",
              "dtype: int64"
            ]
          },
          "metadata": {
            "tags": []
          },
          "execution_count": 9
        }
      ]
    },
    {
      "cell_type": "code",
      "metadata": {
        "id": "t1dVK2_B6QTR"
      },
      "source": [
        "# no null value in data"
      ],
      "execution_count": 11,
      "outputs": []
    },
    {
      "cell_type": "code",
      "metadata": {
        "id": "xk1Qr8V36UaS",
        "outputId": "b0da23ab-d483-41cd-ae2b-fc65389d8999",
        "colab": {
          "base_uri": "https://localhost:8080/",
          "height": 320
        }
      },
      "source": [
        "df.describe()"
      ],
      "execution_count": 12,
      "outputs": [
        {
          "output_type": "execute_result",
          "data": {
            "text/html": [
              "<div>\n",
              "<style scoped>\n",
              "    .dataframe tbody tr th:only-of-type {\n",
              "        vertical-align: middle;\n",
              "    }\n",
              "\n",
              "    .dataframe tbody tr th {\n",
              "        vertical-align: top;\n",
              "    }\n",
              "\n",
              "    .dataframe thead th {\n",
              "        text-align: right;\n",
              "    }\n",
              "</style>\n",
              "<table border=\"1\" class=\"dataframe\">\n",
              "  <thead>\n",
              "    <tr style=\"text-align: right;\">\n",
              "      <th></th>\n",
              "      <th>SL NO</th>\n",
              "      <th>label</th>\n",
              "      <th>aon</th>\n",
              "      <th>daily_decr30</th>\n",
              "      <th>daily_decr90</th>\n",
              "      <th>rental30</th>\n",
              "      <th>rental90</th>\n",
              "      <th>last_rech_date_ma</th>\n",
              "      <th>last_rech_date_da</th>\n",
              "      <th>last_rech_amt_ma</th>\n",
              "      <th>cnt_ma_rech30</th>\n",
              "      <th>fr_ma_rech30</th>\n",
              "      <th>sumamnt_ma_rech30</th>\n",
              "      <th>medianamnt_ma_rech30</th>\n",
              "      <th>medianmarechprebal30</th>\n",
              "      <th>cnt_ma_rech90</th>\n",
              "      <th>fr_ma_rech90</th>\n",
              "      <th>sumamnt_ma_rech90</th>\n",
              "      <th>medianamnt_ma_rech90</th>\n",
              "      <th>medianmarechprebal90</th>\n",
              "      <th>cnt_da_rech30</th>\n",
              "      <th>fr_da_rech30</th>\n",
              "      <th>cnt_da_rech90</th>\n",
              "      <th>fr_da_rech90</th>\n",
              "      <th>cnt_loans30</th>\n",
              "      <th>amnt_loans30</th>\n",
              "      <th>maxamnt_loans30</th>\n",
              "      <th>medianamnt_loans30</th>\n",
              "      <th>cnt_loans90</th>\n",
              "      <th>amnt_loans90</th>\n",
              "      <th>maxamnt_loans90</th>\n",
              "      <th>medianamnt_loans90</th>\n",
              "      <th>payback30</th>\n",
              "      <th>payback90</th>\n",
              "    </tr>\n",
              "  </thead>\n",
              "  <tbody>\n",
              "    <tr>\n",
              "      <th>count</th>\n",
              "      <td>209593.000000</td>\n",
              "      <td>209593.000000</td>\n",
              "      <td>209593.000000</td>\n",
              "      <td>209593.000000</td>\n",
              "      <td>209593.000000</td>\n",
              "      <td>209593.000000</td>\n",
              "      <td>209593.000000</td>\n",
              "      <td>209593.000000</td>\n",
              "      <td>209593.000000</td>\n",
              "      <td>209593.000000</td>\n",
              "      <td>209593.000000</td>\n",
              "      <td>209593.000000</td>\n",
              "      <td>209593.000000</td>\n",
              "      <td>209593.000000</td>\n",
              "      <td>209593.000000</td>\n",
              "      <td>209593.00000</td>\n",
              "      <td>209593.000000</td>\n",
              "      <td>209593.000000</td>\n",
              "      <td>209593.000000</td>\n",
              "      <td>209593.000000</td>\n",
              "      <td>209593.000000</td>\n",
              "      <td>209593.000000</td>\n",
              "      <td>209593.000000</td>\n",
              "      <td>209593.000000</td>\n",
              "      <td>209593.000000</td>\n",
              "      <td>209593.000000</td>\n",
              "      <td>209593.000000</td>\n",
              "      <td>209593.000000</td>\n",
              "      <td>209593.000000</td>\n",
              "      <td>209593.000000</td>\n",
              "      <td>209593.000000</td>\n",
              "      <td>209593.000000</td>\n",
              "      <td>209593.000000</td>\n",
              "      <td>209593.000000</td>\n",
              "    </tr>\n",
              "    <tr>\n",
              "      <th>mean</th>\n",
              "      <td>104797.000000</td>\n",
              "      <td>0.875177</td>\n",
              "      <td>8112.343445</td>\n",
              "      <td>5381.402289</td>\n",
              "      <td>6082.515068</td>\n",
              "      <td>2692.581910</td>\n",
              "      <td>3483.406534</td>\n",
              "      <td>3755.847800</td>\n",
              "      <td>3712.202921</td>\n",
              "      <td>2064.452797</td>\n",
              "      <td>3.978057</td>\n",
              "      <td>3737.355121</td>\n",
              "      <td>7704.501157</td>\n",
              "      <td>1812.817952</td>\n",
              "      <td>3851.927942</td>\n",
              "      <td>6.31543</td>\n",
              "      <td>7.716780</td>\n",
              "      <td>12396.218352</td>\n",
              "      <td>1864.595821</td>\n",
              "      <td>92.025541</td>\n",
              "      <td>262.578110</td>\n",
              "      <td>3749.494447</td>\n",
              "      <td>0.041495</td>\n",
              "      <td>0.045712</td>\n",
              "      <td>2.758981</td>\n",
              "      <td>17.952021</td>\n",
              "      <td>274.658747</td>\n",
              "      <td>0.054029</td>\n",
              "      <td>18.520919</td>\n",
              "      <td>23.645398</td>\n",
              "      <td>6.703134</td>\n",
              "      <td>0.046077</td>\n",
              "      <td>3.398826</td>\n",
              "      <td>4.321485</td>\n",
              "    </tr>\n",
              "    <tr>\n",
              "      <th>std</th>\n",
              "      <td>60504.431823</td>\n",
              "      <td>0.330519</td>\n",
              "      <td>75696.082531</td>\n",
              "      <td>9220.623400</td>\n",
              "      <td>10918.812767</td>\n",
              "      <td>4308.586781</td>\n",
              "      <td>5770.461279</td>\n",
              "      <td>53905.892230</td>\n",
              "      <td>53374.833430</td>\n",
              "      <td>2370.786034</td>\n",
              "      <td>4.256090</td>\n",
              "      <td>53643.625172</td>\n",
              "      <td>10139.621714</td>\n",
              "      <td>2070.864620</td>\n",
              "      <td>54006.374433</td>\n",
              "      <td>7.19347</td>\n",
              "      <td>12.590251</td>\n",
              "      <td>16857.793882</td>\n",
              "      <td>2081.680664</td>\n",
              "      <td>369.215658</td>\n",
              "      <td>4183.897978</td>\n",
              "      <td>53885.414979</td>\n",
              "      <td>0.397556</td>\n",
              "      <td>0.951386</td>\n",
              "      <td>2.554502</td>\n",
              "      <td>17.379741</td>\n",
              "      <td>4245.264648</td>\n",
              "      <td>0.218039</td>\n",
              "      <td>224.797423</td>\n",
              "      <td>26.469861</td>\n",
              "      <td>2.103864</td>\n",
              "      <td>0.200692</td>\n",
              "      <td>8.813729</td>\n",
              "      <td>10.308108</td>\n",
              "    </tr>\n",
              "    <tr>\n",
              "      <th>min</th>\n",
              "      <td>1.000000</td>\n",
              "      <td>0.000000</td>\n",
              "      <td>-48.000000</td>\n",
              "      <td>-93.012667</td>\n",
              "      <td>-93.012667</td>\n",
              "      <td>-23737.140000</td>\n",
              "      <td>-24720.580000</td>\n",
              "      <td>-29.000000</td>\n",
              "      <td>-29.000000</td>\n",
              "      <td>0.000000</td>\n",
              "      <td>0.000000</td>\n",
              "      <td>0.000000</td>\n",
              "      <td>0.000000</td>\n",
              "      <td>0.000000</td>\n",
              "      <td>-200.000000</td>\n",
              "      <td>0.00000</td>\n",
              "      <td>0.000000</td>\n",
              "      <td>0.000000</td>\n",
              "      <td>0.000000</td>\n",
              "      <td>-200.000000</td>\n",
              "      <td>0.000000</td>\n",
              "      <td>0.000000</td>\n",
              "      <td>0.000000</td>\n",
              "      <td>0.000000</td>\n",
              "      <td>0.000000</td>\n",
              "      <td>0.000000</td>\n",
              "      <td>0.000000</td>\n",
              "      <td>0.000000</td>\n",
              "      <td>0.000000</td>\n",
              "      <td>0.000000</td>\n",
              "      <td>0.000000</td>\n",
              "      <td>0.000000</td>\n",
              "      <td>0.000000</td>\n",
              "      <td>0.000000</td>\n",
              "    </tr>\n",
              "    <tr>\n",
              "      <th>25%</th>\n",
              "      <td>52399.000000</td>\n",
              "      <td>1.000000</td>\n",
              "      <td>246.000000</td>\n",
              "      <td>42.440000</td>\n",
              "      <td>42.692000</td>\n",
              "      <td>280.420000</td>\n",
              "      <td>300.260000</td>\n",
              "      <td>1.000000</td>\n",
              "      <td>0.000000</td>\n",
              "      <td>770.000000</td>\n",
              "      <td>1.000000</td>\n",
              "      <td>0.000000</td>\n",
              "      <td>1540.000000</td>\n",
              "      <td>770.000000</td>\n",
              "      <td>11.000000</td>\n",
              "      <td>2.00000</td>\n",
              "      <td>0.000000</td>\n",
              "      <td>2317.000000</td>\n",
              "      <td>773.000000</td>\n",
              "      <td>14.600000</td>\n",
              "      <td>0.000000</td>\n",
              "      <td>0.000000</td>\n",
              "      <td>0.000000</td>\n",
              "      <td>0.000000</td>\n",
              "      <td>1.000000</td>\n",
              "      <td>6.000000</td>\n",
              "      <td>6.000000</td>\n",
              "      <td>0.000000</td>\n",
              "      <td>1.000000</td>\n",
              "      <td>6.000000</td>\n",
              "      <td>6.000000</td>\n",
              "      <td>0.000000</td>\n",
              "      <td>0.000000</td>\n",
              "      <td>0.000000</td>\n",
              "    </tr>\n",
              "    <tr>\n",
              "      <th>50%</th>\n",
              "      <td>104797.000000</td>\n",
              "      <td>1.000000</td>\n",
              "      <td>527.000000</td>\n",
              "      <td>1469.175667</td>\n",
              "      <td>1500.000000</td>\n",
              "      <td>1083.570000</td>\n",
              "      <td>1334.000000</td>\n",
              "      <td>3.000000</td>\n",
              "      <td>0.000000</td>\n",
              "      <td>1539.000000</td>\n",
              "      <td>3.000000</td>\n",
              "      <td>2.000000</td>\n",
              "      <td>4628.000000</td>\n",
              "      <td>1539.000000</td>\n",
              "      <td>33.900000</td>\n",
              "      <td>4.00000</td>\n",
              "      <td>2.000000</td>\n",
              "      <td>7226.000000</td>\n",
              "      <td>1539.000000</td>\n",
              "      <td>36.000000</td>\n",
              "      <td>0.000000</td>\n",
              "      <td>0.000000</td>\n",
              "      <td>0.000000</td>\n",
              "      <td>0.000000</td>\n",
              "      <td>2.000000</td>\n",
              "      <td>12.000000</td>\n",
              "      <td>6.000000</td>\n",
              "      <td>0.000000</td>\n",
              "      <td>2.000000</td>\n",
              "      <td>12.000000</td>\n",
              "      <td>6.000000</td>\n",
              "      <td>0.000000</td>\n",
              "      <td>0.000000</td>\n",
              "      <td>1.666667</td>\n",
              "    </tr>\n",
              "    <tr>\n",
              "      <th>75%</th>\n",
              "      <td>157195.000000</td>\n",
              "      <td>1.000000</td>\n",
              "      <td>982.000000</td>\n",
              "      <td>7244.000000</td>\n",
              "      <td>7802.790000</td>\n",
              "      <td>3356.940000</td>\n",
              "      <td>4201.790000</td>\n",
              "      <td>7.000000</td>\n",
              "      <td>0.000000</td>\n",
              "      <td>2309.000000</td>\n",
              "      <td>5.000000</td>\n",
              "      <td>6.000000</td>\n",
              "      <td>10010.000000</td>\n",
              "      <td>1924.000000</td>\n",
              "      <td>83.000000</td>\n",
              "      <td>8.00000</td>\n",
              "      <td>8.000000</td>\n",
              "      <td>16000.000000</td>\n",
              "      <td>1924.000000</td>\n",
              "      <td>79.310000</td>\n",
              "      <td>0.000000</td>\n",
              "      <td>0.000000</td>\n",
              "      <td>0.000000</td>\n",
              "      <td>0.000000</td>\n",
              "      <td>4.000000</td>\n",
              "      <td>24.000000</td>\n",
              "      <td>6.000000</td>\n",
              "      <td>0.000000</td>\n",
              "      <td>5.000000</td>\n",
              "      <td>30.000000</td>\n",
              "      <td>6.000000</td>\n",
              "      <td>0.000000</td>\n",
              "      <td>3.750000</td>\n",
              "      <td>4.500000</td>\n",
              "    </tr>\n",
              "    <tr>\n",
              "      <th>max</th>\n",
              "      <td>209593.000000</td>\n",
              "      <td>1.000000</td>\n",
              "      <td>999860.755168</td>\n",
              "      <td>265926.000000</td>\n",
              "      <td>320630.000000</td>\n",
              "      <td>198926.110000</td>\n",
              "      <td>200148.110000</td>\n",
              "      <td>998650.377733</td>\n",
              "      <td>999171.809410</td>\n",
              "      <td>55000.000000</td>\n",
              "      <td>203.000000</td>\n",
              "      <td>999606.368132</td>\n",
              "      <td>810096.000000</td>\n",
              "      <td>55000.000000</td>\n",
              "      <td>999479.419319</td>\n",
              "      <td>336.00000</td>\n",
              "      <td>88.000000</td>\n",
              "      <td>953036.000000</td>\n",
              "      <td>55000.000000</td>\n",
              "      <td>41456.500000</td>\n",
              "      <td>99914.441420</td>\n",
              "      <td>999809.240107</td>\n",
              "      <td>38.000000</td>\n",
              "      <td>64.000000</td>\n",
              "      <td>50.000000</td>\n",
              "      <td>306.000000</td>\n",
              "      <td>99864.560864</td>\n",
              "      <td>3.000000</td>\n",
              "      <td>4997.517944</td>\n",
              "      <td>438.000000</td>\n",
              "      <td>12.000000</td>\n",
              "      <td>3.000000</td>\n",
              "      <td>171.500000</td>\n",
              "      <td>171.500000</td>\n",
              "    </tr>\n",
              "  </tbody>\n",
              "</table>\n",
              "</div>"
            ],
            "text/plain": [
              "               SL NO          label  ...      payback30      payback90\n",
              "count  209593.000000  209593.000000  ...  209593.000000  209593.000000\n",
              "mean   104797.000000       0.875177  ...       3.398826       4.321485\n",
              "std     60504.431823       0.330519  ...       8.813729      10.308108\n",
              "min         1.000000       0.000000  ...       0.000000       0.000000\n",
              "25%     52399.000000       1.000000  ...       0.000000       0.000000\n",
              "50%    104797.000000       1.000000  ...       0.000000       1.666667\n",
              "75%    157195.000000       1.000000  ...       3.750000       4.500000\n",
              "max    209593.000000       1.000000  ...     171.500000     171.500000\n",
              "\n",
              "[8 rows x 34 columns]"
            ]
          },
          "metadata": {
            "tags": []
          },
          "execution_count": 12
        }
      ]
    },
    {
      "cell_type": "code",
      "metadata": {
        "id": "5ptzFbRr6ahx"
      },
      "source": [
        "#  looks there are outliers in the data"
      ],
      "execution_count": 13,
      "outputs": []
    },
    {
      "cell_type": "code",
      "metadata": {
        "id": "gYYMTsKO6imW",
        "outputId": "edb286ef-bc25-4352-f67f-76ac39f784c8",
        "colab": {
          "base_uri": "https://localhost:8080/"
        }
      },
      "source": [
        " df.info()"
      ],
      "execution_count": 16,
      "outputs": [
        {
          "output_type": "stream",
          "text": [
            "<class 'pandas.core.frame.DataFrame'>\n",
            "RangeIndex: 209593 entries, 0 to 209592\n",
            "Data columns (total 37 columns):\n",
            " #   Column                Non-Null Count   Dtype  \n",
            "---  ------                --------------   -----  \n",
            " 0   SL NO                 209593 non-null  int64  \n",
            " 1   label                 209593 non-null  int64  \n",
            " 2   msisdn                209593 non-null  object \n",
            " 3   aon                   209593 non-null  float64\n",
            " 4   daily_decr30          209593 non-null  float64\n",
            " 5   daily_decr90          209593 non-null  float64\n",
            " 6   rental30              209593 non-null  float64\n",
            " 7   rental90              209593 non-null  float64\n",
            " 8   last_rech_date_ma     209593 non-null  float64\n",
            " 9   last_rech_date_da     209593 non-null  float64\n",
            " 10  last_rech_amt_ma      209593 non-null  int64  \n",
            " 11  cnt_ma_rech30         209593 non-null  int64  \n",
            " 12  fr_ma_rech30          209593 non-null  float64\n",
            " 13  sumamnt_ma_rech30     209593 non-null  float64\n",
            " 14  medianamnt_ma_rech30  209593 non-null  float64\n",
            " 15  medianmarechprebal30  209593 non-null  float64\n",
            " 16  cnt_ma_rech90         209593 non-null  int64  \n",
            " 17  fr_ma_rech90          209593 non-null  int64  \n",
            " 18  sumamnt_ma_rech90     209593 non-null  int64  \n",
            " 19  medianamnt_ma_rech90  209593 non-null  float64\n",
            " 20  medianmarechprebal90  209593 non-null  float64\n",
            " 21  cnt_da_rech30         209593 non-null  float64\n",
            " 22  fr_da_rech30          209593 non-null  float64\n",
            " 23  cnt_da_rech90         209593 non-null  int64  \n",
            " 24  fr_da_rech90          209593 non-null  int64  \n",
            " 25  cnt_loans30           209593 non-null  int64  \n",
            " 26  amnt_loans30          209593 non-null  int64  \n",
            " 27  maxamnt_loans30       209593 non-null  float64\n",
            " 28  medianamnt_loans30    209593 non-null  float64\n",
            " 29  cnt_loans90           209593 non-null  float64\n",
            " 30  amnt_loans90          209593 non-null  int64  \n",
            " 31  maxamnt_loans90       209593 non-null  int64  \n",
            " 32  medianamnt_loans90    209593 non-null  float64\n",
            " 33  payback30             209593 non-null  float64\n",
            " 34  payback90             209593 non-null  float64\n",
            " 35  pcircle               209593 non-null  object \n",
            " 36  pdate                 209593 non-null  object \n",
            "dtypes: float64(21), int64(13), object(3)\n",
            "memory usage: 59.2+ MB\n"
          ],
          "name": "stdout"
        }
      ]
    },
    {
      "cell_type": "code",
      "metadata": {
        "id": "-C3cqB7V6lbr",
        "outputId": "76adeb2b-a40a-4bc8-fd79-06e84bf6bd7e",
        "colab": {
          "base_uri": "https://localhost:8080/"
        }
      },
      "source": [
        "df.shape"
      ],
      "execution_count": 18,
      "outputs": [
        {
          "output_type": "execute_result",
          "data": {
            "text/plain": [
              "(209593, 37)"
            ]
          },
          "metadata": {
            "tags": []
          },
          "execution_count": 18
        }
      ]
    },
    {
      "cell_type": "code",
      "metadata": {
        "id": "TyBKgnEW60VC",
        "outputId": "bb872801-ac8d-4b80-e506-91c43bcd8143",
        "colab": {
          "base_uri": "https://localhost:8080/"
        }
      },
      "source": [
        "for col in df.select_dtypes(['object']).columns:\n",
        "  print(col,':',df[col].nunique())"
      ],
      "execution_count": 19,
      "outputs": [
        {
          "output_type": "stream",
          "text": [
            "msisdn : 186243\n",
            "pcircle : 1\n",
            "pdate : 82\n"
          ],
          "name": "stdout"
        }
      ]
    },
    {
      "cell_type": "code",
      "metadata": {
        "id": "-5g8vVnX7URZ"
      },
      "source": [
        "# we an drop these columns as mobile number, pcircle i.e telecom circle and data is not the important columns for the model"
      ],
      "execution_count": 20,
      "outputs": []
    },
    {
      "cell_type": "code",
      "metadata": {
        "id": "GYf9J4Ju7rOa"
      },
      "source": [
        "for col in ['msisdn','pcircle','pdate']:\n",
        "  df.drop([col],1,inplace=True)"
      ],
      "execution_count": 22,
      "outputs": []
    },
    {
      "cell_type": "code",
      "metadata": {
        "id": "pk1iT8GJ8HwY",
        "outputId": "cdc8a9f0-af95-45e5-f81c-bef5b9a85f58",
        "colab": {
          "base_uri": "https://localhost:8080/"
        }
      },
      "source": [
        "df.shape"
      ],
      "execution_count": 23,
      "outputs": [
        {
          "output_type": "execute_result",
          "data": {
            "text/plain": [
              "(209593, 34)"
            ]
          },
          "metadata": {
            "tags": []
          },
          "execution_count": 23
        }
      ]
    },
    {
      "cell_type": "code",
      "metadata": {
        "id": "XQfUHq2P8L_H",
        "outputId": "20ebc542-f960-4ada-dcfa-24af28595d30",
        "colab": {
          "base_uri": "https://localhost:8080/",
          "height": 284
        }
      },
      "source": [
        "# Unnivariate analysis\n",
        "df['amnt_loans30'].plot.box()"
      ],
      "execution_count": 25,
      "outputs": [
        {
          "output_type": "execute_result",
          "data": {
            "text/plain": [
              "<matplotlib.axes._subplots.AxesSubplot at 0x7f5512cd9b70>"
            ]
          },
          "metadata": {
            "tags": []
          },
          "execution_count": 25
        },
        {
          "output_type": "display_data",
          "data": {
            "image/png": "[encoded data removed]",
            "text/plain": [
              "<Figure size 432x288 with 1 Axes>"
            ]
          },
          "metadata": {
            "tags": [],
            "needs_background": "light"
          }
        }
      ]
    },
    {
      "cell_type": "code",
      "metadata": {
        "id": "ZzLCtH3y9oB5",
        "outputId": "07ec81e0-8b77-4aa0-cf45-5e8cc6d45df2",
        "colab": {
          "base_uri": "https://localhost:8080/",
          "height": 284
        }
      },
      "source": [
        "df['amnt_loans90'].plot.box()"
      ],
      "execution_count": 26,
      "outputs": [
        {
          "output_type": "execute_result",
          "data": {
            "text/plain": [
              "<matplotlib.axes._subplots.AxesSubplot at 0x7f551ac00748>"
            ]
          },
          "metadata": {
            "tags": []
          },
          "execution_count": 26
        },
        {
          "output_type": "display_data",
          "data": {
            "image/png": "[encoded data removed]",
            "text/plain": [
              "<Figure size 432x288 with 1 Axes>"
            ]
          },
          "metadata": {
            "tags": [],
            "needs_background": "light"
          }
        }
      ]
    },
    {
      "cell_type": "code",
      "metadata": {
        "id": "Q9A5aA4B9zs0",
        "outputId": "9fd93538-f6c9-4e67-c572-96d15daa7786",
        "colab": {
          "base_uri": "https://localhost:8080/",
          "height": 284
        }
      },
      "source": [
        "df['cnt_loans30'].plot.box()"
      ],
      "execution_count": 28,
      "outputs": [
        {
          "output_type": "execute_result",
          "data": {
            "text/plain": [
              "<matplotlib.axes._subplots.AxesSubplot at 0x7f5512d57e80>"
            ]
          },
          "metadata": {
            "tags": []
          },
          "execution_count": 28
        },
        {
          "output_type": "display_data",
          "data": {
            "image/png": "[encoded data removed]",
            "text/plain": [
              "<Figure size 432x288 with 1 Axes>"
            ]
          },
          "metadata": {
            "tags": [],
            "needs_background": "light"
          }
        }
      ]
    },
    {
      "cell_type": "code",
      "metadata": {
        "id": "McOoZLb--AMh",
        "outputId": "852e02bd-86d9-4623-8a88-d4263d0a7fa3",
        "colab": {
          "base_uri": "https://localhost:8080/",
          "height": 283
        }
      },
      "source": [
        "df['payback30'].plot.box()"
      ],
      "execution_count": 29,
      "outputs": [
        {
          "output_type": "execute_result",
          "data": {
            "text/plain": [
              "<matplotlib.axes._subplots.AxesSubplot at 0x7f5512739470>"
            ]
          },
          "metadata": {
            "tags": []
          },
          "execution_count": 29
        },
        {
          "output_type": "display_data",
          "data": {
            "image/png": "[encoded data removed]",
            "text/plain": [
              "<Figure size 432x288 with 1 Axes>"
            ]
          },
          "metadata": {
            "tags": [],
            "needs_background": "light"
          }
        }
      ]
    },
    {
      "cell_type": "code",
      "metadata": {
        "id": "Wf21ccHf-KoY",
        "outputId": "ba858167-9427-42de-dc4a-4fdea4a64523",
        "colab": {
          "base_uri": "https://localhost:8080/",
          "height": 287
        }
      },
      "source": [
        "df['cnt_ma_rech90'].plot.box()"
      ],
      "execution_count": 30,
      "outputs": [
        {
          "output_type": "execute_result",
          "data": {
            "text/plain": [
              "<matplotlib.axes._subplots.AxesSubplot at 0x7f551268d6a0>"
            ]
          },
          "metadata": {
            "tags": []
          },
          "execution_count": 30
        },
        {
          "output_type": "display_data",
          "data": {
            "image/png": "[encoded data removed]",
            "text/plain": [
              "<Figure size 432x288 with 1 Axes>"
            ]
          },
          "metadata": {
            "tags": [],
            "needs_background": "light"
          }
        }
      ]
    },
    {
      "cell_type": "code",
      "metadata": {
        "id": "D-s0KY7X-VXZ"
      },
      "source": [
        "# Basis of univariate analysis it looks data has outlier"
      ],
      "execution_count": 31,
      "outputs": []
    },
    {
      "cell_type": "code",
      "metadata": {
        "id": "lxmKtMh9_b6v"
      },
      "source": [
        "# using zscore to rmove the outlier\n",
        "from scipy.stats import zscore\n",
        "z=np.abs(zscore(df))\n",
        "df1=df[(z<3).all(axis=1)]"
      ],
      "execution_count": 33,
      "outputs": []
    },
    {
      "cell_type": "code",
      "metadata": {
        "id": "9S8CqWQ5A5Y-",
        "outputId": "3973e1f3-4038-4041-8c23-d914679baa5c",
        "colab": {
          "base_uri": "https://localhost:8080/"
        }
      },
      "source": [
        "df.shape,df1.shape"
      ],
      "execution_count": 35,
      "outputs": [
        {
          "output_type": "execute_result",
          "data": {
            "text/plain": [
              "((209593, 34), (161465, 34))"
            ]
          },
          "metadata": {
            "tags": []
          },
          "execution_count": 35
        }
      ]
    },
    {
      "cell_type": "code",
      "metadata": {
        "id": "jKkirQmLBEH9"
      },
      "source": [
        "# now we hve remove the outliers nd oour new data set is df1"
      ],
      "execution_count": 43,
      "outputs": []
    },
    {
      "cell_type": "code",
      "metadata": {
        "id": "zXHh40-qCKTQ",
        "outputId": "5e345fed-c0fc-429b-bde1-6d3570fd02e0",
        "colab": {
          "base_uri": "https://localhost:8080/"
        }
      },
      "source": [
        "# Checcking skewness of data\n",
        "skw=df1.skew()\n",
        "skw"
      ],
      "execution_count": 44,
      "outputs": [
        {
          "output_type": "execute_result",
          "data": {
            "text/plain": [
              "SL NO                    0.000323\n",
              "label                   -2.090315\n",
              "aon                      0.957902\n",
              "daily_decr30             1.963747\n",
              "daily_decr90             2.077637\n",
              "rental30                 2.194889\n",
              "rental90                 2.244866\n",
              "last_rech_date_ma        3.099484\n",
              "last_rech_date_da       10.384887\n",
              "last_rech_amt_ma         2.125356\n",
              "cnt_ma_rech30            1.175157\n",
              "fr_ma_rech30             2.005139\n",
              "sumamnt_ma_rech30        1.634226\n",
              "medianamnt_ma_rech30     2.326312\n",
              "medianmarechprebal30    10.538891\n",
              "cnt_ma_rech90            1.321145\n",
              "fr_ma_rech90             1.985567\n",
              "sumamnt_ma_rech90        1.707309\n",
              "medianamnt_ma_rech90     2.373140\n",
              "medianmarechprebal90     3.692650\n",
              "cnt_da_rech30           50.760988\n",
              "fr_da_rech30             0.000000\n",
              "cnt_da_rech90            6.934340\n",
              "fr_da_rech90             0.000000\n",
              "cnt_loans30              1.465414\n",
              "amnt_loans30             1.441450\n",
              "maxamnt_loans30         53.470571\n",
              "medianamnt_loans30       5.355423\n",
              "cnt_loans90              1.708977\n",
              "amnt_loans90             1.695156\n",
              "maxamnt_loans90          2.680929\n",
              "medianamnt_loans90       6.099314\n",
              "payback30                2.612633\n",
              "payback90                2.532647\n",
              "dtype: float64"
            ]
          },
          "metadata": {
            "tags": []
          },
          "execution_count": 44
        }
      ]
    },
    {
      "cell_type": "code",
      "metadata": {
        "id": "biY7I59PBODy",
        "outputId": "34301f6e-75b1-4b75-e496-9b98edd44e52",
        "colab": {
          "base_uri": "https://localhost:8080/"
        }
      },
      "source": [
        "# positive skewness needs to be treated\n",
        "for col in df1.columns:\n",
        "    if df1.skew().loc[col]>0.55:\n",
        "        df1[col]=np.log1p(df1[col])"
      ],
      "execution_count": 45,
      "outputs": [
        {
          "output_type": "stream",
          "text": [
            "/usr/local/lib/python3.6/dist-packages/pandas/core/series.py:726: RuntimeWarning: divide by zero encountered in log1p\n",
            "  result = getattr(ufunc, method)(*inputs, **kwargs)\n",
            "/usr/local/lib/python3.6/dist-packages/pandas/core/series.py:726: RuntimeWarning: invalid value encountered in log1p\n",
            "  result = getattr(ufunc, method)(*inputs, **kwargs)\n",
            "/usr/local/lib/python3.6/dist-packages/ipykernel_launcher.py:4: SettingWithCopyWarning: \n",
            "A value is trying to be set on a copy of a slice from a DataFrame.\n",
            "Try using .loc[row_indexer,col_indexer] = value instead\n",
            "\n",
            "See the caveats in the documentation: https://pandas.pydata.org/pandas-docs/stable/user_guide/indexing.html#returning-a-view-versus-a-copy\n",
            "  after removing the cwd from sys.path.\n"
          ],
          "name": "stderr"
        }
      ]
    },
    {
      "cell_type": "code",
      "metadata": {
        "id": "WE1a2xN0Cgb7",
        "outputId": "769b68c5-5498-4530-d8ca-c199cdbc573c",
        "colab": {
          "base_uri": "https://localhost:8080/"
        }
      },
      "source": [
        "skw=df1.skew()\n",
        "skw"
      ],
      "execution_count": 46,
      "outputs": [
        {
          "output_type": "execute_result",
          "data": {
            "text/plain": [
              "SL NO                    0.000323\n",
              "label                   -2.090315\n",
              "aon                           NaN\n",
              "daily_decr30                  NaN\n",
              "daily_decr90                  NaN\n",
              "rental30                -1.342581\n",
              "rental90                -1.298290\n",
              "last_rech_date_ma             NaN\n",
              "last_rech_date_da             NaN\n",
              "last_rech_amt_ma        -2.064001\n",
              "cnt_ma_rech30           -0.197647\n",
              "fr_ma_rech30             0.381065\n",
              "sumamnt_ma_rech30       -1.676128\n",
              "medianamnt_ma_rech30    -1.759723\n",
              "medianmarechprebal30    -0.487028\n",
              "cnt_ma_rech90           -0.221177\n",
              "fr_ma_rech90             0.479830\n",
              "sumamnt_ma_rech90       -1.926452\n",
              "medianamnt_ma_rech90    -2.098929\n",
              "medianmarechprebal90    -0.646785\n",
              "cnt_da_rech30           40.271415\n",
              "fr_da_rech30             0.000000\n",
              "cnt_da_rech90            6.934340\n",
              "fr_da_rech90             0.000000\n",
              "cnt_loans30              0.603218\n",
              "amnt_loans30             0.124196\n",
              "maxamnt_loans30          5.691116\n",
              "medianamnt_loans30       5.355423\n",
              "cnt_loans90              0.653372\n",
              "amnt_loans90             0.431748\n",
              "maxamnt_loans90          2.680929\n",
              "medianamnt_loans90       6.099314\n",
              "payback30                0.655863\n",
              "payback90                0.517881\n",
              "dtype: float64"
            ]
          },
          "metadata": {
            "tags": []
          },
          "execution_count": 46
        }
      ]
    },
    {
      "cell_type": "code",
      "metadata": {
        "id": "luuI3_TxBc8D"
      },
      "source": [
        "from sklearn.preprocessing import StandardScaler\n",
        "sc=StandardScaler()\n",
        "x=sc.fit_transform(df1)\n",
        "x=pd.DataFrame(x,columns=df1.columns)"
      ],
      "execution_count": 39,
      "outputs": []
    },
    {
      "cell_type": "code",
      "metadata": {
        "id": "NloyNopwCeMp"
      },
      "source": [
        ""
      ],
      "execution_count": null,
      "outputs": []
    },
    {
      "cell_type": "code",
      "metadata": {
        "id": "pFSQj26AB6Q3",
        "outputId": "0870ef68-f79f-4af0-a1b0-90b9fbe46d12",
        "colab": {
          "base_uri": "https://localhost:8080/"
        }
      },
      "source": [
        "x.shape"
      ],
      "execution_count": 40,
      "outputs": [
        {
          "output_type": "execute_result",
          "data": {
            "text/plain": [
              "(161465, 34)"
            ]
          },
          "metadata": {
            "tags": []
          },
          "execution_count": 40
        }
      ]
    },
    {
      "cell_type": "code",
      "metadata": {
        "id": "Erw9IF0-B8Fp",
        "outputId": "65a53752-2bee-4291-f951-e9fef123291f",
        "colab": {
          "base_uri": "https://localhost:8080/",
          "height": 226
        }
      },
      "source": [
        "x.head(5)"
      ],
      "execution_count": 41,
      "outputs": [
        {
          "output_type": "execute_result",
          "data": {
            "text/html": [
              "<div>\n",
              "<style scoped>\n",
              "    .dataframe tbody tr th:only-of-type {\n",
              "        vertical-align: middle;\n",
              "    }\n",
              "\n",
              "    .dataframe tbody tr th {\n",
              "        vertical-align: top;\n",
              "    }\n",
              "\n",
              "    .dataframe thead th {\n",
              "        text-align: right;\n",
              "    }\n",
              "</style>\n",
              "<table border=\"1\" class=\"dataframe\">\n",
              "  <thead>\n",
              "    <tr style=\"text-align: right;\">\n",
              "      <th></th>\n",
              "      <th>SL NO</th>\n",
              "      <th>label</th>\n",
              "      <th>aon</th>\n",
              "      <th>daily_decr30</th>\n",
              "      <th>daily_decr90</th>\n",
              "      <th>rental30</th>\n",
              "      <th>rental90</th>\n",
              "      <th>last_rech_date_ma</th>\n",
              "      <th>last_rech_date_da</th>\n",
              "      <th>last_rech_amt_ma</th>\n",
              "      <th>cnt_ma_rech30</th>\n",
              "      <th>fr_ma_rech30</th>\n",
              "      <th>sumamnt_ma_rech30</th>\n",
              "      <th>medianamnt_ma_rech30</th>\n",
              "      <th>medianmarechprebal30</th>\n",
              "      <th>cnt_ma_rech90</th>\n",
              "      <th>fr_ma_rech90</th>\n",
              "      <th>sumamnt_ma_rech90</th>\n",
              "      <th>medianamnt_ma_rech90</th>\n",
              "      <th>medianmarechprebal90</th>\n",
              "      <th>cnt_da_rech30</th>\n",
              "      <th>fr_da_rech30</th>\n",
              "      <th>cnt_da_rech90</th>\n",
              "      <th>fr_da_rech90</th>\n",
              "      <th>cnt_loans30</th>\n",
              "      <th>amnt_loans30</th>\n",
              "      <th>maxamnt_loans30</th>\n",
              "      <th>medianamnt_loans30</th>\n",
              "      <th>cnt_loans90</th>\n",
              "      <th>amnt_loans90</th>\n",
              "      <th>maxamnt_loans90</th>\n",
              "      <th>medianamnt_loans90</th>\n",
              "      <th>payback30</th>\n",
              "      <th>payback90</th>\n",
              "    </tr>\n",
              "  </thead>\n",
              "  <tbody>\n",
              "    <tr>\n",
              "      <th>0</th>\n",
              "      <td>-1.730966</td>\n",
              "      <td>-2.491638</td>\n",
              "      <td>-0.753989</td>\n",
              "      <td>-0.126467</td>\n",
              "      <td>-0.169679</td>\n",
              "      <td>-0.644046</td>\n",
              "      <td>-0.635286</td>\n",
              "      <td>-0.411410</td>\n",
              "      <td>-0.119438</td>\n",
              "      <td>-0.129929</td>\n",
              "      <td>-0.468416</td>\n",
              "      <td>3.116889</td>\n",
              "      <td>-0.478194</td>\n",
              "      <td>-0.020133</td>\n",
              "      <td>-0.433767</td>\n",
              "      <td>-0.663040</td>\n",
              "      <td>1.337962</td>\n",
              "      <td>-0.635883</td>\n",
              "      <td>-0.046800</td>\n",
              "      <td>-0.527748</td>\n",
              "      <td>-0.020514</td>\n",
              "      <td>0.0</td>\n",
              "      <td>-0.141331</td>\n",
              "      <td>0.0</td>\n",
              "      <td>-0.271757</td>\n",
              "      <td>-0.324496</td>\n",
              "      <td>-0.022490</td>\n",
              "      <td>-0.180636</td>\n",
              "      <td>-0.431731</td>\n",
              "      <td>-0.460004</td>\n",
              "      <td>-0.331915</td>\n",
              "      <td>-0.159769</td>\n",
              "      <td>6.238367</td>\n",
              "      <td>5.206904</td>\n",
              "    </tr>\n",
              "    <tr>\n",
              "      <th>1</th>\n",
              "      <td>-1.730949</td>\n",
              "      <td>0.401342</td>\n",
              "      <td>0.132221</td>\n",
              "      <td>1.475220</td>\n",
              "      <td>1.235024</td>\n",
              "      <td>0.622504</td>\n",
              "      <td>0.338713</td>\n",
              "      <td>1.463090</td>\n",
              "      <td>-0.119438</td>\n",
              "      <td>2.235934</td>\n",
              "      <td>-0.792341</td>\n",
              "      <td>-0.718641</td>\n",
              "      <td>-0.032911</td>\n",
              "      <td>2.642042</td>\n",
              "      <td>-0.098841</td>\n",
              "      <td>-0.865668</td>\n",
              "      <td>-0.643145</td>\n",
              "      <td>-0.357580</td>\n",
              "      <td>2.619794</td>\n",
              "      <td>-0.082660</td>\n",
              "      <td>-0.020514</td>\n",
              "      <td>0.0</td>\n",
              "      <td>-0.141331</td>\n",
              "      <td>0.0</td>\n",
              "      <td>-0.796389</td>\n",
              "      <td>-0.324496</td>\n",
              "      <td>0.008528</td>\n",
              "      <td>-0.180636</td>\n",
              "      <td>-0.783344</td>\n",
              "      <td>-0.460004</td>\n",
              "      <td>3.012819</td>\n",
              "      <td>-0.159769</td>\n",
              "      <td>-0.619352</td>\n",
              "      <td>-0.647060</td>\n",
              "    </tr>\n",
              "    <tr>\n",
              "      <th>2</th>\n",
              "      <td>-1.730933</td>\n",
              "      <td>0.401342</td>\n",
              "      <td>-0.224277</td>\n",
              "      <td>-0.419187</td>\n",
              "      <td>-0.428173</td>\n",
              "      <td>-0.395927</td>\n",
              "      <td>-0.453609</td>\n",
              "      <td>-0.307271</td>\n",
              "      <td>-0.119438</td>\n",
              "      <td>-0.129929</td>\n",
              "      <td>-0.792341</td>\n",
              "      <td>-0.718641</td>\n",
              "      <td>-0.731162</td>\n",
              "      <td>-0.020133</td>\n",
              "      <td>-0.065811</td>\n",
              "      <td>-0.865668</td>\n",
              "      <td>-0.643145</td>\n",
              "      <td>-0.793989</td>\n",
              "      <td>-0.046800</td>\n",
              "      <td>-0.038766</td>\n",
              "      <td>-0.020514</td>\n",
              "      <td>0.0</td>\n",
              "      <td>-0.141331</td>\n",
              "      <td>0.0</td>\n",
              "      <td>-0.796389</td>\n",
              "      <td>-0.816438</td>\n",
              "      <td>-0.022490</td>\n",
              "      <td>-0.180636</td>\n",
              "      <td>-0.783344</td>\n",
              "      <td>-0.794570</td>\n",
              "      <td>-0.331915</td>\n",
              "      <td>-0.159769</td>\n",
              "      <td>-0.619352</td>\n",
              "      <td>-0.647060</td>\n",
              "    </tr>\n",
              "    <tr>\n",
              "      <th>3</th>\n",
              "      <td>-1.730916</td>\n",
              "      <td>0.401342</td>\n",
              "      <td>-0.816426</td>\n",
              "      <td>-0.662396</td>\n",
              "      <td>-0.641644</td>\n",
              "      <td>-0.666198</td>\n",
              "      <td>-0.663875</td>\n",
              "      <td>3.650007</td>\n",
              "      <td>-0.119438</td>\n",
              "      <td>-0.459635</td>\n",
              "      <td>-1.116266</td>\n",
              "      <td>-0.718641</td>\n",
              "      <td>-0.984130</td>\n",
              "      <td>-0.984607</td>\n",
              "      <td>-0.480684</td>\n",
              "      <td>-0.865668</td>\n",
              "      <td>-0.643145</td>\n",
              "      <td>-0.854806</td>\n",
              "      <td>-0.418415</td>\n",
              "      <td>-0.569314</td>\n",
              "      <td>-0.020514</td>\n",
              "      <td>0.0</td>\n",
              "      <td>-0.141331</td>\n",
              "      <td>0.0</td>\n",
              "      <td>-0.271757</td>\n",
              "      <td>-0.324496</td>\n",
              "      <td>-0.022490</td>\n",
              "      <td>-0.180636</td>\n",
              "      <td>-0.431731</td>\n",
              "      <td>-0.460004</td>\n",
              "      <td>-0.331915</td>\n",
              "      <td>-0.159769</td>\n",
              "      <td>-0.619352</td>\n",
              "      <td>-0.647060</td>\n",
              "    </tr>\n",
              "    <tr>\n",
              "      <th>4</th>\n",
              "      <td>-1.730900</td>\n",
              "      <td>0.401342</td>\n",
              "      <td>0.605537</td>\n",
              "      <td>-0.639539</td>\n",
              "      <td>-0.621581</td>\n",
              "      <td>-0.323399</td>\n",
              "      <td>-0.397184</td>\n",
              "      <td>-0.203132</td>\n",
              "      <td>-0.119438</td>\n",
              "      <td>0.298911</td>\n",
              "      <td>1.151207</td>\n",
              "      <td>-0.353352</td>\n",
              "      <td>2.308071</td>\n",
              "      <td>0.462418</td>\n",
              "      <td>-0.299271</td>\n",
              "      <td>0.552727</td>\n",
              "      <td>-0.454469</td>\n",
              "      <td>1.461713</td>\n",
              "      <td>0.800007</td>\n",
              "      <td>-0.299135</td>\n",
              "      <td>-0.020514</td>\n",
              "      <td>0.0</td>\n",
              "      <td>-0.141331</td>\n",
              "      <td>0.0</td>\n",
              "      <td>2.351404</td>\n",
              "      <td>2.135213</td>\n",
              "      <td>-0.022490</td>\n",
              "      <td>-0.180636</td>\n",
              "      <td>1.326336</td>\n",
              "      <td>1.212825</td>\n",
              "      <td>-0.331915</td>\n",
              "      <td>-0.159769</td>\n",
              "      <td>-0.067581</td>\n",
              "      <td>-0.176051</td>\n",
              "    </tr>\n",
              "  </tbody>\n",
              "</table>\n",
              "</div>"
            ],
            "text/plain": [
              "      SL NO     label       aon  ...  medianamnt_loans90  payback30  payback90\n",
              "0 -1.730966 -2.491638 -0.753989  ...           -0.159769   6.238367   5.206904\n",
              "1 -1.730949  0.401342  0.132221  ...           -0.159769  -0.619352  -0.647060\n",
              "2 -1.730933  0.401342 -0.224277  ...           -0.159769  -0.619352  -0.647060\n",
              "3 -1.730916  0.401342 -0.816426  ...           -0.159769  -0.619352  -0.647060\n",
              "4 -1.730900  0.401342  0.605537  ...           -0.159769  -0.067581  -0.176051\n",
              "\n",
              "[5 rows x 34 columns]"
            ]
          },
          "metadata": {
            "tags": []
          },
          "execution_count": 41
        }
      ]
    },
    {
      "cell_type": "code",
      "metadata": {
        "id": "rYOafrpHB-uD"
      },
      "source": [
        ""
      ],
      "execution_count": null,
      "outputs": []
    }
  ]
}