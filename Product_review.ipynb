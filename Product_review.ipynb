{
  "nbformat": 4,
  "nbformat_minor": 0,
  "metadata": {
    "colab": {
      "name": "Product_review.ipynb",
      "provenance": [],
      "collapsed_sections": []
    },
    "kernelspec": {
      "name": "python3",
      "display_name": "Python 3"
    }
  },
  "cells": [
    {
      "cell_type": "code",
      "metadata": {
        "id": "l7CDzqjuuKk7"
      },
      "source": [
        "import pandas as pd\n",
        "import numpy as np"
      ],
      "execution_count": 100,
      "outputs": []
    },
    {
      "cell_type": "code",
      "metadata": {
        "id": "qB6D2aJUvWxD",
        "outputId": "e36cdd61-0d99-4653-f1dc-c6024d314f5d",
        "colab": {
          "base_uri": "https://localhost:8080/",
          "height": 35
        }
      },
      "source": [
        "from google.colab import drive\n",
        "drive.mount(\"/content/drive\")\n"
      ],
      "execution_count": 101,
      "outputs": [
        {
          "output_type": "stream",
          "text": [
            "Drive already mounted at /content/drive; to attempt to forcibly remount, call drive.mount(\"/content/drive\", force_remount=True).\n"
          ],
          "name": "stdout"
        }
      ]
    },
    {
      "cell_type": "code",
      "metadata": {
        "id": "6Flx_tSRv-N5"
      },
      "source": [
        "import os"
      ],
      "execution_count": 102,
      "outputs": []
    },
    {
      "cell_type": "code",
      "metadata": {
        "id": "sNssWRdDSUaY"
      },
      "source": [
        ""
      ],
      "execution_count": null,
      "outputs": []
    },
    {
      "cell_type": "code",
      "metadata": {
        "id": "7Myof3pRzFmE"
      },
      "source": [
        "os.chdir(\"/content/drive/My Drive/Colab Notebooks\")"
      ],
      "execution_count": 103,
      "outputs": []
    },
    {
      "cell_type": "code",
      "metadata": {
        "id": "YmVkHyK-zKVq"
      },
      "source": [
        "data = pd.read_json('/content/drive/My Drive/Cell_Phones_and_Accessories.json')"
      ],
      "execution_count": 104,
      "outputs": []
    },
    {
      "cell_type": "code",
      "metadata": {
        "id": "zU5FFX_Y1MVh",
        "outputId": "fe4cfdcf-6589-4273-df3d-ae706482f111",
        "colab": {
          "base_uri": "https://localhost:8080/",
          "height": 1000
        }
      },
      "source": [
        "data.head(15)"
      ],
      "execution_count": 105,
      "outputs": [
        {
          "output_type": "execute_result",
          "data": {
            "text/html": [
              "<div>\n",
              "<style scoped>\n",
              "    .dataframe tbody tr th:only-of-type {\n",
              "        vertical-align: middle;\n",
              "    }\n",
              "\n",
              "    .dataframe tbody tr th {\n",
              "        vertical-align: top;\n",
              "    }\n",
              "\n",
              "    .dataframe thead th {\n",
              "        text-align: right;\n",
              "    }\n",
              "</style>\n",
              "<table border=\"1\" class=\"dataframe\">\n",
              "  <thead>\n",
              "    <tr style=\"text-align: right;\">\n",
              "      <th></th>\n",
              "      <th>Rating</th>\n",
              "      <th>Rev_verify</th>\n",
              "      <th>Review_Date</th>\n",
              "      <th>IC</th>\n",
              "      <th>Prod_meta</th>\n",
              "      <th>Reviewer_Name</th>\n",
              "      <th>Review</th>\n",
              "      <th>Rev_summ</th>\n",
              "      <th>Review_timestamp</th>\n",
              "      <th>Useful</th>\n",
              "      <th>Prod_img</th>\n",
              "    </tr>\n",
              "  </thead>\n",
              "  <tbody>\n",
              "    <tr>\n",
              "      <th>0</th>\n",
              "      <td>5</td>\n",
              "      <td>True</td>\n",
              "      <td>09 1, 2015</td>\n",
              "      <td>B009XD5TPQ</td>\n",
              "      <td>None</td>\n",
              "      <td>Sunny  Zoeller</td>\n",
              "      <td>Bought it for my husband. He's very happy with it</td>\n",
              "      <td>He's very happy with</td>\n",
              "      <td>1441065600</td>\n",
              "      <td>None</td>\n",
              "      <td>None</td>\n",
              "    </tr>\n",
              "    <tr>\n",
              "      <th>1</th>\n",
              "      <td>5</td>\n",
              "      <td>True</td>\n",
              "      <td>01 9, 2016</td>\n",
              "      <td>B016MF3P3K</td>\n",
              "      <td>None</td>\n",
              "      <td>Denise Lesley</td>\n",
              "      <td>Great screen protector.  Doesn't even seem as ...</td>\n",
              "      <td>Five Stars</td>\n",
              "      <td>1452297600</td>\n",
              "      <td>None</td>\n",
              "      <td>None</td>\n",
              "    </tr>\n",
              "    <tr>\n",
              "      <th>2</th>\n",
              "      <td>5</td>\n",
              "      <td>True</td>\n",
              "      <td>04 21, 2013</td>\n",
              "      <td>B008DC8N5G</td>\n",
              "      <td>None</td>\n",
              "      <td>Emir</td>\n",
              "      <td>Saved me lots of money! it's not gorilla glass...</td>\n",
              "      <td>As long as you know how to put it on!</td>\n",
              "      <td>1366502400</td>\n",
              "      <td>None</td>\n",
              "      <td>None</td>\n",
              "    </tr>\n",
              "    <tr>\n",
              "      <th>3</th>\n",
              "      <td>3</td>\n",
              "      <td>True</td>\n",
              "      <td>02 27, 2013</td>\n",
              "      <td>B0089CH3TM</td>\n",
              "      <td>{'Color:': ' Green'}</td>\n",
              "      <td>Alyse</td>\n",
              "      <td>The material and fit is very nice, but the col...</td>\n",
              "      <td>Good case overall</td>\n",
              "      <td>1361923200</td>\n",
              "      <td>3</td>\n",
              "      <td>None</td>\n",
              "    </tr>\n",
              "    <tr>\n",
              "      <th>4</th>\n",
              "      <td>4</td>\n",
              "      <td>True</td>\n",
              "      <td>12 19, 2013</td>\n",
              "      <td>B00AKZWGAC</td>\n",
              "      <td>None</td>\n",
              "      <td>TechGuy</td>\n",
              "      <td>This last me about 3 days till i have to charg...</td>\n",
              "      <td>Awesome Battery</td>\n",
              "      <td>1387411200</td>\n",
              "      <td>None</td>\n",
              "      <td>None</td>\n",
              "    </tr>\n",
              "    <tr>\n",
              "      <th>5</th>\n",
              "      <td>5</td>\n",
              "      <td>True</td>\n",
              "      <td>12 22, 2016</td>\n",
              "      <td>B00MAWPGMI</td>\n",
              "      <td>{'Color:': ' _Shimmery White'}</td>\n",
              "      <td>hannahv_tc</td>\n",
              "      <td>Love this case, very sturdy!</td>\n",
              "      <td>Five Stars</td>\n",
              "      <td>1482364800</td>\n",
              "      <td>None</td>\n",
              "      <td>None</td>\n",
              "    </tr>\n",
              "    <tr>\n",
              "      <th>6</th>\n",
              "      <td>5</td>\n",
              "      <td>False</td>\n",
              "      <td>08 1, 2016</td>\n",
              "      <td>B00NB7B4GI</td>\n",
              "      <td>None</td>\n",
              "      <td>Nadia</td>\n",
              "      <td>Simple and good quality iPhone 6 case. Fits on...</td>\n",
              "      <td>Simple and good quality iPhone 6 case</td>\n",
              "      <td>1470009600</td>\n",
              "      <td>None</td>\n",
              "      <td>None</td>\n",
              "    </tr>\n",
              "    <tr>\n",
              "      <th>7</th>\n",
              "      <td>5</td>\n",
              "      <td>True</td>\n",
              "      <td>06 22, 2015</td>\n",
              "      <td>B00NMR6N7W</td>\n",
              "      <td>{'Color:': ' Clear', 'Package Type:': ' Standa...</td>\n",
              "      <td>Jacob</td>\n",
              "      <td>Great screen protector for the money! Paid $1....</td>\n",
              "      <td>Perfect!</td>\n",
              "      <td>1434931200</td>\n",
              "      <td>None</td>\n",
              "      <td>None</td>\n",
              "    </tr>\n",
              "    <tr>\n",
              "      <th>8</th>\n",
              "      <td>5</td>\n",
              "      <td>True</td>\n",
              "      <td>08 13, 2017</td>\n",
              "      <td>B018V60504</td>\n",
              "      <td>{'Color:': ' Black'}</td>\n",
              "      <td>Metlman</td>\n",
              "      <td>Nice charger. One problem, one if the two USB ...</td>\n",
              "      <td>Make sure your Items work before you miss the ...</td>\n",
              "      <td>1502582400</td>\n",
              "      <td>None</td>\n",
              "      <td>None</td>\n",
              "    </tr>\n",
              "    <tr>\n",
              "      <th>9</th>\n",
              "      <td>5</td>\n",
              "      <td>False</td>\n",
              "      <td>04 2, 2015</td>\n",
              "      <td>B00PG8TID6</td>\n",
              "      <td>{'Color:': ' Black', 'Product Packaging:': ' S...</td>\n",
              "      <td>A. Burke</td>\n",
              "      <td>Most battery packs for iPhones come as a total...</td>\n",
              "      <td>This clever design combines a battery pack int...</td>\n",
              "      <td>1427932800</td>\n",
              "      <td>None</td>\n",
              "      <td>None</td>\n",
              "    </tr>\n",
              "    <tr>\n",
              "      <th>10</th>\n",
              "      <td>1</td>\n",
              "      <td>True</td>\n",
              "      <td>01 14, 2016</td>\n",
              "      <td>B00IJJCQBA</td>\n",
              "      <td>{'Color:': ' Black / Black'}</td>\n",
              "      <td>Stephanie</td>\n",
              "      <td>To tight on my phone and the bottom piece was ...</td>\n",
              "      <td>One Star</td>\n",
              "      <td>1452729600</td>\n",
              "      <td>None</td>\n",
              "      <td>None</td>\n",
              "    </tr>\n",
              "    <tr>\n",
              "      <th>11</th>\n",
              "      <td>5</td>\n",
              "      <td>True</td>\n",
              "      <td>06 12, 2012</td>\n",
              "      <td>B005NG52PO</td>\n",
              "      <td>None</td>\n",
              "      <td>C. Delgado</td>\n",
              "      <td>I bought this case for my wife. I put it on he...</td>\n",
              "      <td>Great fit and snaps tight</td>\n",
              "      <td>1339459200</td>\n",
              "      <td>None</td>\n",
              "      <td>None</td>\n",
              "    </tr>\n",
              "    <tr>\n",
              "      <th>12</th>\n",
              "      <td>1</td>\n",
              "      <td>True</td>\n",
              "      <td>07 11, 2016</td>\n",
              "      <td>B00I608BHU</td>\n",
              "      <td>{'Style:': ' Dash Mount'}</td>\n",
              "      <td>Deidre Smith Glennan</td>\n",
              "      <td>I wish I could give this ZERO stars.  VERY UNH...</td>\n",
              "      <td>I wish I could give this ZERO stars. VERY ...</td>\n",
              "      <td>1468195200</td>\n",
              "      <td>None</td>\n",
              "      <td>None</td>\n",
              "    </tr>\n",
              "    <tr>\n",
              "      <th>13</th>\n",
              "      <td>4</td>\n",
              "      <td>False</td>\n",
              "      <td>10 15, 2015</td>\n",
              "      <td>B015Y7E3RO</td>\n",
              "      <td>None</td>\n",
              "      <td>Renina Varfaj</td>\n",
              "      <td>Product was received for review purposes. This...</td>\n",
              "      <td>It is good material and it is a nice gift for ...</td>\n",
              "      <td>1444867200</td>\n",
              "      <td>None</td>\n",
              "      <td>[https://images-na.ssl-images-amazon.com/image...</td>\n",
              "    </tr>\n",
              "    <tr>\n",
              "      <th>14</th>\n",
              "      <td>2</td>\n",
              "      <td>True</td>\n",
              "      <td>06 23, 2017</td>\n",
              "      <td>B01E6312P8</td>\n",
              "      <td>{'Size:': ' Samsung Galaxy S7 Edge', 'Color:':...</td>\n",
              "      <td>C. John Smith</td>\n",
              "      <td>The volume buttons work amazingly well. They a...</td>\n",
              "      <td>What a shame. Almost perfect, but the power bu...</td>\n",
              "      <td>1498176000</td>\n",
              "      <td>4</td>\n",
              "      <td>None</td>\n",
              "    </tr>\n",
              "  </tbody>\n",
              "</table>\n",
              "</div>"
            ],
            "text/plain": [
              "    Rating  ...                                           Prod_img\n",
              "0        5  ...                                               None\n",
              "1        5  ...                                               None\n",
              "2        5  ...                                               None\n",
              "3        3  ...                                               None\n",
              "4        4  ...                                               None\n",
              "5        5  ...                                               None\n",
              "6        5  ...                                               None\n",
              "7        5  ...                                               None\n",
              "8        5  ...                                               None\n",
              "9        5  ...                                               None\n",
              "10       1  ...                                               None\n",
              "11       5  ...                                               None\n",
              "12       1  ...                                               None\n",
              "13       4  ...  [https://images-na.ssl-images-amazon.com/image...\n",
              "14       2  ...                                               None\n",
              "\n",
              "[15 rows x 11 columns]"
            ]
          },
          "metadata": {
            "tags": []
          },
          "execution_count": 105
        }
      ]
    },
    {
      "cell_type": "code",
      "metadata": {
        "id": "IzcdEwe62XTE",
        "outputId": "1c154f46-3161-4c01-d595-0cb9add25972",
        "colab": {
          "base_uri": "https://localhost:8080/",
          "height": 35
        }
      },
      "source": [
        "data.shape"
      ],
      "execution_count": 106,
      "outputs": [
        {
          "output_type": "execute_result",
          "data": {
            "text/plain": [
              "(760450, 11)"
            ]
          },
          "metadata": {
            "tags": []
          },
          "execution_count": 106
        }
      ]
    },
    {
      "cell_type": "code",
      "metadata": {
        "id": "OUpE_gbM2bCI",
        "outputId": "11f042d7-0f60-4386-a89d-521c1d734eb9",
        "colab": {
          "base_uri": "https://localhost:8080/",
          "height": 237
        }
      },
      "source": [
        "data.isnull().sum()"
      ],
      "execution_count": 107,
      "outputs": [
        {
          "output_type": "execute_result",
          "data": {
            "text/plain": [
              "Rating                   0\n",
              "Rev_verify               0\n",
              "Review_Date              0\n",
              "IC                       0\n",
              "Prod_meta           352624\n",
              "Reviewer_Name           91\n",
              "Review                 530\n",
              "Rev_summ               355\n",
              "Review_timestamp         0\n",
              "Useful              698250\n",
              "Prod_img            742256\n",
              "dtype: int64"
            ]
          },
          "metadata": {
            "tags": []
          },
          "execution_count": 107
        }
      ]
    },
    {
      "cell_type": "code",
      "metadata": {
        "id": "5BNhYjeA5KzB",
        "outputId": "7eaca934-8387-4af8-d06e-b04c02ebf350",
        "colab": {
          "base_uri": "https://localhost:8080/",
          "height": 348
        }
      },
      "source": [
        "data.info()"
      ],
      "execution_count": 108,
      "outputs": [
        {
          "output_type": "stream",
          "text": [
            "<class 'pandas.core.frame.DataFrame'>\n",
            "Int64Index: 760450 entries, 0 to 760449\n",
            "Data columns (total 11 columns):\n",
            " #   Column            Non-Null Count   Dtype \n",
            "---  ------            --------------   ----- \n",
            " 0   Rating            760450 non-null  int64 \n",
            " 1   Rev_verify        760450 non-null  bool  \n",
            " 2   Review_Date       760450 non-null  object\n",
            " 3   IC                760450 non-null  object\n",
            " 4   Prod_meta         407826 non-null  object\n",
            " 5   Reviewer_Name     760359 non-null  object\n",
            " 6   Review            759920 non-null  object\n",
            " 7   Rev_summ          760095 non-null  object\n",
            " 8   Review_timestamp  760450 non-null  int64 \n",
            " 9   Useful            62200 non-null   object\n",
            " 10  Prod_img          18194 non-null   object\n",
            "dtypes: bool(1), int64(2), object(8)\n",
            "memory usage: 64.5+ MB\n"
          ],
          "name": "stdout"
        }
      ]
    },
    {
      "cell_type": "code",
      "metadata": {
        "id": "G36NNQzq68At"
      },
      "source": [
        "# we will remove the columns which are not much important like- Reviewer_Name,Review_timestamp,Review_Date,Prod_img,Prod_meta,useful\n",
        "for col in ['Review_Date','Prod_meta','Reviewer_Name','Review_timestamp','Useful','Prod_img']:\n",
        "  data.drop([col],1,inplace=True)"
      ],
      "execution_count": 109,
      "outputs": []
    },
    {
      "cell_type": "code",
      "metadata": {
        "id": "19v-jgrD_PXQ",
        "outputId": "a04c53fd-efba-4e14-9348-4af26af6e326",
        "colab": {
          "base_uri": "https://localhost:8080/",
          "height": 35
        }
      },
      "source": [
        "data.shape"
      ],
      "execution_count": 110,
      "outputs": [
        {
          "output_type": "execute_result",
          "data": {
            "text/plain": [
              "(760450, 5)"
            ]
          },
          "metadata": {
            "tags": []
          },
          "execution_count": 110
        }
      ]
    },
    {
      "cell_type": "code",
      "metadata": {
        "id": "ERRE8s-x_SBV",
        "outputId": "3c14fd4e-6e79-413b-8729-1f45b9a06bc9",
        "colab": {
          "base_uri": "https://localhost:8080/",
          "height": 127
        }
      },
      "source": [
        "# lets check null values in data\n",
        "data.isnull().sum()"
      ],
      "execution_count": 111,
      "outputs": [
        {
          "output_type": "execute_result",
          "data": {
            "text/plain": [
              "Rating          0\n",
              "Rev_verify      0\n",
              "IC              0\n",
              "Review        530\n",
              "Rev_summ      355\n",
              "dtype: int64"
            ]
          },
          "metadata": {
            "tags": []
          },
          "execution_count": 111
        }
      ]
    },
    {
      "cell_type": "code",
      "metadata": {
        "id": "VtX3CQK6_bva"
      },
      "source": [
        "# need to handle null values\n",
        "data=data.dropna()"
      ],
      "execution_count": 112,
      "outputs": []
    },
    {
      "cell_type": "code",
      "metadata": {
        "id": "GRhCuZ6e_xJe",
        "outputId": "1a4e8e45-40eb-434f-c0e7-8f2db6d13ad8",
        "colab": {
          "base_uri": "https://localhost:8080/",
          "height": 127
        }
      },
      "source": [
        "data.isnull().sum()"
      ],
      "execution_count": 113,
      "outputs": [
        {
          "output_type": "execute_result",
          "data": {
            "text/plain": [
              "Rating        0\n",
              "Rev_verify    0\n",
              "IC            0\n",
              "Review        0\n",
              "Rev_summ      0\n",
              "dtype: int64"
            ]
          },
          "metadata": {
            "tags": []
          },
          "execution_count": 113
        }
      ]
    },
    {
      "cell_type": "code",
      "metadata": {
        "id": "DVCXXPE4BBJl",
        "outputId": "e82b3a31-440f-4f10-fee6-91da531fc856",
        "colab": {
          "base_uri": "https://localhost:8080/",
          "height": 35
        }
      },
      "source": [
        "data.shape"
      ],
      "execution_count": 114,
      "outputs": [
        {
          "output_type": "execute_result",
          "data": {
            "text/plain": [
              "(759602, 5)"
            ]
          },
          "metadata": {
            "tags": []
          },
          "execution_count": 114
        }
      ]
    },
    {
      "cell_type": "code",
      "metadata": {
        "id": "JImyYUsRBMWT",
        "outputId": "c5e013b3-ec42-4494-eb19-9bf682a5d8d1",
        "colab": {
          "base_uri": "https://localhost:8080/",
          "height": 363
        }
      },
      "source": [
        "# Null vlaues are handled\n",
        "# lets check data again\n",
        "data.head(10)"
      ],
      "execution_count": 115,
      "outputs": [
        {
          "output_type": "execute_result",
          "data": {
            "text/html": [
              "<div>\n",
              "<style scoped>\n",
              "    .dataframe tbody tr th:only-of-type {\n",
              "        vertical-align: middle;\n",
              "    }\n",
              "\n",
              "    .dataframe tbody tr th {\n",
              "        vertical-align: top;\n",
              "    }\n",
              "\n",
              "    .dataframe thead th {\n",
              "        text-align: right;\n",
              "    }\n",
              "</style>\n",
              "<table border=\"1\" class=\"dataframe\">\n",
              "  <thead>\n",
              "    <tr style=\"text-align: right;\">\n",
              "      <th></th>\n",
              "      <th>Rating</th>\n",
              "      <th>Rev_verify</th>\n",
              "      <th>IC</th>\n",
              "      <th>Review</th>\n",
              "      <th>Rev_summ</th>\n",
              "    </tr>\n",
              "  </thead>\n",
              "  <tbody>\n",
              "    <tr>\n",
              "      <th>0</th>\n",
              "      <td>5</td>\n",
              "      <td>True</td>\n",
              "      <td>B009XD5TPQ</td>\n",
              "      <td>Bought it for my husband. He's very happy with it</td>\n",
              "      <td>He's very happy with</td>\n",
              "    </tr>\n",
              "    <tr>\n",
              "      <th>1</th>\n",
              "      <td>5</td>\n",
              "      <td>True</td>\n",
              "      <td>B016MF3P3K</td>\n",
              "      <td>Great screen protector.  Doesn't even seem as ...</td>\n",
              "      <td>Five Stars</td>\n",
              "    </tr>\n",
              "    <tr>\n",
              "      <th>2</th>\n",
              "      <td>5</td>\n",
              "      <td>True</td>\n",
              "      <td>B008DC8N5G</td>\n",
              "      <td>Saved me lots of money! it's not gorilla glass...</td>\n",
              "      <td>As long as you know how to put it on!</td>\n",
              "    </tr>\n",
              "    <tr>\n",
              "      <th>3</th>\n",
              "      <td>3</td>\n",
              "      <td>True</td>\n",
              "      <td>B0089CH3TM</td>\n",
              "      <td>The material and fit is very nice, but the col...</td>\n",
              "      <td>Good case overall</td>\n",
              "    </tr>\n",
              "    <tr>\n",
              "      <th>4</th>\n",
              "      <td>4</td>\n",
              "      <td>True</td>\n",
              "      <td>B00AKZWGAC</td>\n",
              "      <td>This last me about 3 days till i have to charg...</td>\n",
              "      <td>Awesome Battery</td>\n",
              "    </tr>\n",
              "    <tr>\n",
              "      <th>5</th>\n",
              "      <td>5</td>\n",
              "      <td>True</td>\n",
              "      <td>B00MAWPGMI</td>\n",
              "      <td>Love this case, very sturdy!</td>\n",
              "      <td>Five Stars</td>\n",
              "    </tr>\n",
              "    <tr>\n",
              "      <th>6</th>\n",
              "      <td>5</td>\n",
              "      <td>False</td>\n",
              "      <td>B00NB7B4GI</td>\n",
              "      <td>Simple and good quality iPhone 6 case. Fits on...</td>\n",
              "      <td>Simple and good quality iPhone 6 case</td>\n",
              "    </tr>\n",
              "    <tr>\n",
              "      <th>7</th>\n",
              "      <td>5</td>\n",
              "      <td>True</td>\n",
              "      <td>B00NMR6N7W</td>\n",
              "      <td>Great screen protector for the money! Paid $1....</td>\n",
              "      <td>Perfect!</td>\n",
              "    </tr>\n",
              "    <tr>\n",
              "      <th>8</th>\n",
              "      <td>5</td>\n",
              "      <td>True</td>\n",
              "      <td>B018V60504</td>\n",
              "      <td>Nice charger. One problem, one if the two USB ...</td>\n",
              "      <td>Make sure your Items work before you miss the ...</td>\n",
              "    </tr>\n",
              "    <tr>\n",
              "      <th>9</th>\n",
              "      <td>5</td>\n",
              "      <td>False</td>\n",
              "      <td>B00PG8TID6</td>\n",
              "      <td>Most battery packs for iPhones come as a total...</td>\n",
              "      <td>This clever design combines a battery pack int...</td>\n",
              "    </tr>\n",
              "  </tbody>\n",
              "</table>\n",
              "</div>"
            ],
            "text/plain": [
              "   Rating  ...                                           Rev_summ\n",
              "0       5  ...                               He's very happy with\n",
              "1       5  ...                                         Five Stars\n",
              "2       5  ...              As long as you know how to put it on!\n",
              "3       3  ...                                  Good case overall\n",
              "4       4  ...                                    Awesome Battery\n",
              "5       5  ...                                         Five Stars\n",
              "6       5  ...              Simple and good quality iPhone 6 case\n",
              "7       5  ...                                           Perfect!\n",
              "8       5  ...  Make sure your Items work before you miss the ...\n",
              "9       5  ...  This clever design combines a battery pack int...\n",
              "\n",
              "[10 rows x 5 columns]"
            ]
          },
          "metadata": {
            "tags": []
          },
          "execution_count": 115
        }
      ]
    },
    {
      "cell_type": "code",
      "metadata": {
        "id": "9evQV1lNCfET",
        "outputId": "baa734b8-7504-48c4-ee4b-8725246abaa5",
        "colab": {
          "base_uri": "https://localhost:8080/",
          "height": 35
        }
      },
      "source": [
        "data['IC'].nunique()"
      ],
      "execution_count": 116,
      "outputs": [
        {
          "output_type": "execute_result",
          "data": {
            "text/plain": [
              "48133"
            ]
          },
          "metadata": {
            "tags": []
          },
          "execution_count": 116
        }
      ]
    },
    {
      "cell_type": "code",
      "metadata": {
        "id": "a8JTBTe-Y7ua",
        "outputId": "f62e34b2-a84d-4041-f35a-329c8dc7853c",
        "colab": {
          "base_uri": "https://localhost:8080/",
          "height": 237
        }
      },
      "source": [
        "data['IC'].value_counts()"
      ],
      "execution_count": 117,
      "outputs": [
        {
          "output_type": "execute_result",
          "data": {
            "text/plain": [
              "B00VH88CJ0    1125\n",
              "B005NF5NTK    1105\n",
              "B019PV2I3G    1033\n",
              "B00X5RV14Y    1018\n",
              "B00P7N0320    1011\n",
              "              ... \n",
              "B01DWDTDC2       1\n",
              "B00UAJJJEY       1\n",
              "B0011FXCL2       1\n",
              "B0012IZ4JG       1\n",
              "B0098QKXMM       1\n",
              "Name: IC, Length: 48133, dtype: int64"
            ]
          },
          "metadata": {
            "tags": []
          },
          "execution_count": 117
        }
      ]
    },
    {
      "cell_type": "code",
      "metadata": {
        "id": "wKAuPiE3ZCua"
      },
      "source": [
        "# importing libraries\n",
        "import string\n",
        "\n",
        "from collections import Counter\n",
        "\n",
        "import matplotlib.pyplot as plt\n",
        "\n",
        "from nltk.corpus import stopwords\n",
        "\n",
        "from nltk.sentiment.vader import SentimentIntensityAnalyzer\n",
        "\n",
        "from nltk.stem import WordNetLemmatizer\n",
        "\n",
        "from nltk.tokenize import word_tokenize\n",
        "\n",
        "import nltk\n",
        "#nltk.download('vader_lexicon')\n",
        "import warnings\n",
        "warnings.filterwarnings('ignore')\n"
      ],
      "execution_count": 118,
      "outputs": []
    },
    {
      "cell_type": "code",
      "metadata": {
        "id": "q0ToXscGaec0"
      },
      "source": [
        "data['rev_summary_keyword']=  data['Rev_summ'].str.lower()"
      ],
      "execution_count": 119,
      "outputs": []
    },
    {
      "cell_type": "code",
      "metadata": {
        "id": "QN2gvaeAazSe",
        "outputId": "6e864c2d-80b1-411e-9fb5-ab665d9be1f0",
        "colab": {
          "base_uri": "https://localhost:8080/",
          "height": 237
        }
      },
      "source": [
        "data['rev_summary_keyword']"
      ],
      "execution_count": 120,
      "outputs": [
        {
          "output_type": "execute_result",
          "data": {
            "text/plain": [
              "0                                      he's very happy with\n",
              "1                                                five stars\n",
              "2                     as long as you know how to put it on!\n",
              "3                                         good case overall\n",
              "4                                           awesome battery\n",
              "                                ...                        \n",
              "760445                                           four stars\n",
              "760446    ... believe that the samsung galaxy car mount ...\n",
              "760447                                          i love this\n",
              "760448                                           five stars\n",
              "760449                                  front cam has hole.\n",
              "Name: rev_summary_keyword, Length: 759602, dtype: object"
            ]
          },
          "metadata": {
            "tags": []
          },
          "execution_count": 120
        }
      ]
    },
    {
      "cell_type": "code",
      "metadata": {
        "id": "PGmP4qVfbQUx"
      },
      "source": [
        "# Remove punctuation\n",
        "data['rev_summary_keyword'] = data['rev_summary_keyword'].str.replace(r'[^\\w\\d\\s]', ' ')\n",
        "\n",
        "# Replace whitespace between terms with a single space\n",
        "data['rev_summary_keyword'] = data['rev_summary_keyword'].str.replace(r'\\s+', ' ')\n",
        "\n",
        "# Remove leading and trailing whitespace\n",
        "data['rev_summary_keyword'] = data['rev_summary_keyword'].str.replace(r'^\\s+|\\s+?$', '')"
      ],
      "execution_count": 121,
      "outputs": []
    },
    {
      "cell_type": "code",
      "metadata": {
        "id": "2OzVuB8sbfrO"
      },
      "source": [
        "# Remove stopwords\n",
        "import nltk\n",
        "\n",
        "\n"
      ],
      "execution_count": 122,
      "outputs": []
    },
    {
      "cell_type": "code",
      "metadata": {
        "id": "Ah_TD23Vb0Uj",
        "outputId": "11122ff0-dd42-47b8-bde9-8459d4880af0",
        "colab": {
          "base_uri": "https://localhost:8080/",
          "height": 72
        }
      },
      "source": [
        "nltk.download('stopwords')"
      ],
      "execution_count": 123,
      "outputs": [
        {
          "output_type": "stream",
          "text": [
            "[nltk_data] Downloading package stopwords to /root/nltk_data...\n",
            "[nltk_data]   Package stopwords is already up-to-date!\n"
          ],
          "name": "stdout"
        },
        {
          "output_type": "execute_result",
          "data": {
            "text/plain": [
              "True"
            ]
          },
          "metadata": {
            "tags": []
          },
          "execution_count": 123
        }
      ]
    },
    {
      "cell_type": "code",
      "metadata": {
        "id": "qnc0un-tdhlh"
      },
      "source": [
        "from nltk.corpus import  stopwords"
      ],
      "execution_count": 124,
      "outputs": []
    },
    {
      "cell_type": "code",
      "metadata": {
        "id": "6mhVRXnbcLDE"
      },
      "source": [
        "stop_words = set(stopwords.words('english') + ['u', 'ü', 'ur', '4', '2', 'im', 'dont', 'doin', 'ure'])"
      ],
      "execution_count": 125,
      "outputs": []
    },
    {
      "cell_type": "code",
      "metadata": {
        "id": "pPUgvusrdClO"
      },
      "source": [
        "data['rev_summary'] = data['rev_summary_keyword'].apply(lambda x: ' '.join(\n",
        "    term for term in x.split() if term not in stop_words))"
      ],
      "execution_count": 126,
      "outputs": []
    },
    {
      "cell_type": "code",
      "metadata": {
        "id": "TB91siaMdsxX",
        "outputId": "871135b5-6a06-4d5c-f61f-6a0a08b45ab6",
        "colab": {
          "base_uri": "https://localhost:8080/",
          "height": 519
        }
      },
      "source": [
        "data.head(10)"
      ],
      "execution_count": 127,
      "outputs": [
        {
          "output_type": "execute_result",
          "data": {
            "text/html": [
              "<div>\n",
              "<style scoped>\n",
              "    .dataframe tbody tr th:only-of-type {\n",
              "        vertical-align: middle;\n",
              "    }\n",
              "\n",
              "    .dataframe tbody tr th {\n",
              "        vertical-align: top;\n",
              "    }\n",
              "\n",
              "    .dataframe thead th {\n",
              "        text-align: right;\n",
              "    }\n",
              "</style>\n",
              "<table border=\"1\" class=\"dataframe\">\n",
              "  <thead>\n",
              "    <tr style=\"text-align: right;\">\n",
              "      <th></th>\n",
              "      <th>Rating</th>\n",
              "      <th>Rev_verify</th>\n",
              "      <th>IC</th>\n",
              "      <th>Review</th>\n",
              "      <th>Rev_summ</th>\n",
              "      <th>rev_summary_keyword</th>\n",
              "      <th>rev_summary</th>\n",
              "    </tr>\n",
              "  </thead>\n",
              "  <tbody>\n",
              "    <tr>\n",
              "      <th>0</th>\n",
              "      <td>5</td>\n",
              "      <td>True</td>\n",
              "      <td>B009XD5TPQ</td>\n",
              "      <td>Bought it for my husband. He's very happy with it</td>\n",
              "      <td>He's very happy with</td>\n",
              "      <td>he s very happy with</td>\n",
              "      <td>happy</td>\n",
              "    </tr>\n",
              "    <tr>\n",
              "      <th>1</th>\n",
              "      <td>5</td>\n",
              "      <td>True</td>\n",
              "      <td>B016MF3P3K</td>\n",
              "      <td>Great screen protector.  Doesn't even seem as ...</td>\n",
              "      <td>Five Stars</td>\n",
              "      <td>five stars</td>\n",
              "      <td>five stars</td>\n",
              "    </tr>\n",
              "    <tr>\n",
              "      <th>2</th>\n",
              "      <td>5</td>\n",
              "      <td>True</td>\n",
              "      <td>B008DC8N5G</td>\n",
              "      <td>Saved me lots of money! it's not gorilla glass...</td>\n",
              "      <td>As long as you know how to put it on!</td>\n",
              "      <td>as long as you know how to put it on</td>\n",
              "      <td>long know put</td>\n",
              "    </tr>\n",
              "    <tr>\n",
              "      <th>3</th>\n",
              "      <td>3</td>\n",
              "      <td>True</td>\n",
              "      <td>B0089CH3TM</td>\n",
              "      <td>The material and fit is very nice, but the col...</td>\n",
              "      <td>Good case overall</td>\n",
              "      <td>good case overall</td>\n",
              "      <td>good case overall</td>\n",
              "    </tr>\n",
              "    <tr>\n",
              "      <th>4</th>\n",
              "      <td>4</td>\n",
              "      <td>True</td>\n",
              "      <td>B00AKZWGAC</td>\n",
              "      <td>This last me about 3 days till i have to charg...</td>\n",
              "      <td>Awesome Battery</td>\n",
              "      <td>awesome battery</td>\n",
              "      <td>awesome battery</td>\n",
              "    </tr>\n",
              "    <tr>\n",
              "      <th>5</th>\n",
              "      <td>5</td>\n",
              "      <td>True</td>\n",
              "      <td>B00MAWPGMI</td>\n",
              "      <td>Love this case, very sturdy!</td>\n",
              "      <td>Five Stars</td>\n",
              "      <td>five stars</td>\n",
              "      <td>five stars</td>\n",
              "    </tr>\n",
              "    <tr>\n",
              "      <th>6</th>\n",
              "      <td>5</td>\n",
              "      <td>False</td>\n",
              "      <td>B00NB7B4GI</td>\n",
              "      <td>Simple and good quality iPhone 6 case. Fits on...</td>\n",
              "      <td>Simple and good quality iPhone 6 case</td>\n",
              "      <td>simple and good quality iphone 6 case</td>\n",
              "      <td>simple good quality iphone 6 case</td>\n",
              "    </tr>\n",
              "    <tr>\n",
              "      <th>7</th>\n",
              "      <td>5</td>\n",
              "      <td>True</td>\n",
              "      <td>B00NMR6N7W</td>\n",
              "      <td>Great screen protector for the money! Paid $1....</td>\n",
              "      <td>Perfect!</td>\n",
              "      <td>perfect</td>\n",
              "      <td>perfect</td>\n",
              "    </tr>\n",
              "    <tr>\n",
              "      <th>8</th>\n",
              "      <td>5</td>\n",
              "      <td>True</td>\n",
              "      <td>B018V60504</td>\n",
              "      <td>Nice charger. One problem, one if the two USB ...</td>\n",
              "      <td>Make sure your Items work before you miss the ...</td>\n",
              "      <td>make sure your items work before you miss the ...</td>\n",
              "      <td>make sure items work miss return window time</td>\n",
              "    </tr>\n",
              "    <tr>\n",
              "      <th>9</th>\n",
              "      <td>5</td>\n",
              "      <td>False</td>\n",
              "      <td>B00PG8TID6</td>\n",
              "      <td>Most battery packs for iPhones come as a total...</td>\n",
              "      <td>This clever design combines a battery pack int...</td>\n",
              "      <td>this clever design combines a battery pack int...</td>\n",
              "      <td>clever design combines battery pack working ip...</td>\n",
              "    </tr>\n",
              "  </tbody>\n",
              "</table>\n",
              "</div>"
            ],
            "text/plain": [
              "   Rating  ...                                        rev_summary\n",
              "0       5  ...                                              happy\n",
              "1       5  ...                                         five stars\n",
              "2       5  ...                                      long know put\n",
              "3       3  ...                                  good case overall\n",
              "4       4  ...                                    awesome battery\n",
              "5       5  ...                                         five stars\n",
              "6       5  ...                  simple good quality iphone 6 case\n",
              "7       5  ...                                            perfect\n",
              "8       5  ...       make sure items work miss return window time\n",
              "9       5  ...  clever design combines battery pack working ip...\n",
              "\n",
              "[10 rows x 7 columns]"
            ]
          },
          "metadata": {
            "tags": []
          },
          "execution_count": 127
        }
      ]
    },
    {
      "cell_type": "code",
      "metadata": {
        "id": "186Dcp-4dxyS"
      },
      "source": [
        "# drop  rev_summary_keyword\n",
        "\n",
        "data=data.drop(['rev_summary_keyword'],axis=1)\n"
      ],
      "execution_count": 128,
      "outputs": []
    },
    {
      "cell_type": "code",
      "metadata": {
        "id": "my8vaRGOesVY",
        "outputId": "c2dbdae5-17af-4b91-ad92-3899da174b45",
        "colab": {
          "base_uri": "https://localhost:8080/",
          "height": 35
        }
      },
      "source": [
        "data.shape"
      ],
      "execution_count": 129,
      "outputs": [
        {
          "output_type": "execute_result",
          "data": {
            "text/plain": [
              "(759602, 6)"
            ]
          },
          "metadata": {
            "tags": []
          },
          "execution_count": 129
        }
      ]
    },
    {
      "cell_type": "code",
      "metadata": {
        "id": "UJCm3dYce9Tb",
        "outputId": "2d26cf98-4716-4336-89a0-0a095d9c8d52",
        "colab": {
          "base_uri": "https://localhost:8080/",
          "height": 206
        }
      },
      "source": [
        "data.head(5)"
      ],
      "execution_count": 130,
      "outputs": [
        {
          "output_type": "execute_result",
          "data": {
            "text/html": [
              "<div>\n",
              "<style scoped>\n",
              "    .dataframe tbody tr th:only-of-type {\n",
              "        vertical-align: middle;\n",
              "    }\n",
              "\n",
              "    .dataframe tbody tr th {\n",
              "        vertical-align: top;\n",
              "    }\n",
              "\n",
              "    .dataframe thead th {\n",
              "        text-align: right;\n",
              "    }\n",
              "</style>\n",
              "<table border=\"1\" class=\"dataframe\">\n",
              "  <thead>\n",
              "    <tr style=\"text-align: right;\">\n",
              "      <th></th>\n",
              "      <th>Rating</th>\n",
              "      <th>Rev_verify</th>\n",
              "      <th>IC</th>\n",
              "      <th>Review</th>\n",
              "      <th>Rev_summ</th>\n",
              "      <th>rev_summary</th>\n",
              "    </tr>\n",
              "  </thead>\n",
              "  <tbody>\n",
              "    <tr>\n",
              "      <th>0</th>\n",
              "      <td>5</td>\n",
              "      <td>True</td>\n",
              "      <td>B009XD5TPQ</td>\n",
              "      <td>Bought it for my husband. He's very happy with it</td>\n",
              "      <td>He's very happy with</td>\n",
              "      <td>happy</td>\n",
              "    </tr>\n",
              "    <tr>\n",
              "      <th>1</th>\n",
              "      <td>5</td>\n",
              "      <td>True</td>\n",
              "      <td>B016MF3P3K</td>\n",
              "      <td>Great screen protector.  Doesn't even seem as ...</td>\n",
              "      <td>Five Stars</td>\n",
              "      <td>five stars</td>\n",
              "    </tr>\n",
              "    <tr>\n",
              "      <th>2</th>\n",
              "      <td>5</td>\n",
              "      <td>True</td>\n",
              "      <td>B008DC8N5G</td>\n",
              "      <td>Saved me lots of money! it's not gorilla glass...</td>\n",
              "      <td>As long as you know how to put it on!</td>\n",
              "      <td>long know put</td>\n",
              "    </tr>\n",
              "    <tr>\n",
              "      <th>3</th>\n",
              "      <td>3</td>\n",
              "      <td>True</td>\n",
              "      <td>B0089CH3TM</td>\n",
              "      <td>The material and fit is very nice, but the col...</td>\n",
              "      <td>Good case overall</td>\n",
              "      <td>good case overall</td>\n",
              "    </tr>\n",
              "    <tr>\n",
              "      <th>4</th>\n",
              "      <td>4</td>\n",
              "      <td>True</td>\n",
              "      <td>B00AKZWGAC</td>\n",
              "      <td>This last me about 3 days till i have to charg...</td>\n",
              "      <td>Awesome Battery</td>\n",
              "      <td>awesome battery</td>\n",
              "    </tr>\n",
              "  </tbody>\n",
              "</table>\n",
              "</div>"
            ],
            "text/plain": [
              "   Rating  Rev_verify  ...                               Rev_summ        rev_summary\n",
              "0       5        True  ...                   He's very happy with              happy\n",
              "1       5        True  ...                             Five Stars         five stars\n",
              "2       5        True  ...  As long as you know how to put it on!      long know put\n",
              "3       3        True  ...                      Good case overall  good case overall\n",
              "4       4        True  ...                        Awesome Battery    awesome battery\n",
              "\n",
              "[5 rows x 6 columns]"
            ]
          },
          "metadata": {
            "tags": []
          },
          "execution_count": 130
        }
      ]
    },
    {
      "cell_type": "code",
      "metadata": {
        "id": "3dVEUtgcgBeH",
        "outputId": "a348acea-1c0c-4e69-be2c-216cd4eec39b",
        "colab": {
          "base_uri": "https://localhost:8080/",
          "height": 433
        }
      },
      "source": [
        "data.tail(10)"
      ],
      "execution_count": 131,
      "outputs": [
        {
          "output_type": "execute_result",
          "data": {
            "text/html": [
              "<div>\n",
              "<style scoped>\n",
              "    .dataframe tbody tr th:only-of-type {\n",
              "        vertical-align: middle;\n",
              "    }\n",
              "\n",
              "    .dataframe tbody tr th {\n",
              "        vertical-align: top;\n",
              "    }\n",
              "\n",
              "    .dataframe thead th {\n",
              "        text-align: right;\n",
              "    }\n",
              "</style>\n",
              "<table border=\"1\" class=\"dataframe\">\n",
              "  <thead>\n",
              "    <tr style=\"text-align: right;\">\n",
              "      <th></th>\n",
              "      <th>Rating</th>\n",
              "      <th>Rev_verify</th>\n",
              "      <th>IC</th>\n",
              "      <th>Review</th>\n",
              "      <th>Rev_summ</th>\n",
              "      <th>rev_summary</th>\n",
              "    </tr>\n",
              "  </thead>\n",
              "  <tbody>\n",
              "    <tr>\n",
              "      <th>760440</th>\n",
              "      <td>5</td>\n",
              "      <td>True</td>\n",
              "      <td>B00MP1FBDS</td>\n",
              "      <td>Girlfriend loved this case</td>\n",
              "      <td>Five Stars</td>\n",
              "      <td>five stars</td>\n",
              "    </tr>\n",
              "    <tr>\n",
              "      <th>760441</th>\n",
              "      <td>4</td>\n",
              "      <td>True</td>\n",
              "      <td>B00E4S3038</td>\n",
              "      <td>Was not the best armband but you get what you ...</td>\n",
              "      <td>Was not the best armband but you get what you ...</td>\n",
              "      <td>best armband get pay</td>\n",
              "    </tr>\n",
              "    <tr>\n",
              "      <th>760442</th>\n",
              "      <td>5</td>\n",
              "      <td>True</td>\n",
              "      <td>B005LUBUT4</td>\n",
              "      <td>Good</td>\n",
              "      <td>Five Stars</td>\n",
              "      <td>five stars</td>\n",
              "    </tr>\n",
              "    <tr>\n",
              "      <th>760443</th>\n",
              "      <td>5</td>\n",
              "      <td>True</td>\n",
              "      <td>B00B9Q56WQ</td>\n",
              "      <td>I love this Nokia Lumia 620 unlocked phone!!! ...</td>\n",
              "      <td>GREAT windows phone!!!</td>\n",
              "      <td>great windows phone</td>\n",
              "    </tr>\n",
              "    <tr>\n",
              "      <th>760444</th>\n",
              "      <td>5</td>\n",
              "      <td>True</td>\n",
              "      <td>B00M8UFTQA</td>\n",
              "      <td>Great product</td>\n",
              "      <td>Five Stars</td>\n",
              "      <td>five stars</td>\n",
              "    </tr>\n",
              "    <tr>\n",
              "      <th>760445</th>\n",
              "      <td>4</td>\n",
              "      <td>False</td>\n",
              "      <td>B00C3V9M8A</td>\n",
              "      <td>Very good</td>\n",
              "      <td>Four Stars</td>\n",
              "      <td>four stars</td>\n",
              "    </tr>\n",
              "    <tr>\n",
              "      <th>760446</th>\n",
              "      <td>5</td>\n",
              "      <td>False</td>\n",
              "      <td>B0178BYS24</td>\n",
              "      <td>My name is Cynthia Beard and I believe that th...</td>\n",
              "      <td>... believe that the Samsung Galaxy car mount ...</td>\n",
              "      <td>believe samsung galaxy car mount great thing</td>\n",
              "    </tr>\n",
              "    <tr>\n",
              "      <th>760447</th>\n",
              "      <td>4</td>\n",
              "      <td>True</td>\n",
              "      <td>B009KY47CE</td>\n",
              "      <td>This iphone case is very durable and long last...</td>\n",
              "      <td>I LOVE THIS</td>\n",
              "      <td>love</td>\n",
              "    </tr>\n",
              "    <tr>\n",
              "      <th>760448</th>\n",
              "      <td>5</td>\n",
              "      <td>True</td>\n",
              "      <td>B00X60AYDY</td>\n",
              "      <td>great</td>\n",
              "      <td>Five Stars</td>\n",
              "      <td>five stars</td>\n",
              "    </tr>\n",
              "    <tr>\n",
              "      <th>760449</th>\n",
              "      <td>5</td>\n",
              "      <td>True</td>\n",
              "      <td>B00QLD3YTO</td>\n",
              "      <td>So so, it did not look like the picture advert...</td>\n",
              "      <td>Front cam has hole.</td>\n",
              "      <td>front cam hole</td>\n",
              "    </tr>\n",
              "  </tbody>\n",
              "</table>\n",
              "</div>"
            ],
            "text/plain": [
              "        Rating  ...                                   rev_summary\n",
              "760440       5  ...                                    five stars\n",
              "760441       4  ...                          best armband get pay\n",
              "760442       5  ...                                    five stars\n",
              "760443       5  ...                           great windows phone\n",
              "760444       5  ...                                    five stars\n",
              "760445       4  ...                                    four stars\n",
              "760446       5  ...  believe samsung galaxy car mount great thing\n",
              "760447       4  ...                                          love\n",
              "760448       5  ...                                    five stars\n",
              "760449       5  ...                                front cam hole\n",
              "\n",
              "[10 rows x 6 columns]"
            ]
          },
          "metadata": {
            "tags": []
          },
          "execution_count": 131
        }
      ]
    },
    {
      "cell_type": "code",
      "metadata": {
        "id": "eAKa-mj5jsIm"
      },
      "source": [
        "df=data.copy()"
      ],
      "execution_count": 204,
      "outputs": []
    },
    {
      "cell_type": "code",
      "metadata": {
        "id": "gxJFP6QnwjAy",
        "outputId": "1c8d7d80-6b2d-4288-9a9c-3cf82f1dd09f",
        "colab": {
          "base_uri": "https://localhost:8080/",
          "height": 35
        }
      },
      "source": [
        "df.shape"
      ],
      "execution_count": 180,
      "outputs": [
        {
          "output_type": "execute_result",
          "data": {
            "text/plain": [
              "(759602, 6)"
            ]
          },
          "metadata": {
            "tags": []
          },
          "execution_count": 180
        }
      ]
    },
    {
      "cell_type": "code",
      "metadata": {
        "id": "gtvhbxRbwkJD",
        "outputId": "3bfbff50-6e1b-4943-9c0d-d696ba6c4e38",
        "colab": {
          "base_uri": "https://localhost:8080/",
          "height": 35
        }
      },
      "source": [
        "df.columns"
      ],
      "execution_count": 181,
      "outputs": [
        {
          "output_type": "execute_result",
          "data": {
            "text/plain": [
              "Index(['Rating', 'Rev_verify', 'IC', 'Review', 'Rev_summ', 'rev_summary'], dtype='object')"
            ]
          },
          "metadata": {
            "tags": []
          },
          "execution_count": 181
        }
      ]
    },
    {
      "cell_type": "code",
      "metadata": {
        "id": "fSCR14zB32sH"
      },
      "source": [
        "# we will drop colummns 'Rev_verify','Review','Rev_summ'\n",
        "for col in ['Rev_verify','Review','Rev_summ']:\n",
        "  df.drop([col],1,inplace=True)\n"
      ],
      "execution_count": 205,
      "outputs": []
    },
    {
      "cell_type": "code",
      "metadata": {
        "id": "28zaP85G36pf",
        "outputId": "b3d90505-90d0-4440-e8f8-a839b92e2df3",
        "colab": {
          "base_uri": "https://localhost:8080/",
          "height": 35
        }
      },
      "source": [
        "df.shape"
      ],
      "execution_count": 183,
      "outputs": [
        {
          "output_type": "execute_result",
          "data": {
            "text/plain": [
              "(759602, 3)"
            ]
          },
          "metadata": {
            "tags": []
          },
          "execution_count": 183
        }
      ]
    },
    {
      "cell_type": "code",
      "metadata": {
        "id": "upcP_K_y6Vwg",
        "outputId": "954e8c1a-5341-4bb8-dcd5-9c32e0181209",
        "colab": {
          "base_uri": "https://localhost:8080/",
          "height": 206
        }
      },
      "source": [
        "df.head(5)"
      ],
      "execution_count": 184,
      "outputs": [
        {
          "output_type": "execute_result",
          "data": {
            "text/html": [
              "<div>\n",
              "<style scoped>\n",
              "    .dataframe tbody tr th:only-of-type {\n",
              "        vertical-align: middle;\n",
              "    }\n",
              "\n",
              "    .dataframe tbody tr th {\n",
              "        vertical-align: top;\n",
              "    }\n",
              "\n",
              "    .dataframe thead th {\n",
              "        text-align: right;\n",
              "    }\n",
              "</style>\n",
              "<table border=\"1\" class=\"dataframe\">\n",
              "  <thead>\n",
              "    <tr style=\"text-align: right;\">\n",
              "      <th></th>\n",
              "      <th>Rating</th>\n",
              "      <th>IC</th>\n",
              "      <th>rev_summary</th>\n",
              "    </tr>\n",
              "  </thead>\n",
              "  <tbody>\n",
              "    <tr>\n",
              "      <th>0</th>\n",
              "      <td>5</td>\n",
              "      <td>B009XD5TPQ</td>\n",
              "      <td>happy</td>\n",
              "    </tr>\n",
              "    <tr>\n",
              "      <th>1</th>\n",
              "      <td>5</td>\n",
              "      <td>B016MF3P3K</td>\n",
              "      <td>five stars</td>\n",
              "    </tr>\n",
              "    <tr>\n",
              "      <th>2</th>\n",
              "      <td>5</td>\n",
              "      <td>B008DC8N5G</td>\n",
              "      <td>long know put</td>\n",
              "    </tr>\n",
              "    <tr>\n",
              "      <th>3</th>\n",
              "      <td>3</td>\n",
              "      <td>B0089CH3TM</td>\n",
              "      <td>good case overall</td>\n",
              "    </tr>\n",
              "    <tr>\n",
              "      <th>4</th>\n",
              "      <td>4</td>\n",
              "      <td>B00AKZWGAC</td>\n",
              "      <td>awesome battery</td>\n",
              "    </tr>\n",
              "  </tbody>\n",
              "</table>\n",
              "</div>"
            ],
            "text/plain": [
              "   Rating          IC        rev_summary\n",
              "0       5  B009XD5TPQ              happy\n",
              "1       5  B016MF3P3K         five stars\n",
              "2       5  B008DC8N5G      long know put\n",
              "3       3  B0089CH3TM  good case overall\n",
              "4       4  B00AKZWGAC    awesome battery"
            ]
          },
          "metadata": {
            "tags": []
          },
          "execution_count": 184
        }
      ]
    },
    {
      "cell_type": "code",
      "metadata": {
        "id": "4KaCUiPoBngW"
      },
      "source": [
        "\n",
        "\n",
        "df['avg rating'] = df.groupby(['IC'])['Rating'].transform(lambda x: (x.mean()))"
      ],
      "execution_count": 211,
      "outputs": []
    },
    {
      "cell_type": "code",
      "metadata": {
        "id": "trq934IjFfv8"
      },
      "source": [
        "df['max rating'] = df.groupby(['IC'])['Rating'].transform(lambda x: (x.max()))"
      ],
      "execution_count": 212,
      "outputs": []
    },
    {
      "cell_type": "code",
      "metadata": {
        "id": "0DtwAdMLFuSG"
      },
      "source": [
        "df['min rating'] = df.groupby(['IC'])['Rating'].transform(lambda x: (x.min()))"
      ],
      "execution_count": 213,
      "outputs": []
    },
    {
      "cell_type": "code",
      "metadata": {
        "id": "gGMeuCBfB0LG",
        "outputId": "bed725b4-dc09-4915-cdd7-fb8f0570f404",
        "colab": {
          "base_uri": "https://localhost:8080/",
          "height": 206
        }
      },
      "source": [
        "df.head(5)"
      ],
      "execution_count": 225,
      "outputs": [
        {
          "output_type": "execute_result",
          "data": {
            "text/html": [
              "<div>\n",
              "<style scoped>\n",
              "    .dataframe tbody tr th:only-of-type {\n",
              "        vertical-align: middle;\n",
              "    }\n",
              "\n",
              "    .dataframe tbody tr th {\n",
              "        vertical-align: top;\n",
              "    }\n",
              "\n",
              "    .dataframe thead th {\n",
              "        text-align: right;\n",
              "    }\n",
              "</style>\n",
              "<table border=\"1\" class=\"dataframe\">\n",
              "  <thead>\n",
              "    <tr style=\"text-align: right;\">\n",
              "      <th></th>\n",
              "      <th>IC</th>\n",
              "      <th>rev_summary</th>\n",
              "      <th>avg rating</th>\n",
              "      <th>max rating</th>\n",
              "      <th>min rating</th>\n",
              "    </tr>\n",
              "  </thead>\n",
              "  <tbody>\n",
              "    <tr>\n",
              "      <th>0</th>\n",
              "      <td>B009XD5TPQ</td>\n",
              "      <td>happy</td>\n",
              "      <td>4.500000</td>\n",
              "      <td>5</td>\n",
              "      <td>2</td>\n",
              "    </tr>\n",
              "    <tr>\n",
              "      <th>1</th>\n",
              "      <td>B016MF3P3K</td>\n",
              "      <td>five stars</td>\n",
              "      <td>3.636364</td>\n",
              "      <td>5</td>\n",
              "      <td>1</td>\n",
              "    </tr>\n",
              "    <tr>\n",
              "      <th>2</th>\n",
              "      <td>B008DC8N5G</td>\n",
              "      <td>long know put</td>\n",
              "      <td>4.090909</td>\n",
              "      <td>5</td>\n",
              "      <td>1</td>\n",
              "    </tr>\n",
              "    <tr>\n",
              "      <th>3</th>\n",
              "      <td>B0089CH3TM</td>\n",
              "      <td>good case overall</td>\n",
              "      <td>4.457143</td>\n",
              "      <td>5</td>\n",
              "      <td>1</td>\n",
              "    </tr>\n",
              "    <tr>\n",
              "      <th>4</th>\n",
              "      <td>B00AKZWGAC</td>\n",
              "      <td>awesome battery</td>\n",
              "      <td>4.386935</td>\n",
              "      <td>5</td>\n",
              "      <td>1</td>\n",
              "    </tr>\n",
              "  </tbody>\n",
              "</table>\n",
              "</div>"
            ],
            "text/plain": [
              "           IC        rev_summary  avg rating  max rating  min rating\n",
              "0  B009XD5TPQ              happy    4.500000           5           2\n",
              "1  B016MF3P3K         five stars    3.636364           5           1\n",
              "2  B008DC8N5G      long know put    4.090909           5           1\n",
              "3  B0089CH3TM  good case overall    4.457143           5           1\n",
              "4  B00AKZWGAC    awesome battery    4.386935           5           1"
            ]
          },
          "metadata": {
            "tags": []
          },
          "execution_count": 225
        }
      ]
    },
    {
      "cell_type": "code",
      "metadata": {
        "id": "8YIK82leB12L",
        "outputId": "47fa797e-1f90-43f5-dbed-1c0f91bc1d83",
        "colab": {
          "base_uri": "https://localhost:8080/",
          "height": 35
        }
      },
      "source": [
        "df.shape"
      ],
      "execution_count": 215,
      "outputs": [
        {
          "output_type": "execute_result",
          "data": {
            "text/plain": [
              "(759602, 6)"
            ]
          },
          "metadata": {
            "tags": []
          },
          "execution_count": 215
        }
      ]
    },
    {
      "cell_type": "code",
      "metadata": {
        "id": "5s3-1rFF--Fx"
      },
      "source": [
        "# we can drop Rating column\n",
        "df.drop(['Rating'],1,inplace=True)"
      ],
      "execution_count": 216,
      "outputs": []
    },
    {
      "cell_type": "code",
      "metadata": {
        "id": "sW3SnyxoBmAg",
        "outputId": "c401b49b-7f88-412f-d2af-905461871dca",
        "colab": {
          "base_uri": "https://localhost:8080/",
          "height": 35
        }
      },
      "source": [
        "df.shape"
      ],
      "execution_count": 217,
      "outputs": [
        {
          "output_type": "execute_result",
          "data": {
            "text/plain": [
              "(759602, 5)"
            ]
          },
          "metadata": {
            "tags": []
          },
          "execution_count": 217
        }
      ]
    },
    {
      "cell_type": "code",
      "metadata": {
        "id": "AlzNcoTT_nbs"
      },
      "source": [
        "df1=df.copy()"
      ],
      "execution_count": 231,
      "outputs": []
    },
    {
      "cell_type": "code",
      "metadata": {
        "id": "VnsBpV4GJMeo",
        "outputId": "fb2c0a35-2bc0-4d62-f6a8-d4248ede9d26",
        "colab": {
          "base_uri": "https://localhost:8080/",
          "height": 363
        }
      },
      "source": [
        "df1.head(10)"
      ],
      "execution_count": 232,
      "outputs": [
        {
          "output_type": "execute_result",
          "data": {
            "text/html": [
              "<div>\n",
              "<style scoped>\n",
              "    .dataframe tbody tr th:only-of-type {\n",
              "        vertical-align: middle;\n",
              "    }\n",
              "\n",
              "    .dataframe tbody tr th {\n",
              "        vertical-align: top;\n",
              "    }\n",
              "\n",
              "    .dataframe thead th {\n",
              "        text-align: right;\n",
              "    }\n",
              "</style>\n",
              "<table border=\"1\" class=\"dataframe\">\n",
              "  <thead>\n",
              "    <tr style=\"text-align: right;\">\n",
              "      <th></th>\n",
              "      <th>IC</th>\n",
              "      <th>rev_summary</th>\n",
              "      <th>avg rating</th>\n",
              "      <th>max rating</th>\n",
              "      <th>min rating</th>\n",
              "    </tr>\n",
              "  </thead>\n",
              "  <tbody>\n",
              "    <tr>\n",
              "      <th>0</th>\n",
              "      <td>B009XD5TPQ</td>\n",
              "      <td>happy</td>\n",
              "      <td>4.500000</td>\n",
              "      <td>5</td>\n",
              "      <td>2</td>\n",
              "    </tr>\n",
              "    <tr>\n",
              "      <th>1</th>\n",
              "      <td>B016MF3P3K</td>\n",
              "      <td>five stars</td>\n",
              "      <td>3.636364</td>\n",
              "      <td>5</td>\n",
              "      <td>1</td>\n",
              "    </tr>\n",
              "    <tr>\n",
              "      <th>2</th>\n",
              "      <td>B008DC8N5G</td>\n",
              "      <td>long know put</td>\n",
              "      <td>4.090909</td>\n",
              "      <td>5</td>\n",
              "      <td>1</td>\n",
              "    </tr>\n",
              "    <tr>\n",
              "      <th>3</th>\n",
              "      <td>B0089CH3TM</td>\n",
              "      <td>good case overall</td>\n",
              "      <td>4.457143</td>\n",
              "      <td>5</td>\n",
              "      <td>1</td>\n",
              "    </tr>\n",
              "    <tr>\n",
              "      <th>4</th>\n",
              "      <td>B00AKZWGAC</td>\n",
              "      <td>awesome battery</td>\n",
              "      <td>4.386935</td>\n",
              "      <td>5</td>\n",
              "      <td>1</td>\n",
              "    </tr>\n",
              "    <tr>\n",
              "      <th>5</th>\n",
              "      <td>B00MAWPGMI</td>\n",
              "      <td>five stars</td>\n",
              "      <td>4.437500</td>\n",
              "      <td>5</td>\n",
              "      <td>1</td>\n",
              "    </tr>\n",
              "    <tr>\n",
              "      <th>6</th>\n",
              "      <td>B00NB7B4GI</td>\n",
              "      <td>simple good quality iphone 6 case</td>\n",
              "      <td>4.857143</td>\n",
              "      <td>5</td>\n",
              "      <td>4</td>\n",
              "    </tr>\n",
              "    <tr>\n",
              "      <th>7</th>\n",
              "      <td>B00NMR6N7W</td>\n",
              "      <td>perfect</td>\n",
              "      <td>4.750000</td>\n",
              "      <td>5</td>\n",
              "      <td>4</td>\n",
              "    </tr>\n",
              "    <tr>\n",
              "      <th>8</th>\n",
              "      <td>B018V60504</td>\n",
              "      <td>make sure items work miss return window time</td>\n",
              "      <td>4.222222</td>\n",
              "      <td>5</td>\n",
              "      <td>1</td>\n",
              "    </tr>\n",
              "    <tr>\n",
              "      <th>9</th>\n",
              "      <td>B00PG8TID6</td>\n",
              "      <td>clever design combines battery pack working ip...</td>\n",
              "      <td>4.420000</td>\n",
              "      <td>5</td>\n",
              "      <td>1</td>\n",
              "    </tr>\n",
              "  </tbody>\n",
              "</table>\n",
              "</div>"
            ],
            "text/plain": [
              "           IC  ... min rating\n",
              "0  B009XD5TPQ  ...          2\n",
              "1  B016MF3P3K  ...          1\n",
              "2  B008DC8N5G  ...          1\n",
              "3  B0089CH3TM  ...          1\n",
              "4  B00AKZWGAC  ...          1\n",
              "5  B00MAWPGMI  ...          1\n",
              "6  B00NB7B4GI  ...          4\n",
              "7  B00NMR6N7W  ...          4\n",
              "8  B018V60504  ...          1\n",
              "9  B00PG8TID6  ...          1\n",
              "\n",
              "[10 rows x 5 columns]"
            ]
          },
          "metadata": {
            "tags": []
          },
          "execution_count": 232
        }
      ]
    },
    {
      "cell_type": "code",
      "metadata": {
        "id": "qRbr2Ba8_p-o",
        "outputId": "335d2508-9ae0-47a6-b392-eb24d9348fa9",
        "colab": {
          "base_uri": "https://localhost:8080/",
          "height": 35
        }
      },
      "source": [
        "df1.shape"
      ],
      "execution_count": 195,
      "outputs": [
        {
          "output_type": "execute_result",
          "data": {
            "text/plain": [
              "(759602, 5)"
            ]
          },
          "metadata": {
            "tags": []
          },
          "execution_count": 195
        }
      ]
    },
    {
      "cell_type": "code",
      "metadata": {
        "id": "-bEUvVq9ItEu"
      },
      "source": [
        "import json"
      ],
      "execution_count": 233,
      "outputs": []
    },
    {
      "cell_type": "code",
      "metadata": {
        "id": "7wH2XMKiQjdv"
      },
      "source": [
        "df1.to_json('/content/drive/My Drive/final_data.JSON')\n",
        "\n"
      ],
      "execution_count": 236,
      "outputs": []
    },
    {
      "cell_type": "code",
      "metadata": {
        "id": "uc786M6f_2hp"
      },
      "source": [
        "\n",
        "  \n",
        "# dropping ALL duplicte values \n",
        "df1.drop_duplicates(subset =\"IC\", \n",
        "                     keep = False, inplace = True) "
      ],
      "execution_count": 228,
      "outputs": []
    },
    {
      "cell_type": "code",
      "metadata": {
        "id": "l8xy1j4bBHbl",
        "outputId": "f2e415b3-237a-4f5c-f5ae-386176277d4e",
        "colab": {
          "base_uri": "https://localhost:8080/",
          "height": 35
        }
      },
      "source": [
        "df1.shape"
      ],
      "execution_count": 229,
      "outputs": [
        {
          "output_type": "execute_result",
          "data": {
            "text/plain": [
              "(431, 5)"
            ]
          },
          "metadata": {
            "tags": []
          },
          "execution_count": 229
        }
      ]
    },
    {
      "cell_type": "code",
      "metadata": {
        "id": "nEAWa3CdBIlP",
        "outputId": "e4879c68-4a67-4957-fcbe-e07a21995613",
        "colab": {
          "base_uri": "https://localhost:8080/",
          "height": 363
        }
      },
      "source": [
        "df1.head(10)"
      ],
      "execution_count": 230,
      "outputs": [
        {
          "output_type": "execute_result",
          "data": {
            "text/html": [
              "<div>\n",
              "<style scoped>\n",
              "    .dataframe tbody tr th:only-of-type {\n",
              "        vertical-align: middle;\n",
              "    }\n",
              "\n",
              "    .dataframe tbody tr th {\n",
              "        vertical-align: top;\n",
              "    }\n",
              "\n",
              "    .dataframe thead th {\n",
              "        text-align: right;\n",
              "    }\n",
              "</style>\n",
              "<table border=\"1\" class=\"dataframe\">\n",
              "  <thead>\n",
              "    <tr style=\"text-align: right;\">\n",
              "      <th></th>\n",
              "      <th>IC</th>\n",
              "      <th>rev_summary</th>\n",
              "      <th>avg rating</th>\n",
              "      <th>max rating</th>\n",
              "      <th>min rating</th>\n",
              "    </tr>\n",
              "  </thead>\n",
              "  <tbody>\n",
              "    <tr>\n",
              "      <th>960</th>\n",
              "      <td>B000X39TOM</td>\n",
              "      <td>disappointing</td>\n",
              "      <td>2.0</td>\n",
              "      <td>2</td>\n",
              "      <td>2</td>\n",
              "    </tr>\n",
              "    <tr>\n",
              "      <th>2675</th>\n",
              "      <td>B0006FLA80</td>\n",
              "      <td>palmone rom update fixes flaws</td>\n",
              "      <td>5.0</td>\n",
              "      <td>5</td>\n",
              "      <td>5</td>\n",
              "    </tr>\n",
              "    <tr>\n",
              "      <th>3757</th>\n",
              "      <td>B00G9FVS56</td>\n",
              "      <td>quick easy purchase performing well</td>\n",
              "      <td>4.0</td>\n",
              "      <td>4</td>\n",
              "      <td>4</td>\n",
              "    </tr>\n",
              "    <tr>\n",
              "      <th>4255</th>\n",
              "      <td>B01H1MITGQ</td>\n",
              "      <td>good fit easy install cracked within week</td>\n",
              "      <td>3.0</td>\n",
              "      <td>3</td>\n",
              "      <td>3</td>\n",
              "    </tr>\n",
              "    <tr>\n",
              "      <th>9371</th>\n",
              "      <td>B00JE6BF6O</td>\n",
              "      <td>five stars</td>\n",
              "      <td>5.0</td>\n",
              "      <td>5</td>\n",
              "      <td>5</td>\n",
              "    </tr>\n",
              "    <tr>\n",
              "      <th>11112</th>\n",
              "      <td>B00BBVG9UC</td>\n",
              "      <td>snugg silicone case</td>\n",
              "      <td>5.0</td>\n",
              "      <td>5</td>\n",
              "      <td>5</td>\n",
              "    </tr>\n",
              "    <tr>\n",
              "      <th>11422</th>\n",
              "      <td>B0091959C0</td>\n",
              "      <td>great purchase</td>\n",
              "      <td>5.0</td>\n",
              "      <td>5</td>\n",
              "      <td>5</td>\n",
              "    </tr>\n",
              "    <tr>\n",
              "      <th>13229</th>\n",
              "      <td>B00QIMGQYS</td>\n",
              "      <td>built last</td>\n",
              "      <td>5.0</td>\n",
              "      <td>5</td>\n",
              "      <td>5</td>\n",
              "    </tr>\n",
              "    <tr>\n",
              "      <th>13914</th>\n",
              "      <td>B0188U7DQ2</td>\n",
              "      <td>useful protective cell phone product</td>\n",
              "      <td>5.0</td>\n",
              "      <td>5</td>\n",
              "      <td>5</td>\n",
              "    </tr>\n",
              "    <tr>\n",
              "      <th>14891</th>\n",
              "      <td>B00G9GZLNU</td>\n",
              "      <td>luvvit great company like specific product</td>\n",
              "      <td>5.0</td>\n",
              "      <td>5</td>\n",
              "      <td>5</td>\n",
              "    </tr>\n",
              "  </tbody>\n",
              "</table>\n",
              "</div>"
            ],
            "text/plain": [
              "               IC  ... min rating\n",
              "960    B000X39TOM  ...          2\n",
              "2675   B0006FLA80  ...          5\n",
              "3757   B00G9FVS56  ...          4\n",
              "4255   B01H1MITGQ  ...          3\n",
              "9371   B00JE6BF6O  ...          5\n",
              "11112  B00BBVG9UC  ...          5\n",
              "11422  B0091959C0  ...          5\n",
              "13229  B00QIMGQYS  ...          5\n",
              "13914  B0188U7DQ2  ...          5\n",
              "14891  B00G9GZLNU  ...          5\n",
              "\n",
              "[10 rows x 5 columns]"
            ]
          },
          "metadata": {
            "tags": []
          },
          "execution_count": 230
        }
      ]
    },
    {
      "cell_type": "code",
      "metadata": {
        "id": "re_gop33BPtO"
      },
      "source": [
        ""
      ],
      "execution_count": 191,
      "outputs": []
    },
    {
      "cell_type": "code",
      "metadata": {
        "id": "lHQhDyENBQa_"
      },
      "source": [
        ""
      ],
      "execution_count": 191,
      "outputs": []
    },
    {
      "cell_type": "code",
      "metadata": {
        "id": "UKa6R_j1BYjz"
      },
      "source": [
        ""
      ],
      "execution_count": 191,
      "outputs": []
    },
    {
      "cell_type": "code",
      "metadata": {
        "id": "iYfRb1EbBZ7u"
      },
      "source": [
        ""
      ],
      "execution_count": null,
      "outputs": []
    }
  ]
}