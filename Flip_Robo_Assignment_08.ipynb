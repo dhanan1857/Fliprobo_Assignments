{
 "cells": [
  {
   "cell_type": "code",
   "execution_count": 1,
   "metadata": {},
   "outputs": [],
   "source": [
    "#14. Write a python program to check whether a webpage contains a title or not.\n",
    "# Importing libraries\n",
    "import requests\n",
    "from bs4 import BeautifulSoup\n",
    "import pandas as pd"
   ]
  },
  {
   "cell_type": "code",
   "execution_count": 15,
   "metadata": {},
   "outputs": [
    {
     "name": "stdout",
     "output_type": "stream",
     "text": [
      "<h1 class=\"heading1\" data-articletitle=\"\" data-keywords=\"Data Science salary,data science courses,Data Science certification,data science career,Data Science,career in data science\" style=\"\"><arttitle>Career in Data Science in India: Courses, certifications, salary &amp; future growth</arttitle></h1>\n"
     ]
    }
   ],
   "source": [
    "def getTitle(url):\n",
    "    res=requests.get(url=url)\n",
    "    soup=BeautifulSoup(res.text,\"html.parser\")\n",
    "    title=soup.body.h1\n",
    "    \n",
    "    return title\n",
    "    \n",
    "    \n",
    "    title=getTitle(url)\n",
    "    if title== None:\n",
    "        return \"Title could not be found\"\n",
    "    else:\n",
    "        return title\n",
    "print(getTitle(\"https://timesofindia.indiatimes.com/home/education/news/career-in-data-science-in-india-courses-certification-salary-future-growth/articleshow/75023624.cms?\"))"
   ]
  },
  {
   "cell_type": "code",
   "execution_count": 16,
   "metadata": {},
   "outputs": [],
   "source": [
    "#15 Write a python program to access the search bar and search button on images.google.com."
   ]
  },
  {
   "cell_type": "code",
   "execution_count": 21,
   "metadata": {},
   "outputs": [
    {
     "name": "stdout",
     "output_type": "stream",
     "text": [
      "Collecting google\n",
      "  Downloading https://files.pythonhosted.org/packages/ac/35/17c9141c4ae21e9a29a43acdfd848e3e468a810517f862cad07977bf8fe9/google-3.0.0-py2.py3-none-any.whl (45kB)\n",
      "Requirement already satisfied: beautifulsoup4 in c:\\dhananjay\\lib\\site-packages (from google) (4.7.1)\n",
      "Requirement already satisfied: soupsieve>=1.2 in c:\\dhananjay\\lib\\site-packages (from beautifulsoup4->google) (1.8)\n",
      "Installing collected packages: google\n",
      "Successfully installed google-3.0.0\n"
     ]
    }
   ],
   "source": [
    "!pip install google"
   ]
  },
  {
   "cell_type": "code",
   "execution_count": 26,
   "metadata": {},
   "outputs": [
    {
     "name": "stdout",
     "output_type": "stream",
     "text": [
      "https://www.datasciencesociety.net/data-science-career-path-after-college/\n",
      "https://en.wikipedia.org/wiki/Data_science\n",
      "https://www.coursera.org/specializations/jhu-data-science\n",
      "https://www.coursera.org/specializations/jhu-data-science#instructors\n",
      "https://www.coursera.org/specializations/jhu-data-science#enroll\n",
      "https://en.wikipedia.org/wiki/Big_data\n",
      "https://en.wikipedia.org/wiki/Unstructured_data\n",
      "https://en.wikipedia.org/wiki/Jim_Gray_(computer_scientist)\n",
      "https://www.innoarchitech.com/blog/what-is-data-science-does-data-scientist-do\n",
      "https://www.edx.org/course/subject/data-science\n"
     ]
    }
   ],
   "source": [
    "\n",
    "try: \n",
    "    from googlesearch import search \n",
    "except ImportError:  \n",
    "    print(\"No module named 'google' found\") \n",
    "  \n",
    "# to search \n",
    "query = \"Data Science\"\n",
    "  \n",
    "for j in search(query, tld=\"co.in\", num=10,stop=10,pause=2): \n",
    "    print(j) \n"
   ]
  },
  {
   "cell_type": "code",
   "execution_count": null,
   "metadata": {},
   "outputs": [],
   "source": []
  }
 ],
 "metadata": {
  "kernelspec": {
   "display_name": "Python 3",
   "language": "python",
   "name": "python3"
  },
  "language_info": {
   "codemirror_mode": {
    "name": "ipython",
    "version": 3
   },
   "file_extension": ".py",
   "mimetype": "text/x-python",
   "name": "python",
   "nbconvert_exporter": "python",
   "pygments_lexer": "ipython3",
   "version": "3.7.3"
  }
 },
 "nbformat": 4,
 "nbformat_minor": 2
}
